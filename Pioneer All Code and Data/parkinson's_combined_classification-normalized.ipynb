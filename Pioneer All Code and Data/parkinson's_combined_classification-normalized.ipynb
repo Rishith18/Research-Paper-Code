{
 "cells": [
  {
   "cell_type": "markdown",
   "id": "44906f51",
   "metadata": {
    "papermill": {
     "duration": 0.019448,
     "end_time": "2021-08-22T13:42:54.086556",
     "exception": false,
     "start_time": "2021-08-22T13:42:54.067108",
     "status": "completed"
    },
    "tags": []
   },
   "source": [
    "---\n",
    "### Import Libraries"
   ]
  },
  {
   "cell_type": "code",
   "execution_count": null,
   "id": "ce013dc1",
   "metadata": {
    "_kg_hide-output": true,
    "execution": {
     "iopub.execute_input": "2021-08-22T13:42:54.135030Z",
     "iopub.status.busy": "2021-08-22T13:42:54.132993Z",
     "iopub.status.idle": "2021-08-22T13:44:00.695440Z",
     "shell.execute_reply": "2021-08-22T13:44:00.697038Z",
     "shell.execute_reply.started": "2021-08-22T12:57:10.665838Z"
    },
    "papermill": {
     "duration": 66.590092,
     "end_time": "2021-08-22T13:44:00.697582",
     "exception": false,
     "start_time": "2021-08-22T13:42:54.107490",
     "status": "completed"
    },
    "tags": []
   },
   "outputs": [],
   "source": [
    "!pip install pycaret\n",
    "\n",
    "import numpy as np\n",
    "import pandas as pd\n",
    "import matplotlib.pyplot as plt\n",
    "import seaborn as sns\n",
    "\n",
    "from pycaret.classification import *\n",
    "\n",
    "from sklearn.metrics import *\n",
    "import scikitplot as skplt\n",
    "\n",
    "df = pd.read_csv(\"normalized_combined_dataset.csv\")"
   ]
  },
  {
   "cell_type": "markdown",
   "id": "4f9f6707",
   "metadata": {
    "papermill": {
     "duration": 0.200932,
     "end_time": "2021-08-22T13:44:01.087579",
     "exception": false,
     "start_time": "2021-08-22T13:44:00.886647",
     "status": "completed"
    },
    "tags": []
   },
   "source": [
    "### Exploratory Data Analysis"
   ]
  },
  {
   "cell_type": "code",
   "execution_count": 7,
   "id": "cf92b1af",
   "metadata": {
    "execution": {
     "iopub.execute_input": "2021-08-22T13:44:01.401878Z",
     "iopub.status.busy": "2021-08-22T13:44:01.401122Z",
     "iopub.status.idle": "2021-08-22T13:44:01.442987Z",
     "shell.execute_reply": "2021-08-22T13:44:01.443583Z",
     "shell.execute_reply.started": "2021-08-22T12:57:18.548301Z"
    },
    "papermill": {
     "duration": 0.176424,
     "end_time": "2021-08-22T13:44:01.443764",
     "exception": false,
     "start_time": "2021-08-22T13:44:01.267340",
     "status": "completed"
    },
    "tags": []
   },
   "outputs": [
    {
     "data": {
      "text/html": [
       "<div>\n",
       "<style scoped>\n",
       "    .dataframe tbody tr th:only-of-type {\n",
       "        vertical-align: middle;\n",
       "    }\n",
       "\n",
       "    .dataframe tbody tr th {\n",
       "        vertical-align: top;\n",
       "    }\n",
       "\n",
       "    .dataframe thead th {\n",
       "        text-align: right;\n",
       "    }\n",
       "</style>\n",
       "<table border=\"1\" class=\"dataframe\">\n",
       "  <thead>\n",
       "    <tr style=\"text-align: right;\">\n",
       "      <th></th>\n",
       "      <th>MDVP:RAP</th>\n",
       "      <th>MDVP:Shimmer</th>\n",
       "      <th>NHR</th>\n",
       "      <th>HNR</th>\n",
       "      <th>status</th>\n",
       "      <th>RPDE</th>\n",
       "      <th>DFA</th>\n",
       "    </tr>\n",
       "  </thead>\n",
       "  <tbody>\n",
       "    <tr>\n",
       "      <th>0</th>\n",
       "      <td>0.0303</td>\n",
       "      <td>0.244</td>\n",
       "      <td>0.0774</td>\n",
       "      <td>0.523</td>\n",
       "      <td>1.0</td>\n",
       "      <td>0.654</td>\n",
       "      <td>0.617</td>\n",
       "    </tr>\n",
       "    <tr>\n",
       "      <th>1</th>\n",
       "      <td>0.0233</td>\n",
       "      <td>0.227</td>\n",
       "      <td>0.0377</td>\n",
       "      <td>0.607</td>\n",
       "      <td>1.0</td>\n",
       "      <td>0.600</td>\n",
       "      <td>0.530</td>\n",
       "    </tr>\n",
       "    <tr>\n",
       "      <th>2</th>\n",
       "      <td>0.0257</td>\n",
       "      <td>0.432</td>\n",
       "      <td>0.0559</td>\n",
       "      <td>0.478</td>\n",
       "      <td>1.0</td>\n",
       "      <td>0.683</td>\n",
       "      <td>0.460</td>\n",
       "    </tr>\n",
       "    <tr>\n",
       "      <th>3</th>\n",
       "      <td>0.0686</td>\n",
       "      <td>0.224</td>\n",
       "      <td>0.0900</td>\n",
       "      <td>0.552</td>\n",
       "      <td>1.0</td>\n",
       "      <td>0.688</td>\n",
       "      <td>0.908</td>\n",
       "    </tr>\n",
       "    <tr>\n",
       "      <th>4</th>\n",
       "      <td>0.0766</td>\n",
       "      <td>0.231</td>\n",
       "      <td>0.0577</td>\n",
       "      <td>0.542</td>\n",
       "      <td>1.0</td>\n",
       "      <td>0.584</td>\n",
       "      <td>0.913</td>\n",
       "    </tr>\n",
       "  </tbody>\n",
       "</table>\n",
       "</div>"
      ],
      "text/plain": [
       "   MDVP:RAP  MDVP:Shimmer     NHR    HNR  status   RPDE    DFA\n",
       "0    0.0303         0.244  0.0774  0.523     1.0  0.654  0.617\n",
       "1    0.0233         0.227  0.0377  0.607     1.0  0.600  0.530\n",
       "2    0.0257         0.432  0.0559  0.478     1.0  0.683  0.460\n",
       "3    0.0686         0.224  0.0900  0.552     1.0  0.688  0.908\n",
       "4    0.0766         0.231  0.0577  0.542     1.0  0.584  0.913"
      ]
     },
     "execution_count": 7,
     "metadata": {},
     "output_type": "execute_result"
    }
   ],
   "source": [
    "df.head()"
   ]
  },
  {
   "cell_type": "code",
   "execution_count": 8,
   "id": "29d79b90",
   "metadata": {
    "execution": {
     "iopub.execute_input": "2021-08-22T13:44:01.655329Z",
     "iopub.status.busy": "2021-08-22T13:44:01.654575Z",
     "iopub.status.idle": "2021-08-22T13:44:01.659264Z",
     "shell.execute_reply": "2021-08-22T13:44:01.659733Z",
     "shell.execute_reply.started": "2021-08-22T12:57:18.584337Z"
    },
    "papermill": {
     "duration": 0.121683,
     "end_time": "2021-08-22T13:44:01.659972",
     "exception": false,
     "start_time": "2021-08-22T13:44:01.538289",
     "status": "completed"
    },
    "tags": []
   },
   "outputs": [
    {
     "name": "stdout",
     "output_type": "stream",
     "text": [
      "<class 'pandas.core.frame.DataFrame'>\n",
      "RangeIndex: 350 entries, 0 to 349\n",
      "Data columns (total 7 columns):\n",
      " #   Column        Non-Null Count  Dtype  \n",
      "---  ------        --------------  -----  \n",
      " 0   MDVP:RAP      350 non-null    float64\n",
      " 1   MDVP:Shimmer  350 non-null    float64\n",
      " 2   NHR           350 non-null    float64\n",
      " 3   HNR           350 non-null    float64\n",
      " 4   status        350 non-null    float64\n",
      " 5   RPDE          350 non-null    float64\n",
      " 6   DFA           350 non-null    float64\n",
      "dtypes: float64(7)\n",
      "memory usage: 19.3 KB\n"
     ]
    }
   ],
   "source": [
    "df.info()"
   ]
  },
  {
   "cell_type": "code",
   "execution_count": 9,
   "id": "c2b0f878",
   "metadata": {
    "execution": {
     "iopub.execute_input": "2021-08-22T13:44:01.862259Z",
     "iopub.status.busy": "2021-08-22T13:44:01.861498Z",
     "iopub.status.idle": "2021-08-22T13:44:01.949476Z",
     "shell.execute_reply": "2021-08-22T13:44:01.950029Z",
     "shell.execute_reply.started": "2021-08-22T12:57:18.605303Z"
    },
    "papermill": {
     "duration": 0.19426,
     "end_time": "2021-08-22T13:44:01.950212",
     "exception": false,
     "start_time": "2021-08-22T13:44:01.755952",
     "status": "completed"
    },
    "tags": []
   },
   "outputs": [
    {
     "data": {
      "text/html": [
       "<div>\n",
       "<style scoped>\n",
       "    .dataframe tbody tr th:only-of-type {\n",
       "        vertical-align: middle;\n",
       "    }\n",
       "\n",
       "    .dataframe tbody tr th {\n",
       "        vertical-align: top;\n",
       "    }\n",
       "\n",
       "    .dataframe thead th {\n",
       "        text-align: right;\n",
       "    }\n",
       "</style>\n",
       "<table border=\"1\" class=\"dataframe\">\n",
       "  <thead>\n",
       "    <tr style=\"text-align: right;\">\n",
       "      <th></th>\n",
       "      <th>MDVP:RAP</th>\n",
       "      <th>MDVP:Shimmer</th>\n",
       "      <th>NHR</th>\n",
       "      <th>HNR</th>\n",
       "      <th>status</th>\n",
       "      <th>RPDE</th>\n",
       "      <th>DFA</th>\n",
       "    </tr>\n",
       "  </thead>\n",
       "  <tbody>\n",
       "    <tr>\n",
       "      <th>count</th>\n",
       "      <td>350.000000</td>\n",
       "      <td>350.000000</td>\n",
       "      <td>350.000000</td>\n",
       "      <td>350.000000</td>\n",
       "      <td>350.000000</td>\n",
       "      <td>350.000000</td>\n",
       "      <td>350.000000</td>\n",
       "    </tr>\n",
       "    <tr>\n",
       "      <th>mean</th>\n",
       "      <td>0.088292</td>\n",
       "      <td>0.190671</td>\n",
       "      <td>0.071504</td>\n",
       "      <td>0.582082</td>\n",
       "      <td>0.751429</td>\n",
       "      <td>0.525939</td>\n",
       "      <td>0.548183</td>\n",
       "    </tr>\n",
       "    <tr>\n",
       "      <th>std</th>\n",
       "      <td>0.122787</td>\n",
       "      <td>0.168513</td>\n",
       "      <td>0.135024</td>\n",
       "      <td>0.172316</td>\n",
       "      <td>0.432804</td>\n",
       "      <td>0.201116</td>\n",
       "      <td>0.236139</td>\n",
       "    </tr>\n",
       "    <tr>\n",
       "      <th>min</th>\n",
       "      <td>0.000000</td>\n",
       "      <td>0.000000</td>\n",
       "      <td>0.000000</td>\n",
       "      <td>0.000000</td>\n",
       "      <td>0.000000</td>\n",
       "      <td>0.000000</td>\n",
       "      <td>0.000000</td>\n",
       "    </tr>\n",
       "    <tr>\n",
       "      <th>25%</th>\n",
       "      <td>0.011700</td>\n",
       "      <td>0.064225</td>\n",
       "      <td>0.011675</td>\n",
       "      <td>0.487250</td>\n",
       "      <td>1.000000</td>\n",
       "      <td>0.372000</td>\n",
       "      <td>0.357500</td>\n",
       "    </tr>\n",
       "    <tr>\n",
       "      <th>50%</th>\n",
       "      <td>0.053000</td>\n",
       "      <td>0.142500</td>\n",
       "      <td>0.027650</td>\n",
       "      <td>0.593000</td>\n",
       "      <td>1.000000</td>\n",
       "      <td>0.530500</td>\n",
       "      <td>0.549000</td>\n",
       "    </tr>\n",
       "    <tr>\n",
       "      <th>75%</th>\n",
       "      <td>0.115500</td>\n",
       "      <td>0.262500</td>\n",
       "      <td>0.059400</td>\n",
       "      <td>0.713250</td>\n",
       "      <td>1.000000</td>\n",
       "      <td>0.681750</td>\n",
       "      <td>0.744750</td>\n",
       "    </tr>\n",
       "    <tr>\n",
       "      <th>max</th>\n",
       "      <td>1.000000</td>\n",
       "      <td>1.000000</td>\n",
       "      <td>1.000000</td>\n",
       "      <td>1.000000</td>\n",
       "      <td>1.000000</td>\n",
       "      <td>1.000000</td>\n",
       "      <td>1.000000</td>\n",
       "    </tr>\n",
       "  </tbody>\n",
       "</table>\n",
       "</div>"
      ],
      "text/plain": [
       "         MDVP:RAP  MDVP:Shimmer         NHR         HNR      status  \\\n",
       "count  350.000000    350.000000  350.000000  350.000000  350.000000   \n",
       "mean     0.088292      0.190671    0.071504    0.582082    0.751429   \n",
       "std      0.122787      0.168513    0.135024    0.172316    0.432804   \n",
       "min      0.000000      0.000000    0.000000    0.000000    0.000000   \n",
       "25%      0.011700      0.064225    0.011675    0.487250    1.000000   \n",
       "50%      0.053000      0.142500    0.027650    0.593000    1.000000   \n",
       "75%      0.115500      0.262500    0.059400    0.713250    1.000000   \n",
       "max      1.000000      1.000000    1.000000    1.000000    1.000000   \n",
       "\n",
       "             RPDE         DFA  \n",
       "count  350.000000  350.000000  \n",
       "mean     0.525939    0.548183  \n",
       "std      0.201116    0.236139  \n",
       "min      0.000000    0.000000  \n",
       "25%      0.372000    0.357500  \n",
       "50%      0.530500    0.549000  \n",
       "75%      0.681750    0.744750  \n",
       "max      1.000000    1.000000  "
      ]
     },
     "execution_count": 9,
     "metadata": {},
     "output_type": "execute_result"
    }
   ],
   "source": [
    "df.describe()"
   ]
  },
  {
   "cell_type": "code",
   "execution_count": 10,
   "id": "e3c58feb",
   "metadata": {
    "execution": {
     "iopub.execute_input": "2021-08-22T13:44:02.175752Z",
     "iopub.status.busy": "2021-08-22T13:44:02.155625Z",
     "iopub.status.idle": "2021-08-22T13:44:02.331055Z",
     "shell.execute_reply": "2021-08-22T13:44:02.330114Z",
     "shell.execute_reply.started": "2021-08-22T13:10:53.887822Z"
    },
    "papermill": {
     "duration": 0.283587,
     "end_time": "2021-08-22T13:44:02.331211",
     "exception": false,
     "start_time": "2021-08-22T13:44:02.047624",
     "status": "completed"
    },
    "tags": []
   },
   "outputs": [
    {
     "data": {
      "image/png": "[encoded data removed]",
      "text/plain": [
       "<Figure size 800x550 with 1 Axes>"
      ]
     },
     "metadata": {},
     "output_type": "display_data"
    }
   ],
   "source": [
    "ax = sns.countplot(x=\"status\", data=df)"
   ]
  },
  {
   "cell_type": "markdown",
   "id": "7d94ebd3",
   "metadata": {
    "papermill": {
     "duration": 0.097288,
     "end_time": "2021-08-22T13:44:02.525169",
     "exception": false,
     "start_time": "2021-08-22T13:44:02.427881",
     "status": "completed"
    },
    "tags": []
   },
   "source": [
    "### Split training & test dataset"
   ]
  },
  {
   "cell_type": "code",
   "execution_count": 11,
   "id": "dba5459f",
   "metadata": {
    "execution": {
     "iopub.execute_input": "2021-08-22T13:44:02.773035Z",
     "iopub.status.busy": "2021-08-22T13:44:02.751625Z",
     "iopub.status.idle": "2021-08-22T13:44:03.132665Z",
     "shell.execute_reply": "2021-08-22T13:44:03.132055Z",
     "shell.execute_reply.started": "2021-08-22T13:10:58.093989Z"
    },
    "papermill": {
     "duration": 0.512104,
     "end_time": "2021-08-22T13:44:03.132842",
     "exception": false,
     "start_time": "2021-08-22T13:44:02.620738",
     "status": "completed"
    },
    "tags": []
   },
   "outputs": [
    {
     "data": {
      "image/png": "[encoded data removed]",
      "text/plain": [
       "<Figure size 600x300 with 2 Axes>"
      ]
     },
     "metadata": {},
     "output_type": "display_data"
    },
    {
     "name": "stdout",
     "output_type": "stream",
     "text": [
      "Training dataset           : 315\n",
      "Unseen data for validation : 35\n"
     ]
    }
   ],
   "source": [
    "test_df = df.sample(frac=0.1)\n",
    "train_df = df.drop(test_df.index).reset_index(drop=True)\n",
    "test_df = test_df.reset_index(drop=True)\n",
    "\n",
    "test_df['set'] = 'test'\n",
    "train_df['set'] = 'train'\n",
    "\n",
    "ax = sns.catplot(x=\"status\", col=\"set\", data=pd.concat([train_df, test_df]), kind=\"count\", height=3)\n",
    "plt.show()\n",
    "\n",
    "print('Training dataset           :', len(train_df))\n",
    "print('Unseen data for validation :', len(test_df))"
   ]
  },
  {
   "cell_type": "markdown",
   "id": "4d95ab14",
   "metadata": {
    "papermill": {
     "duration": 0.09522,
     "end_time": "2021-08-22T13:44:03.326083",
     "exception": false,
     "start_time": "2021-08-22T13:44:03.230863",
     "status": "completed"
    },
    "tags": []
   },
   "source": [
    "### Setup environment"
   ]
  },
  {
   "cell_type": "code",
   "execution_count": 12,
   "id": "c5abd9d8",
   "metadata": {
    "_kg_hide-output": true,
    "execution": {
     "iopub.execute_input": "2021-08-22T13:44:03.526391Z",
     "iopub.status.busy": "2021-08-22T13:44:03.525372Z",
     "iopub.status.idle": "2021-08-22T13:44:05.261406Z",
     "shell.execute_reply": "2021-08-22T13:44:05.260580Z",
     "shell.execute_reply.started": "2021-08-22T13:10:59.713092Z"
    },
    "jupyter": {
     "outputs_hidden": true
    },
    "papermill": {
     "duration": 1.838067,
     "end_time": "2021-08-22T13:44:05.261574",
     "exception": false,
     "start_time": "2021-08-22T13:44:03.423507",
     "status": "completed"
    },
    "scrolled": true,
    "tags": []
   },
   "outputs": [
    {
     "data": {
      "text/html": [
       "<style type=\"text/css\">\n",
       "#T_16aea_row10_col1, #T_16aea_row16_col1, #T_16aea_row18_col1 {\n",
       "  background-color: lightgreen;\n",
       "}\n",
       "</style>\n",
       "<table id=\"T_16aea\">\n",
       "  <thead>\n",
       "    <tr>\n",
       "      <th class=\"blank level0\" >&nbsp;</th>\n",
       "      <th id=\"T_16aea_level0_col0\" class=\"col_heading level0 col0\" >Description</th>\n",
       "      <th id=\"T_16aea_level0_col1\" class=\"col_heading level0 col1\" >Value</th>\n",
       "    </tr>\n",
       "  </thead>\n",
       "  <tbody>\n",
       "    <tr>\n",
       "      <th id=\"T_16aea_level0_row0\" class=\"row_heading level0 row0\" >0</th>\n",
       "      <td id=\"T_16aea_row0_col0\" class=\"data row0 col0\" >Session id</td>\n",
       "      <td id=\"T_16aea_row0_col1\" class=\"data row0 col1\" >123</td>\n",
       "    </tr>\n",
       "    <tr>\n",
       "      <th id=\"T_16aea_level0_row1\" class=\"row_heading level0 row1\" >1</th>\n",
       "      <td id=\"T_16aea_row1_col0\" class=\"data row1 col0\" >Target</td>\n",
       "      <td id=\"T_16aea_row1_col1\" class=\"data row1 col1\" >status</td>\n",
       "    </tr>\n",
       "    <tr>\n",
       "      <th id=\"T_16aea_level0_row2\" class=\"row_heading level0 row2\" >2</th>\n",
       "      <td id=\"T_16aea_row2_col0\" class=\"data row2 col0\" >Target type</td>\n",
       "      <td id=\"T_16aea_row2_col1\" class=\"data row2 col1\" >Binary</td>\n",
       "    </tr>\n",
       "    <tr>\n",
       "      <th id=\"T_16aea_level0_row3\" class=\"row_heading level0 row3\" >3</th>\n",
       "      <td id=\"T_16aea_row3_col0\" class=\"data row3 col0\" >Original data shape</td>\n",
       "      <td id=\"T_16aea_row3_col1\" class=\"data row3 col1\" >(315, 8)</td>\n",
       "    </tr>\n",
       "    <tr>\n",
       "      <th id=\"T_16aea_level0_row4\" class=\"row_heading level0 row4\" >4</th>\n",
       "      <td id=\"T_16aea_row4_col0\" class=\"data row4 col0\" >Transformed data shape</td>\n",
       "      <td id=\"T_16aea_row4_col1\" class=\"data row4 col1\" >(411, 8)</td>\n",
       "    </tr>\n",
       "    <tr>\n",
       "      <th id=\"T_16aea_level0_row5\" class=\"row_heading level0 row5\" >5</th>\n",
       "      <td id=\"T_16aea_row5_col0\" class=\"data row5 col0\" >Transformed train set shape</td>\n",
       "      <td id=\"T_16aea_row5_col1\" class=\"data row5 col1\" >(316, 8)</td>\n",
       "    </tr>\n",
       "    <tr>\n",
       "      <th id=\"T_16aea_level0_row6\" class=\"row_heading level0 row6\" >6</th>\n",
       "      <td id=\"T_16aea_row6_col0\" class=\"data row6 col0\" >Transformed test set shape</td>\n",
       "      <td id=\"T_16aea_row6_col1\" class=\"data row6 col1\" >(95, 8)</td>\n",
       "    </tr>\n",
       "    <tr>\n",
       "      <th id=\"T_16aea_level0_row7\" class=\"row_heading level0 row7\" >7</th>\n",
       "      <td id=\"T_16aea_row7_col0\" class=\"data row7 col0\" >Ignore features</td>\n",
       "      <td id=\"T_16aea_row7_col1\" class=\"data row7 col1\" >1</td>\n",
       "    </tr>\n",
       "    <tr>\n",
       "      <th id=\"T_16aea_level0_row8\" class=\"row_heading level0 row8\" >8</th>\n",
       "      <td id=\"T_16aea_row8_col0\" class=\"data row8 col0\" >Numeric features</td>\n",
       "      <td id=\"T_16aea_row8_col1\" class=\"data row8 col1\" >6</td>\n",
       "    </tr>\n",
       "    <tr>\n",
       "      <th id=\"T_16aea_level0_row9\" class=\"row_heading level0 row9\" >9</th>\n",
       "      <td id=\"T_16aea_row9_col0\" class=\"data row9 col0\" >Categorical features</td>\n",
       "      <td id=\"T_16aea_row9_col1\" class=\"data row9 col1\" >1</td>\n",
       "    </tr>\n",
       "    <tr>\n",
       "      <th id=\"T_16aea_level0_row10\" class=\"row_heading level0 row10\" >10</th>\n",
       "      <td id=\"T_16aea_row10_col0\" class=\"data row10 col0\" >Preprocess</td>\n",
       "      <td id=\"T_16aea_row10_col1\" class=\"data row10 col1\" >True</td>\n",
       "    </tr>\n",
       "    <tr>\n",
       "      <th id=\"T_16aea_level0_row11\" class=\"row_heading level0 row11\" >11</th>\n",
       "      <td id=\"T_16aea_row11_col0\" class=\"data row11 col0\" >Imputation type</td>\n",
       "      <td id=\"T_16aea_row11_col1\" class=\"data row11 col1\" >simple</td>\n",
       "    </tr>\n",
       "    <tr>\n",
       "      <th id=\"T_16aea_level0_row12\" class=\"row_heading level0 row12\" >12</th>\n",
       "      <td id=\"T_16aea_row12_col0\" class=\"data row12 col0\" >Numeric imputation</td>\n",
       "      <td id=\"T_16aea_row12_col1\" class=\"data row12 col1\" >mean</td>\n",
       "    </tr>\n",
       "    <tr>\n",
       "      <th id=\"T_16aea_level0_row13\" class=\"row_heading level0 row13\" >13</th>\n",
       "      <td id=\"T_16aea_row13_col0\" class=\"data row13 col0\" >Categorical imputation</td>\n",
       "      <td id=\"T_16aea_row13_col1\" class=\"data row13 col1\" >mode</td>\n",
       "    </tr>\n",
       "    <tr>\n",
       "      <th id=\"T_16aea_level0_row14\" class=\"row_heading level0 row14\" >14</th>\n",
       "      <td id=\"T_16aea_row14_col0\" class=\"data row14 col0\" >Maximum one-hot encoding</td>\n",
       "      <td id=\"T_16aea_row14_col1\" class=\"data row14 col1\" >25</td>\n",
       "    </tr>\n",
       "    <tr>\n",
       "      <th id=\"T_16aea_level0_row15\" class=\"row_heading level0 row15\" >15</th>\n",
       "      <td id=\"T_16aea_row15_col0\" class=\"data row15 col0\" >Encoding method</td>\n",
       "      <td id=\"T_16aea_row15_col1\" class=\"data row15 col1\" >None</td>\n",
       "    </tr>\n",
       "    <tr>\n",
       "      <th id=\"T_16aea_level0_row16\" class=\"row_heading level0 row16\" >16</th>\n",
       "      <td id=\"T_16aea_row16_col0\" class=\"data row16 col0\" >Remove outliers</td>\n",
       "      <td id=\"T_16aea_row16_col1\" class=\"data row16 col1\" >True</td>\n",
       "    </tr>\n",
       "    <tr>\n",
       "      <th id=\"T_16aea_level0_row17\" class=\"row_heading level0 row17\" >17</th>\n",
       "      <td id=\"T_16aea_row17_col0\" class=\"data row17 col0\" >Outliers threshold</td>\n",
       "      <td id=\"T_16aea_row17_col1\" class=\"data row17 col1\" >0.050000</td>\n",
       "    </tr>\n",
       "    <tr>\n",
       "      <th id=\"T_16aea_level0_row18\" class=\"row_heading level0 row18\" >18</th>\n",
       "      <td id=\"T_16aea_row18_col0\" class=\"data row18 col0\" >Fix imbalance</td>\n",
       "      <td id=\"T_16aea_row18_col1\" class=\"data row18 col1\" >True</td>\n",
       "    </tr>\n",
       "    <tr>\n",
       "      <th id=\"T_16aea_level0_row19\" class=\"row_heading level0 row19\" >19</th>\n",
       "      <td id=\"T_16aea_row19_col0\" class=\"data row19 col0\" >Fix imbalance method</td>\n",
       "      <td id=\"T_16aea_row19_col1\" class=\"data row19 col1\" >SMOTE</td>\n",
       "    </tr>\n",
       "    <tr>\n",
       "      <th id=\"T_16aea_level0_row20\" class=\"row_heading level0 row20\" >20</th>\n",
       "      <td id=\"T_16aea_row20_col0\" class=\"data row20 col0\" >Fold Generator</td>\n",
       "      <td id=\"T_16aea_row20_col1\" class=\"data row20 col1\" >StratifiedKFold</td>\n",
       "    </tr>\n",
       "    <tr>\n",
       "      <th id=\"T_16aea_level0_row21\" class=\"row_heading level0 row21\" >21</th>\n",
       "      <td id=\"T_16aea_row21_col0\" class=\"data row21 col0\" >Fold Number</td>\n",
       "      <td id=\"T_16aea_row21_col1\" class=\"data row21 col1\" >10</td>\n",
       "    </tr>\n",
       "    <tr>\n",
       "      <th id=\"T_16aea_level0_row22\" class=\"row_heading level0 row22\" >22</th>\n",
       "      <td id=\"T_16aea_row22_col0\" class=\"data row22 col0\" >CPU Jobs</td>\n",
       "      <td id=\"T_16aea_row22_col1\" class=\"data row22 col1\" >-1</td>\n",
       "    </tr>\n",
       "    <tr>\n",
       "      <th id=\"T_16aea_level0_row23\" class=\"row_heading level0 row23\" >23</th>\n",
       "      <td id=\"T_16aea_row23_col0\" class=\"data row23 col0\" >Use GPU</td>\n",
       "      <td id=\"T_16aea_row23_col1\" class=\"data row23 col1\" >False</td>\n",
       "    </tr>\n",
       "    <tr>\n",
       "      <th id=\"T_16aea_level0_row24\" class=\"row_heading level0 row24\" >24</th>\n",
       "      <td id=\"T_16aea_row24_col0\" class=\"data row24 col0\" >Log Experiment</td>\n",
       "      <td id=\"T_16aea_row24_col1\" class=\"data row24 col1\" >False</td>\n",
       "    </tr>\n",
       "    <tr>\n",
       "      <th id=\"T_16aea_level0_row25\" class=\"row_heading level0 row25\" >25</th>\n",
       "      <td id=\"T_16aea_row25_col0\" class=\"data row25 col0\" >Experiment Name</td>\n",
       "      <td id=\"T_16aea_row25_col1\" class=\"data row25 col1\" >clf-default-name</td>\n",
       "    </tr>\n",
       "    <tr>\n",
       "      <th id=\"T_16aea_level0_row26\" class=\"row_heading level0 row26\" >26</th>\n",
       "      <td id=\"T_16aea_row26_col0\" class=\"data row26 col0\" >USI</td>\n",
       "      <td id=\"T_16aea_row26_col1\" class=\"data row26 col1\" >095a</td>\n",
       "    </tr>\n",
       "  </tbody>\n",
       "</table>\n"
      ],
      "text/plain": [
       "<pandas.io.formats.style.Styler at 0x7ff1b0ab8ac0>"
      ]
     },
     "metadata": {},
     "output_type": "display_data"
    }
   ],
   "source": [
    "clf1 = setup(data = train_df, target = 'status',ignore_features = ['name'], fix_imbalance=True, session_id=123, remove_outliers = True)\n",
    "\n",
    "\n"
   ]
  },
  {
   "cell_type": "markdown",
   "id": "13cc7476",
   "metadata": {
    "papermill": {
     "duration": 0.098835,
     "end_time": "2021-08-22T13:44:05.459851",
     "exception": false,
     "start_time": "2021-08-22T13:44:05.361016",
     "status": "completed"
    },
    "tags": []
   },
   "source": [
    "### Model selection"
   ]
  },
  {
   "cell_type": "code",
   "execution_count": 8,
   "id": "20cfd0e0",
   "metadata": {
    "execution": {
     "iopub.execute_input": "2021-08-22T13:44:05.674835Z",
     "iopub.status.busy": "2021-08-22T13:44:05.673863Z",
     "iopub.status.idle": "2021-08-22T13:45:31.857756Z",
     "shell.execute_reply": "2021-08-22T13:45:31.857228Z",
     "shell.execute_reply.started": "2021-08-22T13:11:03.510927Z"
    },
    "papermill": {
     "duration": 86.300381,
     "end_time": "2021-08-22T13:45:31.857898",
     "exception": false,
     "start_time": "2021-08-22T13:44:05.557517",
     "status": "completed"
    },
    "tags": []
   },
   "outputs": [
    {
     "data": {
      "text/html": [],
      "text/plain": [
       "<IPython.core.display.HTML object>"
      ]
     },
     "metadata": {},
     "output_type": "display_data"
    },
    {
     "data": {
      "text/html": [
       "<style type=\"text/css\">\n",
       "#T_6afa7 th {\n",
       "  text-align: left;\n",
       "}\n",
       "#T_6afa7_row0_col0, #T_6afa7_row0_col2, #T_6afa7_row0_col4, #T_6afa7_row1_col0, #T_6afa7_row1_col1, #T_6afa7_row1_col3, #T_6afa7_row1_col4, #T_6afa7_row1_col5, #T_6afa7_row1_col6, #T_6afa7_row1_col7, #T_6afa7_row2_col0, #T_6afa7_row2_col1, #T_6afa7_row2_col2, #T_6afa7_row2_col3, #T_6afa7_row2_col4, #T_6afa7_row2_col5, #T_6afa7_row2_col6, #T_6afa7_row2_col7, #T_6afa7_row3_col0, #T_6afa7_row3_col1, #T_6afa7_row3_col2, #T_6afa7_row3_col3, #T_6afa7_row3_col4, #T_6afa7_row3_col5, #T_6afa7_row3_col6, #T_6afa7_row3_col7, #T_6afa7_row4_col0, #T_6afa7_row4_col1, #T_6afa7_row4_col2, #T_6afa7_row4_col3, #T_6afa7_row4_col4, #T_6afa7_row4_col5, #T_6afa7_row4_col6, #T_6afa7_row4_col7, #T_6afa7_row5_col0, #T_6afa7_row5_col1, #T_6afa7_row5_col2, #T_6afa7_row5_col3, #T_6afa7_row5_col4, #T_6afa7_row5_col5, #T_6afa7_row5_col6, #T_6afa7_row5_col7, #T_6afa7_row6_col0, #T_6afa7_row6_col1, #T_6afa7_row6_col2, #T_6afa7_row6_col3, #T_6afa7_row6_col4, #T_6afa7_row6_col5, #T_6afa7_row6_col6, #T_6afa7_row6_col7, #T_6afa7_row7_col0, #T_6afa7_row7_col1, #T_6afa7_row7_col2, #T_6afa7_row7_col3, #T_6afa7_row7_col4, #T_6afa7_row7_col5, #T_6afa7_row7_col6, #T_6afa7_row7_col7, #T_6afa7_row8_col0, #T_6afa7_row8_col1, #T_6afa7_row8_col2, #T_6afa7_row8_col3, #T_6afa7_row8_col4, #T_6afa7_row8_col5, #T_6afa7_row8_col6, #T_6afa7_row8_col7, #T_6afa7_row9_col0, #T_6afa7_row9_col1, #T_6afa7_row9_col2, #T_6afa7_row9_col3, #T_6afa7_row9_col4, #T_6afa7_row9_col5, #T_6afa7_row9_col6, #T_6afa7_row9_col7, #T_6afa7_row10_col0, #T_6afa7_row10_col1, #T_6afa7_row10_col2, #T_6afa7_row10_col3, #T_6afa7_row10_col4, #T_6afa7_row10_col5, #T_6afa7_row10_col6, #T_6afa7_row10_col7, #T_6afa7_row11_col0, #T_6afa7_row11_col1, #T_6afa7_row11_col2, #T_6afa7_row11_col3, #T_6afa7_row11_col5, #T_6afa7_row11_col6, #T_6afa7_row11_col7, #T_6afa7_row12_col0, #T_6afa7_row12_col1, #T_6afa7_row12_col2, #T_6afa7_row12_col3, #T_6afa7_row12_col4, #T_6afa7_row12_col5, #T_6afa7_row12_col6, #T_6afa7_row12_col7, #T_6afa7_row13_col0, #T_6afa7_row13_col1, #T_6afa7_row13_col2, #T_6afa7_row13_col3, #T_6afa7_row13_col4, #T_6afa7_row13_col5, #T_6afa7_row13_col6, #T_6afa7_row13_col7 {\n",
       "  text-align: left;\n",
       "}\n",
       "#T_6afa7_row0_col1, #T_6afa7_row0_col3, #T_6afa7_row0_col5, #T_6afa7_row0_col6, #T_6afa7_row0_col7, #T_6afa7_row1_col2, #T_6afa7_row11_col4 {\n",
       "  text-align: left;\n",
       "  background-color: yellow;\n",
       "}\n",
       "#T_6afa7_row0_col8, #T_6afa7_row1_col8, #T_6afa7_row2_col8, #T_6afa7_row3_col8, #T_6afa7_row4_col8, #T_6afa7_row5_col8, #T_6afa7_row7_col8, #T_6afa7_row8_col8, #T_6afa7_row9_col8, #T_6afa7_row10_col8, #T_6afa7_row11_col8, #T_6afa7_row12_col8, #T_6afa7_row13_col8 {\n",
       "  text-align: left;\n",
       "  background-color: lightgrey;\n",
       "}\n",
       "#T_6afa7_row6_col8 {\n",
       "  text-align: left;\n",
       "  background-color: yellow;\n",
       "  background-color: lightgrey;\n",
       "}\n",
       "</style>\n",
       "<table id=\"T_6afa7\">\n",
       "  <thead>\n",
       "    <tr>\n",
       "      <th class=\"blank level0\" >&nbsp;</th>\n",
       "      <th id=\"T_6afa7_level0_col0\" class=\"col_heading level0 col0\" >Model</th>\n",
       "      <th id=\"T_6afa7_level0_col1\" class=\"col_heading level0 col1\" >Accuracy</th>\n",
       "      <th id=\"T_6afa7_level0_col2\" class=\"col_heading level0 col2\" >AUC</th>\n",
       "      <th id=\"T_6afa7_level0_col3\" class=\"col_heading level0 col3\" >Recall</th>\n",
       "      <th id=\"T_6afa7_level0_col4\" class=\"col_heading level0 col4\" >Prec.</th>\n",
       "      <th id=\"T_6afa7_level0_col5\" class=\"col_heading level0 col5\" >F1</th>\n",
       "      <th id=\"T_6afa7_level0_col6\" class=\"col_heading level0 col6\" >Kappa</th>\n",
       "      <th id=\"T_6afa7_level0_col7\" class=\"col_heading level0 col7\" >MCC</th>\n",
       "      <th id=\"T_6afa7_level0_col8\" class=\"col_heading level0 col8\" >TT (Sec)</th>\n",
       "    </tr>\n",
       "  </thead>\n",
       "  <tbody>\n",
       "    <tr>\n",
       "      <th id=\"T_6afa7_level0_row0\" class=\"row_heading level0 row0\" >et</th>\n",
       "      <td id=\"T_6afa7_row0_col0\" class=\"data row0 col0\" >Extra Trees Classifier</td>\n",
       "      <td id=\"T_6afa7_row0_col1\" class=\"data row0 col1\" >0.7915</td>\n",
       "      <td id=\"T_6afa7_row0_col2\" class=\"data row0 col2\" >0.7784</td>\n",
       "      <td id=\"T_6afa7_row0_col3\" class=\"data row0 col3\" >0.8658</td>\n",
       "      <td id=\"T_6afa7_row0_col4\" class=\"data row0 col4\" >0.8660</td>\n",
       "      <td id=\"T_6afa7_row0_col5\" class=\"data row0 col5\" >0.8624</td>\n",
       "      <td id=\"T_6afa7_row0_col6\" class=\"data row0 col6\" >0.4129</td>\n",
       "      <td id=\"T_6afa7_row0_col7\" class=\"data row0 col7\" >0.4247</td>\n",
       "      <td id=\"T_6afa7_row0_col8\" class=\"data row0 col8\" >0.6220</td>\n",
       "    </tr>\n",
       "    <tr>\n",
       "      <th id=\"T_6afa7_level0_row1\" class=\"row_heading level0 row1\" >lightgbm</th>\n",
       "      <td id=\"T_6afa7_row1_col0\" class=\"data row1 col0\" >Light Gradient Boosting Machine</td>\n",
       "      <td id=\"T_6afa7_row1_col1\" class=\"data row1 col1\" >0.7832</td>\n",
       "      <td id=\"T_6afa7_row1_col2\" class=\"data row1 col2\" >0.8049</td>\n",
       "      <td id=\"T_6afa7_row1_col3\" class=\"data row1 col3\" >0.8450</td>\n",
       "      <td id=\"T_6afa7_row1_col4\" class=\"data row1 col4\" >0.8734</td>\n",
       "      <td id=\"T_6afa7_row1_col5\" class=\"data row1 col5\" >0.8563</td>\n",
       "      <td id=\"T_6afa7_row1_col6\" class=\"data row1 col6\" >0.4013</td>\n",
       "      <td id=\"T_6afa7_row1_col7\" class=\"data row1 col7\" >0.4131</td>\n",
       "      <td id=\"T_6afa7_row1_col8\" class=\"data row1 col8\" >0.5660</td>\n",
       "    </tr>\n",
       "    <tr>\n",
       "      <th id=\"T_6afa7_level0_row2\" class=\"row_heading level0 row2\" >rf</th>\n",
       "      <td id=\"T_6afa7_row2_col0\" class=\"data row2 col0\" >Random Forest Classifier</td>\n",
       "      <td id=\"T_6afa7_row2_col1\" class=\"data row2 col1\" >0.7587</td>\n",
       "      <td id=\"T_6afa7_row2_col2\" class=\"data row2 col2\" >0.7871</td>\n",
       "      <td id=\"T_6afa7_row2_col3\" class=\"data row2 col3\" >0.8289</td>\n",
       "      <td id=\"T_6afa7_row2_col4\" class=\"data row2 col4\" >0.8563</td>\n",
       "      <td id=\"T_6afa7_row2_col5\" class=\"data row2 col5\" >0.8396</td>\n",
       "      <td id=\"T_6afa7_row2_col6\" class=\"data row2 col6\" >0.3394</td>\n",
       "      <td id=\"T_6afa7_row2_col7\" class=\"data row2 col7\" >0.3470</td>\n",
       "      <td id=\"T_6afa7_row2_col8\" class=\"data row2 col8\" >0.5730</td>\n",
       "    </tr>\n",
       "    <tr>\n",
       "      <th id=\"T_6afa7_level0_row3\" class=\"row_heading level0 row3\" >gbc</th>\n",
       "      <td id=\"T_6afa7_row3_col0\" class=\"data row3 col0\" >Gradient Boosting Classifier</td>\n",
       "      <td id=\"T_6afa7_row3_col1\" class=\"data row3 col1\" >0.7583</td>\n",
       "      <td id=\"T_6afa7_row3_col2\" class=\"data row3 col2\" >0.7920</td>\n",
       "      <td id=\"T_6afa7_row3_col3\" class=\"data row3 col3\" >0.8345</td>\n",
       "      <td id=\"T_6afa7_row3_col4\" class=\"data row3 col4\" >0.8517</td>\n",
       "      <td id=\"T_6afa7_row3_col5\" class=\"data row3 col5\" >0.8404</td>\n",
       "      <td id=\"T_6afa7_row3_col6\" class=\"data row3 col6\" >0.3311</td>\n",
       "      <td id=\"T_6afa7_row3_col7\" class=\"data row3 col7\" >0.3393</td>\n",
       "      <td id=\"T_6afa7_row3_col8\" class=\"data row3 col8\" >0.4910</td>\n",
       "    </tr>\n",
       "    <tr>\n",
       "      <th id=\"T_6afa7_level0_row4\" class=\"row_heading level0 row4\" >dt</th>\n",
       "      <td id=\"T_6afa7_row4_col0\" class=\"data row4 col0\" >Decision Tree Classifier</td>\n",
       "      <td id=\"T_6afa7_row4_col1\" class=\"data row4 col1\" >0.7335</td>\n",
       "      <td id=\"T_6afa7_row4_col2\" class=\"data row4 col2\" >0.6393</td>\n",
       "      <td id=\"T_6afa7_row4_col3\" class=\"data row4 col3\" >0.8120</td>\n",
       "      <td id=\"T_6afa7_row4_col4\" class=\"data row4 col4\" >0.8341</td>\n",
       "      <td id=\"T_6afa7_row4_col5\" class=\"data row4 col5\" >0.8204</td>\n",
       "      <td id=\"T_6afa7_row4_col6\" class=\"data row4 col6\" >0.2795</td>\n",
       "      <td id=\"T_6afa7_row4_col7\" class=\"data row4 col7\" >0.2838</td>\n",
       "      <td id=\"T_6afa7_row4_col8\" class=\"data row4 col8\" >0.3290</td>\n",
       "    </tr>\n",
       "    <tr>\n",
       "      <th id=\"T_6afa7_level0_row5\" class=\"row_heading level0 row5\" >ada</th>\n",
       "      <td id=\"T_6afa7_row5_col0\" class=\"data row5 col0\" >Ada Boost Classifier</td>\n",
       "      <td id=\"T_6afa7_row5_col1\" class=\"data row5 col1\" >0.7015</td>\n",
       "      <td id=\"T_6afa7_row5_col2\" class=\"data row5 col2\" >0.6915</td>\n",
       "      <td id=\"T_6afa7_row5_col3\" class=\"data row5 col3\" >0.7599</td>\n",
       "      <td id=\"T_6afa7_row5_col4\" class=\"data row5 col4\" >0.8353</td>\n",
       "      <td id=\"T_6afa7_row5_col5\" class=\"data row5 col5\" >0.7935</td>\n",
       "      <td id=\"T_6afa7_row5_col6\" class=\"data row5 col6\" >0.2508</td>\n",
       "      <td id=\"T_6afa7_row5_col7\" class=\"data row5 col7\" >0.2582</td>\n",
       "      <td id=\"T_6afa7_row5_col8\" class=\"data row5 col8\" >0.4670</td>\n",
       "    </tr>\n",
       "    <tr>\n",
       "      <th id=\"T_6afa7_level0_row6\" class=\"row_heading level0 row6\" >knn</th>\n",
       "      <td id=\"T_6afa7_row6_col0\" class=\"data row6 col0\" >K Neighbors Classifier</td>\n",
       "      <td id=\"T_6afa7_row6_col1\" class=\"data row6 col1\" >0.6855</td>\n",
       "      <td id=\"T_6afa7_row6_col2\" class=\"data row6 col2\" >0.6998</td>\n",
       "      <td id=\"T_6afa7_row6_col3\" class=\"data row6 col3\" >0.7178</td>\n",
       "      <td id=\"T_6afa7_row6_col4\" class=\"data row6 col4\" >0.8568</td>\n",
       "      <td id=\"T_6afa7_row6_col5\" class=\"data row6 col5\" >0.7756</td>\n",
       "      <td id=\"T_6afa7_row6_col6\" class=\"data row6 col6\" >0.2484</td>\n",
       "      <td id=\"T_6afa7_row6_col7\" class=\"data row6 col7\" >0.2686</td>\n",
       "      <td id=\"T_6afa7_row6_col8\" class=\"data row6 col8\" >0.3040</td>\n",
       "    </tr>\n",
       "    <tr>\n",
       "      <th id=\"T_6afa7_level0_row7\" class=\"row_heading level0 row7\" >lda</th>\n",
       "      <td id=\"T_6afa7_row7_col0\" class=\"data row7 col0\" >Linear Discriminant Analysis</td>\n",
       "      <td id=\"T_6afa7_row7_col1\" class=\"data row7 col1\" >0.6853</td>\n",
       "      <td id=\"T_6afa7_row7_col2\" class=\"data row7 col2\" >0.7780</td>\n",
       "      <td id=\"T_6afa7_row7_col3\" class=\"data row7 col3\" >0.6912</td>\n",
       "      <td id=\"T_6afa7_row7_col4\" class=\"data row7 col4\" >0.8740</td>\n",
       "      <td id=\"T_6afa7_row7_col5\" class=\"data row7 col5\" >0.7696</td>\n",
       "      <td id=\"T_6afa7_row7_col6\" class=\"data row7 col6\" >0.2899</td>\n",
       "      <td id=\"T_6afa7_row7_col7\" class=\"data row7 col7\" >0.3124</td>\n",
       "      <td id=\"T_6afa7_row7_col8\" class=\"data row7 col8\" >0.3620</td>\n",
       "    </tr>\n",
       "    <tr>\n",
       "      <th id=\"T_6afa7_level0_row8\" class=\"row_heading level0 row8\" >ridge</th>\n",
       "      <td id=\"T_6afa7_row8_col0\" class=\"data row8 col0\" >Ridge Classifier</td>\n",
       "      <td id=\"T_6afa7_row8_col1\" class=\"data row8 col1\" >0.6682</td>\n",
       "      <td id=\"T_6afa7_row8_col2\" class=\"data row8 col2\" >0.0000</td>\n",
       "      <td id=\"T_6afa7_row8_col3\" class=\"data row8 col3\" >0.6702</td>\n",
       "      <td id=\"T_6afa7_row8_col4\" class=\"data row8 col4\" >0.8721</td>\n",
       "      <td id=\"T_6afa7_row8_col5\" class=\"data row8 col5\" >0.7521</td>\n",
       "      <td id=\"T_6afa7_row8_col6\" class=\"data row8 col6\" >0.2698</td>\n",
       "      <td id=\"T_6afa7_row8_col7\" class=\"data row8 col7\" >0.2947</td>\n",
       "      <td id=\"T_6afa7_row8_col8\" class=\"data row8 col8\" >0.3220</td>\n",
       "    </tr>\n",
       "    <tr>\n",
       "      <th id=\"T_6afa7_level0_row9\" class=\"row_heading level0 row9\" >lr</th>\n",
       "      <td id=\"T_6afa7_row9_col0\" class=\"data row9 col0\" >Logistic Regression</td>\n",
       "      <td id=\"T_6afa7_row9_col1\" class=\"data row9 col1\" >0.6647</td>\n",
       "      <td id=\"T_6afa7_row9_col2\" class=\"data row9 col2\" >0.7403</td>\n",
       "      <td id=\"T_6afa7_row9_col3\" class=\"data row9 col3\" >0.6599</td>\n",
       "      <td id=\"T_6afa7_row9_col4\" class=\"data row9 col4\" >0.8769</td>\n",
       "      <td id=\"T_6afa7_row9_col5\" class=\"data row9 col5\" >0.7465</td>\n",
       "      <td id=\"T_6afa7_row9_col6\" class=\"data row9 col6\" >0.2723</td>\n",
       "      <td id=\"T_6afa7_row9_col7\" class=\"data row9 col7\" >0.2986</td>\n",
       "      <td id=\"T_6afa7_row9_col8\" class=\"data row9 col8\" >0.9380</td>\n",
       "    </tr>\n",
       "    <tr>\n",
       "      <th id=\"T_6afa7_level0_row10\" class=\"row_heading level0 row10\" >svm</th>\n",
       "      <td id=\"T_6afa7_row10_col0\" class=\"data row10 col0\" >SVM - Linear Kernel</td>\n",
       "      <td id=\"T_6afa7_row10_col1\" class=\"data row10 col1\" >0.6608</td>\n",
       "      <td id=\"T_6afa7_row10_col2\" class=\"data row10 col2\" >0.0000</td>\n",
       "      <td id=\"T_6afa7_row10_col3\" class=\"data row10 col3\" >0.7123</td>\n",
       "      <td id=\"T_6afa7_row10_col4\" class=\"data row10 col4\" >0.8610</td>\n",
       "      <td id=\"T_6afa7_row10_col5\" class=\"data row10 col5\" >0.7203</td>\n",
       "      <td id=\"T_6afa7_row10_col6\" class=\"data row10 col6\" >0.1499</td>\n",
       "      <td id=\"T_6afa7_row10_col7\" class=\"data row10 col7\" >0.1898</td>\n",
       "      <td id=\"T_6afa7_row10_col8\" class=\"data row10 col8\" >0.3210</td>\n",
       "    </tr>\n",
       "    <tr>\n",
       "      <th id=\"T_6afa7_level0_row11\" class=\"row_heading level0 row11\" >nb</th>\n",
       "      <td id=\"T_6afa7_row11_col0\" class=\"data row11 col0\" >Naive Bayes</td>\n",
       "      <td id=\"T_6afa7_row11_col1\" class=\"data row11 col1\" >0.5952</td>\n",
       "      <td id=\"T_6afa7_row11_col2\" class=\"data row11 col2\" >0.7059</td>\n",
       "      <td id=\"T_6afa7_row11_col3\" class=\"data row11 col3\" >0.5591</td>\n",
       "      <td id=\"T_6afa7_row11_col4\" class=\"data row11 col4\" >0.8832</td>\n",
       "      <td id=\"T_6afa7_row11_col5\" class=\"data row11 col5\" >0.6724</td>\n",
       "      <td id=\"T_6afa7_row11_col6\" class=\"data row11 col6\" >0.2004</td>\n",
       "      <td id=\"T_6afa7_row11_col7\" class=\"data row11 col7\" >0.2478</td>\n",
       "      <td id=\"T_6afa7_row11_col8\" class=\"data row11 col8\" >0.3110</td>\n",
       "    </tr>\n",
       "    <tr>\n",
       "      <th id=\"T_6afa7_level0_row12\" class=\"row_heading level0 row12\" >qda</th>\n",
       "      <td id=\"T_6afa7_row12_col0\" class=\"data row12 col0\" >Quadratic Discriminant Analysis</td>\n",
       "      <td id=\"T_6afa7_row12_col1\" class=\"data row12 col1\" >0.2325</td>\n",
       "      <td id=\"T_6afa7_row12_col2\" class=\"data row12 col2\" >0.0000</td>\n",
       "      <td id=\"T_6afa7_row12_col3\" class=\"data row12 col3\" >0.0000</td>\n",
       "      <td id=\"T_6afa7_row12_col4\" class=\"data row12 col4\" >0.0000</td>\n",
       "      <td id=\"T_6afa7_row12_col5\" class=\"data row12 col5\" >0.0000</td>\n",
       "      <td id=\"T_6afa7_row12_col6\" class=\"data row12 col6\" >0.0000</td>\n",
       "      <td id=\"T_6afa7_row12_col7\" class=\"data row12 col7\" >0.0000</td>\n",
       "      <td id=\"T_6afa7_row12_col8\" class=\"data row12 col8\" >0.3560</td>\n",
       "    </tr>\n",
       "    <tr>\n",
       "      <th id=\"T_6afa7_level0_row13\" class=\"row_heading level0 row13\" >dummy</th>\n",
       "      <td id=\"T_6afa7_row13_col0\" class=\"data row13 col0\" >Dummy Classifier</td>\n",
       "      <td id=\"T_6afa7_row13_col1\" class=\"data row13 col1\" >0.2325</td>\n",
       "      <td id=\"T_6afa7_row13_col2\" class=\"data row13 col2\" >0.5000</td>\n",
       "      <td id=\"T_6afa7_row13_col3\" class=\"data row13 col3\" >0.0000</td>\n",
       "      <td id=\"T_6afa7_row13_col4\" class=\"data row13 col4\" >0.0000</td>\n",
       "      <td id=\"T_6afa7_row13_col5\" class=\"data row13 col5\" >0.0000</td>\n",
       "      <td id=\"T_6afa7_row13_col6\" class=\"data row13 col6\" >0.0000</td>\n",
       "      <td id=\"T_6afa7_row13_col7\" class=\"data row13 col7\" >0.0000</td>\n",
       "      <td id=\"T_6afa7_row13_col8\" class=\"data row13 col8\" >0.3820</td>\n",
       "    </tr>\n",
       "  </tbody>\n",
       "</table>\n"
      ],
      "text/plain": [
       "<pandas.io.formats.style.Styler at 0x7fa16b03b220>"
      ]
     },
     "metadata": {},
     "output_type": "display_data"
    },
    {
     "data": {
      "application/vnd.jupyter.widget-view+json": {
       "model_id": "",
       "version_major": 2,
       "version_minor": 0
      },
      "text/plain": [
       "Processing:   0%|          | 0/61 [00:00<?, ?it/s]"
      ]
     },
     "metadata": {},
     "output_type": "display_data"
    },
    {
     "data": {
      "text/plain": [
       "ExtraTreesClassifier(bootstrap=False, ccp_alpha=0.0, class_weight=None,\n",
       "                     criterion='gini', max_depth=None, max_features='auto',\n",
       "                     max_leaf_nodes=None, max_samples=None,\n",
       "                     min_impurity_decrease=0.0, min_samples_leaf=1,\n",
       "                     min_samples_split=2, min_weight_fraction_leaf=0.0,\n",
       "                     n_estimators=100, n_jobs=-1, oob_score=False,\n",
       "                     random_state=123, verbose=0, warm_start=False)"
      ]
     },
     "execution_count": 8,
     "metadata": {},
     "output_type": "execute_result"
    }
   ],
   "source": [
    "compare_models()"
   ]
  },
  {
   "cell_type": "markdown",
   "id": "fc9e3aee",
   "metadata": {
    "papermill": {
     "duration": 0.097678,
     "end_time": "2021-08-22T13:45:32.057214",
     "exception": false,
     "start_time": "2021-08-22T13:45:31.959536",
     "status": "completed"
    },
    "tags": []
   },
   "source": [
    "### Create Extra Trees Classifier Model"
   ]
  },
  {
   "cell_type": "code",
   "execution_count": null,
   "id": "12704311",
   "metadata": {
    "execution": {
     "iopub.execute_input": "2021-08-22T13:45:32.264492Z",
     "iopub.status.busy": "2021-08-22T13:45:32.263746Z",
     "iopub.status.idle": "2021-08-22T13:45:45.233782Z",
     "shell.execute_reply": "2021-08-22T13:45:45.233120Z",
     "shell.execute_reply.started": "2021-08-22T13:12:32.673608Z"
    },
    "papermill": {
     "duration": 13.076747,
     "end_time": "2021-08-22T13:45:45.233951",
     "exception": false,
     "start_time": "2021-08-22T13:45:32.157204",
     "status": "completed"
    },
    "tags": []
   },
   "outputs": [],
   "source": [
    "extraTreesClassifier = create_model('et')"
   ]
  },
  {
   "cell_type": "markdown",
   "id": "d97ac612",
   "metadata": {
    "papermill": {
     "duration": 0.101026,
     "end_time": "2021-08-22T13:45:45.437396",
     "exception": false,
     "start_time": "2021-08-22T13:45:45.336370",
     "status": "completed"
    },
    "tags": []
   },
   "source": [
    "### Tuned Model"
   ]
  },
  {
   "cell_type": "code",
   "execution_count": null,
   "id": "b16b9c25",
   "metadata": {
    "execution": {
     "iopub.execute_input": "2021-08-22T13:45:45.640878Z",
     "iopub.status.busy": "2021-08-22T13:45:45.639811Z",
     "iopub.status.idle": "2021-08-22T13:47:30.785071Z",
     "shell.execute_reply": "2021-08-22T13:47:30.784525Z",
     "shell.execute_reply.started": "2021-08-22T13:12:40.596075Z"
    },
    "papermill": {
     "duration": 105.248687,
     "end_time": "2021-08-22T13:47:30.785309",
     "exception": false,
     "start_time": "2021-08-22T13:45:45.536622",
     "status": "completed"
    },
    "tags": []
   },
   "outputs": [],
   "source": [
    "tuned_extraTreesClassifier = tune_model(extraTreesClassifier)"
   ]
  },
  {
   "cell_type": "markdown",
   "id": "3380243e",
   "metadata": {
    "papermill": {
     "duration": 0.102007,
     "end_time": "2021-08-22T13:47:30.991146",
     "exception": false,
     "start_time": "2021-08-22T13:47:30.889139",
     "status": "completed"
    },
    "tags": []
   },
   "source": [
    "### Evaluate training performance"
   ]
  },
  {
   "cell_type": "code",
   "execution_count": 25,
   "id": "fcd88ce5",
   "metadata": {
    "execution": {
     "iopub.execute_input": "2021-08-22T13:47:31.200836Z",
     "iopub.status.busy": "2021-08-22T13:47:31.199796Z",
     "iopub.status.idle": "2021-08-22T13:47:31.746134Z",
     "shell.execute_reply": "2021-08-22T13:47:31.745524Z",
     "shell.execute_reply.started": "2021-08-22T13:14:49.260109Z"
    },
    "papermill": {
     "duration": 0.654862,
     "end_time": "2021-08-22T13:47:31.746278",
     "exception": false,
     "start_time": "2021-08-22T13:47:31.091416",
     "status": "completed"
    },
    "tags": []
   },
   "outputs": [
    {
     "data": {
      "text/html": [],
      "text/plain": [
       "<IPython.core.display.HTML object>"
      ]
     },
     "metadata": {},
     "output_type": "display_data"
    },
    {
     "data": {
      "image/png": "[encoded data removed]",
      "text/plain": [
       "<Figure size 800x550 with 1 Axes>"
      ]
     },
     "metadata": {},
     "output_type": "display_data"
    }
   ],
   "source": [
    "plot_model(tuned_extraTreesClassifier, plot = 'auc')"
   ]
  },
  {
   "cell_type": "code",
   "execution_count": 7,
   "id": "c47552b8",
   "metadata": {
    "execution": {
     "iopub.execute_input": "2021-08-22T13:47:31.959008Z",
     "iopub.status.busy": "2021-08-22T13:47:31.957877Z",
     "iopub.status.idle": "2021-08-22T13:47:32.389992Z",
     "shell.execute_reply": "2021-08-22T13:47:32.390595Z",
     "shell.execute_reply.started": "2021-08-22T13:15:15.461989Z"
    },
    "papermill": {
     "duration": 0.540823,
     "end_time": "2021-08-22T13:47:32.390805",
     "exception": false,
     "start_time": "2021-08-22T13:47:31.849982",
     "status": "completed"
    },
    "tags": []
   },
   "outputs": [
    {
     "data": {
      "text/html": [],
      "text/plain": [
       "<IPython.core.display.HTML object>"
      ]
     },
     "metadata": {},
     "output_type": "display_data"
    },
    {
     "data": {
      "image/png": "[encoded data removed]",
      "text/plain": [
       "<Figure size 800x500 with 1 Axes>"
      ]
     },
     "metadata": {},
     "output_type": "display_data"
    }
   ],
   "source": [
    "plot_model(tuned_extraTreesClassifier, plot='feature')"
   ]
  },
  {
   "cell_type": "code",
   "execution_count": 8,
   "id": "8e7425d9",
   "metadata": {
    "execution": {
     "iopub.execute_input": "2021-08-22T13:47:32.607570Z",
     "iopub.status.busy": "2021-08-22T13:47:32.606490Z",
     "iopub.status.idle": "2021-08-22T13:47:33.058549Z",
     "shell.execute_reply": "2021-08-22T13:47:33.057924Z",
     "shell.execute_reply.started": "2021-08-22T13:15:28.271972Z"
    },
    "papermill": {
     "duration": 0.562407,
     "end_time": "2021-08-22T13:47:33.058706",
     "exception": false,
     "start_time": "2021-08-22T13:47:32.496299",
     "status": "completed"
    },
    "tags": []
   },
   "outputs": [
    {
     "data": {
      "text/html": [],
      "text/plain": [
       "<IPython.core.display.HTML object>"
      ]
     },
     "metadata": {},
     "output_type": "display_data"
    },
    {
     "data": {
      "image/png": "[encoded data removed]",
      "text/plain": [
       "<Figure size 800x550 with 1 Axes>"
      ]
     },
     "metadata": {},
     "output_type": "display_data"
    }
   ],
   "source": [
    "plot_model(tuned_extraTreesClassifier, plot = 'confusion_matrix')"
   ]
  },
  {
   "cell_type": "markdown",
   "id": "320d3996",
   "metadata": {
    "papermill": {
     "duration": 0.108411,
     "end_time": "2021-08-22T13:47:33.275181",
     "exception": false,
     "start_time": "2021-08-22T13:47:33.166770",
     "status": "completed"
    },
    "tags": []
   },
   "source": [
    "### Evaluate on unseen data"
   ]
  },
  {
   "cell_type": "code",
   "execution_count": 9,
   "id": "a37f0e61",
   "metadata": {
    "execution": {
     "iopub.execute_input": "2021-08-22T13:47:33.493312Z",
     "iopub.status.busy": "2021-08-22T13:47:33.492338Z",
     "iopub.status.idle": "2021-08-22T13:47:41.685389Z",
     "shell.execute_reply": "2021-08-22T13:47:41.684146Z",
     "shell.execute_reply.started": "2021-08-22T13:17:36.856141Z"
    },
    "papermill": {
     "duration": 8.302262,
     "end_time": "2021-08-22T13:47:41.685562",
     "exception": false,
     "start_time": "2021-08-22T13:47:33.383300",
     "status": "completed"
    },
    "tags": []
   },
   "outputs": [],
   "source": [
    "final_extraTreesClassifier = finalize_model(tuned_extraTreesClassifier)"
   ]
  },
  {
   "cell_type": "code",
   "execution_count": 10,
   "id": "c1461eb0",
   "metadata": {
    "execution": {
     "iopub.execute_input": "2021-08-22T13:47:41.904780Z",
     "iopub.status.busy": "2021-08-22T13:47:41.903713Z",
     "iopub.status.idle": "2021-08-22T13:47:42.428832Z",
     "shell.execute_reply": "2021-08-22T13:47:42.429391Z",
     "shell.execute_reply.started": "2021-08-22T13:17:41.309142Z"
    },
    "papermill": {
     "duration": 0.637375,
     "end_time": "2021-08-22T13:47:42.429556",
     "exception": false,
     "start_time": "2021-08-22T13:47:41.792181",
     "status": "completed"
    },
    "tags": []
   },
   "outputs": [
    {
     "data": {
      "text/html": [
       "<style type=\"text/css\">\n",
       "</style>\n",
       "<table id=\"T_f3907\">\n",
       "  <thead>\n",
       "    <tr>\n",
       "      <th class=\"blank level0\" >&nbsp;</th>\n",
       "      <th id=\"T_f3907_level0_col0\" class=\"col_heading level0 col0\" >Model</th>\n",
       "      <th id=\"T_f3907_level0_col1\" class=\"col_heading level0 col1\" >Accuracy</th>\n",
       "      <th id=\"T_f3907_level0_col2\" class=\"col_heading level0 col2\" >AUC</th>\n",
       "      <th id=\"T_f3907_level0_col3\" class=\"col_heading level0 col3\" >Recall</th>\n",
       "      <th id=\"T_f3907_level0_col4\" class=\"col_heading level0 col4\" >Prec.</th>\n",
       "      <th id=\"T_f3907_level0_col5\" class=\"col_heading level0 col5\" >F1</th>\n",
       "      <th id=\"T_f3907_level0_col6\" class=\"col_heading level0 col6\" >Kappa</th>\n",
       "      <th id=\"T_f3907_level0_col7\" class=\"col_heading level0 col7\" >MCC</th>\n",
       "    </tr>\n",
       "  </thead>\n",
       "  <tbody>\n",
       "    <tr>\n",
       "      <th id=\"T_f3907_level0_row0\" class=\"row_heading level0 row0\" >0</th>\n",
       "      <td id=\"T_f3907_row0_col0\" class=\"data row0 col0\" >Extra Trees Classifier</td>\n",
       "      <td id=\"T_f3907_row0_col1\" class=\"data row0 col1\" >0.7429</td>\n",
       "      <td id=\"T_f3907_row0_col2\" class=\"data row0 col2\" >0.8659</td>\n",
       "      <td id=\"T_f3907_row0_col3\" class=\"data row0 col3\" >0.7391</td>\n",
       "      <td id=\"T_f3907_row0_col4\" class=\"data row0 col4\" >0.8500</td>\n",
       "      <td id=\"T_f3907_row0_col5\" class=\"data row0 col5\" >0.7907</td>\n",
       "      <td id=\"T_f3907_row0_col6\" class=\"data row0 col6\" >0.4615</td>\n",
       "      <td id=\"T_f3907_row0_col7\" class=\"data row0 col7\" >0.4692</td>\n",
       "    </tr>\n",
       "  </tbody>\n",
       "</table>\n"
      ],
      "text/plain": [
       "<pandas.io.formats.style.Styler at 0x7f7984843280>"
      ]
     },
     "metadata": {},
     "output_type": "display_data"
    },
    {
     "name": "stdout",
     "output_type": "stream",
     "text": [
      "              precision    recall  f1-score   support\n",
      "\n",
      "   parkinson       0.60      0.75      0.67        12\n",
      "      normal       0.85      0.74      0.79        23\n",
      "\n",
      "    accuracy                           0.74        35\n",
      "   macro avg       0.72      0.74      0.73        35\n",
      "weighted avg       0.76      0.74      0.75        35\n",
      "\n"
     ]
    },
    {
     "data": {
      "image/png": "[encoded data removed]",
      "text/plain": [
       "<Figure size 800x800 with 2 Axes>"
      ]
     },
     "metadata": {},
     "output_type": "display_data"
    }
   ],
   "source": [
    "unseen_predictions = predict_model(final_extraTreesClassifier, data=test_df)\n",
    "class_names=['parkinson', 'normal']\n",
    "print(classification_report(unseen_predictions['status'].values, unseen_predictions['prediction_label'].values, target_names=class_names,zero_division=0))\n",
    "cm = skplt.metrics.plot_confusion_matrix(unseen_predictions['status'].values, unseen_predictions['prediction_label'].values, figsize=(8, 8), normalize=False)\n",
    "\n",
    "\n"
   ]
  },
  {
   "cell_type": "code",
   "execution_count": null,
   "id": "b51b8068",
   "metadata": {},
   "outputs": [],
   "source": []
  }
 ],
 "metadata": {
  "kernelspec": {
   "display_name": "Python 3 (ipykernel)",
   "language": "python",
   "name": "python3"
  },
  "language_info": {
   "codemirror_mode": {
    "name": "ipython",
    "version": 3
   },
   "file_extension": ".py",
   "mimetype": "text/x-python",
   "name": "python",
   "nbconvert_exporter": "python",
   "pygments_lexer": "ipython3",
   "version": "3.9.13"
  },
  "papermill": {
   "default_parameters": {},
   "duration": 298.941153,
   "end_time": "2021-08-22T13:47:44.228238",
   "environment_variables": {},
   "exception": null,
   "input_path": "__notebook__.ipynb",
   "output_path": "__notebook__.ipynb",
   "parameters": {},
   "start_time": "2021-08-22T13:42:45.287085",
   "version": "2.3.3"
  },
  "widgets": {
   "application/vnd.jupyter.widget-state+json": {
    "state": {
     "035b8d4e2a0944a38fd416015875fc01": {
      "model_module": "@jupyter-widgets/controls",
      "model_module_version": "1.5.0",
      "model_name": "ProgressStyleModel",
      "state": {
       "_model_module": "@jupyter-widgets/controls",
       "_model_module_version": "1.5.0",
       "_model_name": "ProgressStyleModel",
       "_view_count": null,
       "_view_module": "@jupyter-widgets/base",
       "_view_module_version": "1.2.0",
       "_view_name": "StyleView",
       "bar_color": null,
       "description_width": ""
      }
     },
     "052d19a51cfe403889db0bbe64cf3723": {
      "model_module": "@jupyter-widgets/controls",
      "model_module_version": "1.5.0",
      "model_name": "ProgressStyleModel",
      "state": {
       "_model_module": "@jupyter-widgets/controls",
       "_model_module_version": "1.5.0",
       "_model_name": "ProgressStyleModel",
       "_view_count": null,
       "_view_module": "@jupyter-widgets/base",
       "_view_module_version": "1.2.0",
       "_view_name": "StyleView",
       "bar_color": null,
       "description_width": ""
      }
     },
     "147b4a78439a47289028a11567580a8e": {
      "model_module": "@jupyter-widgets/controls",
      "model_module_version": "1.5.0",
      "model_name": "IntProgressModel",
      "state": {
       "_dom_classes": [],
       "_model_module": "@jupyter-widgets/controls",
       "_model_module_version": "1.5.0",
       "_model_name": "IntProgressModel",
       "_view_count": null,
       "_view_module": "@jupyter-widgets/controls",
       "_view_module_version": "1.5.0",
       "_view_name": "ProgressView",
       "bar_style": "",
       "description": "Processing: ",
       "description_tooltip": null,
       "layout": "IPY_MODEL_eb59459a75a84910aaf81ba968ab8127",
       "max": 4,
       "min": 0,
       "orientation": "horizontal",
       "style": "IPY_MODEL_87d5f99f57ab4f93b7e0c66282101155",
       "value": 4
      }
     },
     "16bbef21f0404c12aa4c817c4509ee16": {
      "model_module": "@jupyter-widgets/controls",
      "model_module_version": "1.5.0",
      "model_name": "IntProgressModel",
      "state": {
       "_dom_classes": [],
       "_model_module": "@jupyter-widgets/controls",
       "_model_module_version": "1.5.0",
       "_model_name": "IntProgressModel",
       "_view_count": null,
       "_view_module": "@jupyter-widgets/controls",
       "_view_module_version": "1.5.0",
       "_view_name": "ProgressView",
       "bar_style": "",
       "description": "Processing: ",
       "description_tooltip": null,
       "layout": "IPY_MODEL_f1c939f760614877acbf453936fe56ef",
       "max": 7,
       "min": 0,
       "orientation": "horizontal",
       "style": "IPY_MODEL_035b8d4e2a0944a38fd416015875fc01",
       "value": 7
      }
     },
     "19d065991c39458882b474091a332d91": {
      "model_module": "@jupyter-widgets/controls",
      "model_module_version": "1.5.0",
      "model_name": "IntProgressModel",
      "state": {
       "_dom_classes": [],
       "_model_module": "@jupyter-widgets/controls",
       "_model_module_version": "1.5.0",
       "_model_name": "IntProgressModel",
       "_view_count": null,
       "_view_module": "@jupyter-widgets/controls",
       "_view_module_version": "1.5.0",
       "_view_name": "ProgressView",
       "bar_style": "",
       "description": "Processing: ",
       "description_tooltip": null,
       "layout": "IPY_MODEL_7b26883a77e649b9b3f2991e16366058",
       "max": 79,
       "min": 0,
       "orientation": "horizontal",
       "style": "IPY_MODEL_49ed2feff02b4b24bed3cb497e5bacde",
       "value": 79
      }
     },
     "27b68a4a3ff140d280739de04b5b5246": {
      "model_module": "@jupyter-widgets/controls",
      "model_module_version": "1.5.0",
      "model_name": "IntProgressModel",
      "state": {
       "_dom_classes": [],
       "_model_module": "@jupyter-widgets/controls",
       "_model_module_version": "1.5.0",
       "_model_name": "IntProgressModel",
       "_view_count": null,
       "_view_module": "@jupyter-widgets/controls",
       "_view_module_version": "1.5.0",
       "_view_name": "ProgressView",
       "bar_style": "",
       "description": "Processing: ",
       "description_tooltip": null,
       "layout": "IPY_MODEL_618b16e4208348188b303934c82d4777",
       "max": 5,
       "min": 0,
       "orientation": "horizontal",
       "style": "IPY_MODEL_052d19a51cfe403889db0bbe64cf3723",
       "value": 5
      }
     },
     "3035fd8f45b543abaa36cb283c82e730": {
      "model_module": "@jupyter-widgets/base",
      "model_module_version": "1.2.0",
      "model_name": "LayoutModel",
      "state": {
       "_model_module": "@jupyter-widgets/base",
       "_model_module_version": "1.2.0",
       "_model_name": "LayoutModel",
       "_view_count": null,
       "_view_module": "@jupyter-widgets/base",
       "_view_module_version": "1.2.0",
       "_view_name": "LayoutView",
       "align_content": null,
       "align_items": null,
       "align_self": null,
       "border": null,
       "bottom": null,
       "display": null,
       "flex": null,
       "flex_flow": null,
       "grid_area": null,
       "grid_auto_columns": null,
       "grid_auto_flow": null,
       "grid_auto_rows": null,
       "grid_column": null,
       "grid_gap": null,
       "grid_row": null,
       "grid_template_areas": null,
       "grid_template_columns": null,
       "grid_template_rows": null,
       "height": null,
       "justify_content": null,
       "justify_items": null,
       "left": null,
       "margin": null,
       "max_height": null,
       "max_width": null,
       "min_height": null,
       "min_width": null,
       "object_fit": null,
       "object_position": null,
       "order": null,
       "overflow": null,
       "overflow_x": null,
       "overflow_y": null,
       "padding": null,
       "right": null,
       "top": null,
       "visibility": null,
       "width": null
      }
     },
     "3ee7284611a749b89ad546bc5da5b5d8": {
      "model_module": "@jupyter-widgets/base",
      "model_module_version": "1.2.0",
      "model_name": "LayoutModel",
      "state": {
       "_model_module": "@jupyter-widgets/base",
       "_model_module_version": "1.2.0",
       "_model_name": "LayoutModel",
       "_view_count": null,
       "_view_module": "@jupyter-widgets/base",
       "_view_module_version": "1.2.0",
       "_view_name": "LayoutView",
       "align_content": null,
       "align_items": null,
       "align_self": null,
       "border": null,
       "bottom": null,
       "display": null,
       "flex": null,
       "flex_flow": null,
       "grid_area": null,
       "grid_auto_columns": null,
       "grid_auto_flow": null,
       "grid_auto_rows": null,
       "grid_column": null,
       "grid_gap": null,
       "grid_row": null,
       "grid_template_areas": null,
       "grid_template_columns": null,
       "grid_template_rows": null,
       "height": null,
       "justify_content": null,
       "justify_items": null,
       "left": null,
       "margin": null,
       "max_height": null,
       "max_width": null,
       "min_height": null,
       "min_width": null,
       "object_fit": null,
       "object_position": null,
       "order": null,
       "overflow": null,
       "overflow_x": null,
       "overflow_y": null,
       "padding": null,
       "right": null,
       "top": null,
       "visibility": null,
       "width": null
      }
     },
     "426c3d5a769b4eacba24d6ec72b50f32": {
      "model_module": "@jupyter-widgets/controls",
      "model_module_version": "1.5.0",
      "model_name": "IntProgressModel",
      "state": {
       "_dom_classes": [],
       "_model_module": "@jupyter-widgets/controls",
       "_model_module_version": "1.5.0",
       "_model_name": "IntProgressModel",
       "_view_count": null,
       "_view_module": "@jupyter-widgets/controls",
       "_view_module_version": "1.5.0",
       "_view_name": "ProgressView",
       "bar_style": "",
       "description": "Processing: ",
       "description_tooltip": null,
       "layout": "IPY_MODEL_3ee7284611a749b89ad546bc5da5b5d8",
       "max": 3,
       "min": 0,
       "orientation": "horizontal",
       "style": "IPY_MODEL_d579433ba89e4304a64d535bd7d10612",
       "value": 3
      }
     },
     "49ed2feff02b4b24bed3cb497e5bacde": {
      "model_module": "@jupyter-widgets/controls",
      "model_module_version": "1.5.0",
      "model_name": "ProgressStyleModel",
      "state": {
       "_model_module": "@jupyter-widgets/controls",
       "_model_module_version": "1.5.0",
       "_model_name": "ProgressStyleModel",
       "_view_count": null,
       "_view_module": "@jupyter-widgets/base",
       "_view_module_version": "1.2.0",
       "_view_name": "StyleView",
       "bar_color": null,
       "description_width": ""
      }
     },
     "618b16e4208348188b303934c82d4777": {
      "model_module": "@jupyter-widgets/base",
      "model_module_version": "1.2.0",
      "model_name": "LayoutModel",
      "state": {
       "_model_module": "@jupyter-widgets/base",
       "_model_module_version": "1.2.0",
       "_model_name": "LayoutModel",
       "_view_count": null,
       "_view_module": "@jupyter-widgets/base",
       "_view_module_version": "1.2.0",
       "_view_name": "LayoutView",
       "align_content": null,
       "align_items": null,
       "align_self": null,
       "border": null,
       "bottom": null,
       "display": null,
       "flex": null,
       "flex_flow": null,
       "grid_area": null,
       "grid_auto_columns": null,
       "grid_auto_flow": null,
       "grid_auto_rows": null,
       "grid_column": null,
       "grid_gap": null,
       "grid_row": null,
       "grid_template_areas": null,
       "grid_template_columns": null,
       "grid_template_rows": null,
       "height": null,
       "justify_content": null,
       "justify_items": null,
       "left": null,
       "margin": null,
       "max_height": null,
       "max_width": null,
       "min_height": null,
       "min_width": null,
       "object_fit": null,
       "object_position": null,
       "order": null,
       "overflow": null,
       "overflow_x": null,
       "overflow_y": null,
       "padding": null,
       "right": null,
       "top": null,
       "visibility": null,
       "width": null
      }
     },
     "6fc5642421ad418b8e14848877293105": {
      "model_module": "@jupyter-widgets/base",
      "model_module_version": "1.2.0",
      "model_name": "LayoutModel",
      "state": {
       "_model_module": "@jupyter-widgets/base",
       "_model_module_version": "1.2.0",
       "_model_name": "LayoutModel",
       "_view_count": null,
       "_view_module": "@jupyter-widgets/base",
       "_view_module_version": "1.2.0",
       "_view_name": "LayoutView",
       "align_content": null,
       "align_items": null,
       "align_self": null,
       "border": null,
       "bottom": null,
       "display": null,
       "flex": null,
       "flex_flow": null,
       "grid_area": null,
       "grid_auto_columns": null,
       "grid_auto_flow": null,
       "grid_auto_rows": null,
       "grid_column": null,
       "grid_gap": null,
       "grid_row": null,
       "grid_template_areas": null,
       "grid_template_columns": null,
       "grid_template_rows": null,
       "height": null,
       "justify_content": null,
       "justify_items": null,
       "left": null,
       "margin": null,
       "max_height": null,
       "max_width": null,
       "min_height": null,
       "min_width": null,
       "object_fit": null,
       "object_position": null,
       "order": null,
       "overflow": null,
       "overflow_x": null,
       "overflow_y": null,
       "padding": null,
       "right": null,
       "top": null,
       "visibility": null,
       "width": null
      }
     },
     "75bc9d70bcb142fa9496f98087dd17ed": {
      "model_module": "@jupyter-widgets/controls",
      "model_module_version": "1.5.0",
      "model_name": "ProgressStyleModel",
      "state": {
       "_model_module": "@jupyter-widgets/controls",
       "_model_module_version": "1.5.0",
       "_model_name": "ProgressStyleModel",
       "_view_count": null,
       "_view_module": "@jupyter-widgets/base",
       "_view_module_version": "1.2.0",
       "_view_name": "StyleView",
       "bar_color": null,
       "description_width": ""
      }
     },
     "7b26883a77e649b9b3f2991e16366058": {
      "model_module": "@jupyter-widgets/base",
      "model_module_version": "1.2.0",
      "model_name": "LayoutModel",
      "state": {
       "_model_module": "@jupyter-widgets/base",
       "_model_module_version": "1.2.0",
       "_model_name": "LayoutModel",
       "_view_count": null,
       "_view_module": "@jupyter-widgets/base",
       "_view_module_version": "1.2.0",
       "_view_name": "LayoutView",
       "align_content": null,
       "align_items": null,
       "align_self": null,
       "border": null,
       "bottom": null,
       "display": null,
       "flex": null,
       "flex_flow": null,
       "grid_area": null,
       "grid_auto_columns": null,
       "grid_auto_flow": null,
       "grid_auto_rows": null,
       "grid_column": null,
       "grid_gap": null,
       "grid_row": null,
       "grid_template_areas": null,
       "grid_template_columns": null,
       "grid_template_rows": null,
       "height": null,
       "justify_content": null,
       "justify_items": null,
       "left": null,
       "margin": null,
       "max_height": null,
       "max_width": null,
       "min_height": null,
       "min_width": null,
       "object_fit": null,
       "object_position": null,
       "order": null,
       "overflow": null,
       "overflow_x": null,
       "overflow_y": null,
       "padding": null,
       "right": null,
       "top": null,
       "visibility": null,
       "width": null
      }
     },
     "87d5f99f57ab4f93b7e0c66282101155": {
      "model_module": "@jupyter-widgets/controls",
      "model_module_version": "1.5.0",
      "model_name": "ProgressStyleModel",
      "state": {
       "_model_module": "@jupyter-widgets/controls",
       "_model_module_version": "1.5.0",
       "_model_name": "ProgressStyleModel",
       "_view_count": null,
       "_view_module": "@jupyter-widgets/base",
       "_view_module_version": "1.2.0",
       "_view_name": "StyleView",
       "bar_color": null,
       "description_width": ""
      }
     },
     "ab12ccdd12c74e88b0baad0bc129cba9": {
      "model_module": "@jupyter-widgets/controls",
      "model_module_version": "1.5.0",
      "model_name": "IntProgressModel",
      "state": {
       "_dom_classes": [],
       "_model_module": "@jupyter-widgets/controls",
       "_model_module_version": "1.5.0",
       "_model_name": "IntProgressModel",
       "_view_count": null,
       "_view_module": "@jupyter-widgets/controls",
       "_view_module_version": "1.5.0",
       "_view_name": "ProgressView",
       "bar_style": "",
       "description": "Processing: ",
       "description_tooltip": null,
       "layout": "IPY_MODEL_3035fd8f45b543abaa36cb283c82e730",
       "max": 5,
       "min": 0,
       "orientation": "horizontal",
       "style": "IPY_MODEL_75bc9d70bcb142fa9496f98087dd17ed",
       "value": 5
      }
     },
     "d338357ef5d740bfbf7c820ad8a65b00": {
      "model_module": "@jupyter-widgets/controls",
      "model_module_version": "1.5.0",
      "model_name": "ProgressStyleModel",
      "state": {
       "_model_module": "@jupyter-widgets/controls",
       "_model_module_version": "1.5.0",
       "_model_name": "ProgressStyleModel",
       "_view_count": null,
       "_view_module": "@jupyter-widgets/base",
       "_view_module_version": "1.2.0",
       "_view_name": "StyleView",
       "bar_color": null,
       "description_width": ""
      }
     },
     "d579433ba89e4304a64d535bd7d10612": {
      "model_module": "@jupyter-widgets/controls",
      "model_module_version": "1.5.0",
      "model_name": "ProgressStyleModel",
      "state": {
       "_model_module": "@jupyter-widgets/controls",
       "_model_module_version": "1.5.0",
       "_model_name": "ProgressStyleModel",
       "_view_count": null,
       "_view_module": "@jupyter-widgets/base",
       "_view_module_version": "1.2.0",
       "_view_name": "StyleView",
       "bar_color": null,
       "description_width": ""
      }
     },
     "eb59459a75a84910aaf81ba968ab8127": {
      "model_module": "@jupyter-widgets/base",
      "model_module_version": "1.2.0",
      "model_name": "LayoutModel",
      "state": {
       "_model_module": "@jupyter-widgets/base",
       "_model_module_version": "1.2.0",
       "_model_name": "LayoutModel",
       "_view_count": null,
       "_view_module": "@jupyter-widgets/base",
       "_view_module_version": "1.2.0",
       "_view_name": "LayoutView",
       "align_content": null,
       "align_items": null,
       "align_self": null,
       "border": null,
       "bottom": null,
       "display": null,
       "flex": null,
       "flex_flow": null,
       "grid_area": null,
       "grid_auto_columns": null,
       "grid_auto_flow": null,
       "grid_auto_rows": null,
       "grid_column": null,
       "grid_gap": null,
       "grid_row": null,
       "grid_template_areas": null,
       "grid_template_columns": null,
       "grid_template_rows": null,
       "height": null,
       "justify_content": null,
       "justify_items": null,
       "left": null,
       "margin": null,
       "max_height": null,
       "max_width": null,
       "min_height": null,
       "min_width": null,
       "object_fit": null,
       "object_position": null,
       "order": null,
       "overflow": null,
       "overflow_x": null,
       "overflow_y": null,
       "padding": null,
       "right": null,
       "top": null,
       "visibility": null,
       "width": null
      }
     },
     "f1c939f760614877acbf453936fe56ef": {
      "model_module": "@jupyter-widgets/base",
      "model_module_version": "1.2.0",
      "model_name": "LayoutModel",
      "state": {
       "_model_module": "@jupyter-widgets/base",
       "_model_module_version": "1.2.0",
       "_model_name": "LayoutModel",
       "_view_count": null,
       "_view_module": "@jupyter-widgets/base",
       "_view_module_version": "1.2.0",
       "_view_name": "LayoutView",
       "align_content": null,
       "align_items": null,
       "align_self": null,
       "border": null,
       "bottom": null,
       "display": null,
       "flex": null,
       "flex_flow": null,
       "grid_area": null,
       "grid_auto_columns": null,
       "grid_auto_flow": null,
       "grid_auto_rows": null,
       "grid_column": null,
       "grid_gap": null,
       "grid_row": null,
       "grid_template_areas": null,
       "grid_template_columns": null,
       "grid_template_rows": null,
       "height": null,
       "justify_content": null,
       "justify_items": null,
       "left": null,
       "margin": null,
       "max_height": null,
       "max_width": null,
       "min_height": null,
       "min_width": null,
       "object_fit": null,
       "object_position": null,
       "order": null,
       "overflow": null,
       "overflow_x": null,
       "overflow_y": null,
       "padding": null,
       "right": null,
       "top": null,
       "visibility": null,
       "width": null
      }
     },
     "f315e91395ea4035a2fdd7f47671ffb0": {
      "model_module": "@jupyter-widgets/controls",
      "model_module_version": "1.5.0",
      "model_name": "IntProgressModel",
      "state": {
       "_dom_classes": [],
       "_model_module": "@jupyter-widgets/controls",
       "_model_module_version": "1.5.0",
       "_model_name": "IntProgressModel",
       "_view_count": null,
       "_view_module": "@jupyter-widgets/controls",
       "_view_module_version": "1.5.0",
       "_view_name": "ProgressView",
       "bar_style": "",
       "description": "Processing: ",
       "description_tooltip": null,
       "layout": "IPY_MODEL_6fc5642421ad418b8e14848877293105",
       "max": 5,
       "min": 0,
       "orientation": "horizontal",
       "style": "IPY_MODEL_d338357ef5d740bfbf7c820ad8a65b00",
       "value": 5
      }
     }
    },
    "version_major": 2,
    "version_minor": 0
   }
  }
 },
 "nbformat": 4,
 "nbformat_minor": 5
}
