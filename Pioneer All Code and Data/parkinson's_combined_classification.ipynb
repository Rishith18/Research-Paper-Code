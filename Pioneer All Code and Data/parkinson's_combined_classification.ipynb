{
 "cells": [
  {
   "cell_type": "markdown",
   "id": "44906f51",
   "metadata": {
    "papermill": {
     "duration": 0.019448,
     "end_time": "2021-08-22T13:42:54.086556",
     "exception": false,
     "start_time": "2021-08-22T13:42:54.067108",
     "status": "completed"
    },
    "tags": []
   },
   "source": [
    "---\n",
    "### Import Libraries"
   ]
  },
  {
   "cell_type": "code",
   "execution_count": 15,
   "id": "ce013dc1",
   "metadata": {
    "_kg_hide-output": true,
    "execution": {
     "iopub.execute_input": "2021-08-22T13:42:54.135030Z",
     "iopub.status.busy": "2021-08-22T13:42:54.132993Z",
     "iopub.status.idle": "2021-08-22T13:44:00.695440Z",
     "shell.execute_reply": "2021-08-22T13:44:00.697038Z",
     "shell.execute_reply.started": "2021-08-22T12:57:10.665838Z"
    },
    "papermill": {
     "duration": 66.590092,
     "end_time": "2021-08-22T13:44:00.697582",
     "exception": false,
     "start_time": "2021-08-22T13:42:54.107490",
     "status": "completed"
    },
    "tags": []
   },
   "outputs": [
    {
     "name": "stdout",
     "output_type": "stream",
     "text": [
      "Requirement already satisfied: pycaret in /Users/rishithprathi/opt/anaconda3/lib/python3.9/site-packages (3.0.3)\n",
      "Requirement already satisfied: tqdm>=4.62.0 in /Users/rishithprathi/opt/anaconda3/lib/python3.9/site-packages (from pycaret) (4.64.1)\n",
      "Requirement already satisfied: schemdraw==0.15 in /Users/rishithprathi/opt/anaconda3/lib/python3.9/site-packages (from pycaret) (0.15)\n",
      "Requirement already satisfied: category-encoders>=2.4.0 in /Users/rishithprathi/opt/anaconda3/lib/python3.9/site-packages (from pycaret) (2.6.1)\n",
      "Requirement already satisfied: markupsafe>=2.0.1 in /Users/rishithprathi/opt/anaconda3/lib/python3.9/site-packages (from pycaret) (2.0.1)\n",
      "Requirement already satisfied: kaleido>=0.2.1 in /Users/rishithprathi/opt/anaconda3/lib/python3.9/site-packages (from pycaret) (0.2.1)\n",
      "Requirement already satisfied: yellowbrick>=1.4 in /Users/rishithprathi/opt/anaconda3/lib/python3.9/site-packages (from pycaret) (1.5)\n",
      "Requirement already satisfied: scikit-plot>=0.3.7 in /Users/rishithprathi/opt/anaconda3/lib/python3.9/site-packages (from pycaret) (0.3.7)\n",
      "Requirement already satisfied: wurlitzer in /Users/rishithprathi/opt/anaconda3/lib/python3.9/site-packages (from pycaret) (3.0.2)\n",
      "Requirement already satisfied: plotly>=5.0.0 in /Users/rishithprathi/opt/anaconda3/lib/python3.9/site-packages (from pycaret) (5.9.0)\n",
      "Requirement already satisfied: statsmodels>=0.12.1 in /Users/rishithprathi/opt/anaconda3/lib/python3.9/site-packages (from pycaret) (0.13.2)\n",
      "Requirement already satisfied: pyod>=1.0.8 in /Users/rishithprathi/opt/anaconda3/lib/python3.9/site-packages (from pycaret) (1.1.0)\n",
      "Requirement already satisfied: sktime!=0.17.1,!=0.17.2,!=0.18.0,>=0.16.1 in /Users/rishithprathi/opt/anaconda3/lib/python3.9/site-packages (from pycaret) (0.20.0)\n",
      "Requirement already satisfied: joblib>=1.2.0 in /Users/rishithprathi/opt/anaconda3/lib/python3.9/site-packages (from pycaret) (1.3.0)\n",
      "Requirement already satisfied: scipy<2.0.0 in /Users/rishithprathi/opt/anaconda3/lib/python3.9/site-packages (from pycaret) (1.9.1)\n",
      "Requirement already satisfied: tbats>=1.1.3 in /Users/rishithprathi/opt/anaconda3/lib/python3.9/site-packages (from pycaret) (1.1.3)\n",
      "Requirement already satisfied: imbalanced-learn>=0.8.1 in /Users/rishithprathi/opt/anaconda3/lib/python3.9/site-packages (from pycaret) (0.10.1)\n",
      "Requirement already satisfied: importlib-metadata>=4.12.0 in /Users/rishithprathi/opt/anaconda3/lib/python3.9/site-packages (from pycaret) (6.7.0)\n",
      "Requirement already satisfied: plotly-resampler>=0.8.3.1 in /Users/rishithprathi/opt/anaconda3/lib/python3.9/site-packages (from pycaret) (0.8.3.2)\n",
      "Requirement already satisfied: cloudpickle in /Users/rishithprathi/opt/anaconda3/lib/python3.9/site-packages (from pycaret) (2.0.0)\n",
      "Requirement already satisfied: matplotlib>=3.3.0 in /Users/rishithprathi/opt/anaconda3/lib/python3.9/site-packages (from pycaret) (3.5.2)\n",
      "Requirement already satisfied: psutil>=5.9.0 in /Users/rishithprathi/opt/anaconda3/lib/python3.9/site-packages (from pycaret) (5.9.0)\n",
      "Requirement already satisfied: pandas<2.0.0,>=1.3.0 in /Users/rishithprathi/opt/anaconda3/lib/python3.9/site-packages (from pycaret) (1.4.4)\n",
      "Requirement already satisfied: pmdarima!=1.8.1,<3.0.0,>=1.8.0 in /Users/rishithprathi/opt/anaconda3/lib/python3.9/site-packages (from pycaret) (2.0.3)\n",
      "Requirement already satisfied: ipywidgets>=7.6.5 in /Users/rishithprathi/opt/anaconda3/lib/python3.9/site-packages (from pycaret) (7.6.5)\n",
      "Requirement already satisfied: ipython>=5.5.0 in /Users/rishithprathi/opt/anaconda3/lib/python3.9/site-packages (from pycaret) (7.31.1)\n",
      "Requirement already satisfied: lightgbm>=3.0.0 in /Users/rishithprathi/opt/anaconda3/lib/python3.9/site-packages (from pycaret) (3.3.5)\n",
      "Requirement already satisfied: xxhash in /Users/rishithprathi/opt/anaconda3/lib/python3.9/site-packages (from pycaret) (3.2.0)\n",
      "Requirement already satisfied: scikit-learn>=1.0 in /Users/rishithprathi/opt/anaconda3/lib/python3.9/site-packages (from pycaret) (1.0.2)\n",
      "Requirement already satisfied: numba>=0.55.0 in /Users/rishithprathi/opt/anaconda3/lib/python3.9/site-packages (from pycaret) (0.55.1)\n",
      "Requirement already satisfied: jinja2>=1.2 in /Users/rishithprathi/opt/anaconda3/lib/python3.9/site-packages (from pycaret) (2.11.3)\n",
      "Requirement already satisfied: numpy<1.24,>=1.21 in /Users/rishithprathi/opt/anaconda3/lib/python3.9/site-packages (from pycaret) (1.21.5)\n",
      "Requirement already satisfied: requests>=2.27.1 in /Users/rishithprathi/opt/anaconda3/lib/python3.9/site-packages (from pycaret) (2.28.1)\n",
      "Requirement already satisfied: deprecation>=2.1.0 in /Users/rishithprathi/opt/anaconda3/lib/python3.9/site-packages (from pycaret) (2.1.0)\n",
      "Requirement already satisfied: nbformat>=4.2.0 in /Users/rishithprathi/opt/anaconda3/lib/python3.9/site-packages (from pycaret) (5.5.0)\n",
      "Requirement already satisfied: patsy>=0.5.1 in /Users/rishithprathi/opt/anaconda3/lib/python3.9/site-packages (from category-encoders>=2.4.0->pycaret) (0.5.2)\n",
      "Requirement already satisfied: packaging in /Users/rishithprathi/opt/anaconda3/lib/python3.9/site-packages (from deprecation>=2.1.0->pycaret) (21.3)\n",
      "Requirement already satisfied: threadpoolctl>=2.0.0 in /Users/rishithprathi/opt/anaconda3/lib/python3.9/site-packages (from imbalanced-learn>=0.8.1->pycaret) (2.2.0)\n",
      "Requirement already satisfied: zipp>=0.5 in /Users/rishithprathi/opt/anaconda3/lib/python3.9/site-packages (from importlib-metadata>=4.12.0->pycaret) (3.8.0)\n",
      "Requirement already satisfied: decorator in /Users/rishithprathi/opt/anaconda3/lib/python3.9/site-packages (from ipython>=5.5.0->pycaret) (5.1.1)\n",
      "Requirement already satisfied: setuptools>=18.5 in /Users/rishithprathi/opt/anaconda3/lib/python3.9/site-packages (from ipython>=5.5.0->pycaret) (63.4.1)\n",
      "Requirement already satisfied: appnope in /Users/rishithprathi/opt/anaconda3/lib/python3.9/site-packages (from ipython>=5.5.0->pycaret) (0.1.2)\n",
      "Requirement already satisfied: pickleshare in /Users/rishithprathi/opt/anaconda3/lib/python3.9/site-packages (from ipython>=5.5.0->pycaret) (0.7.5)\n",
      "Requirement already satisfied: pygments in /Users/rishithprathi/opt/anaconda3/lib/python3.9/site-packages (from ipython>=5.5.0->pycaret) (2.11.2)\n",
      "Requirement already satisfied: matplotlib-inline in /Users/rishithprathi/opt/anaconda3/lib/python3.9/site-packages (from ipython>=5.5.0->pycaret) (0.1.6)\n",
      "Requirement already satisfied: traitlets>=4.2 in /Users/rishithprathi/opt/anaconda3/lib/python3.9/site-packages (from ipython>=5.5.0->pycaret) (5.1.1)\n",
      "Requirement already satisfied: prompt-toolkit!=3.0.0,!=3.0.1,<3.1.0,>=2.0.0 in /Users/rishithprathi/opt/anaconda3/lib/python3.9/site-packages (from ipython>=5.5.0->pycaret) (3.0.20)\n",
      "Requirement already satisfied: jedi>=0.16 in /Users/rishithprathi/opt/anaconda3/lib/python3.9/site-packages (from ipython>=5.5.0->pycaret) (0.18.1)\n",
      "Requirement already satisfied: backcall in /Users/rishithprathi/opt/anaconda3/lib/python3.9/site-packages (from ipython>=5.5.0->pycaret) (0.2.0)\n",
      "Requirement already satisfied: pexpect>4.3 in /Users/rishithprathi/opt/anaconda3/lib/python3.9/site-packages (from ipython>=5.5.0->pycaret) (4.8.0)\n",
      "Requirement already satisfied: ipython-genutils~=0.2.0 in /Users/rishithprathi/opt/anaconda3/lib/python3.9/site-packages (from ipywidgets>=7.6.5->pycaret) (0.2.0)\n",
      "Requirement already satisfied: widgetsnbextension~=3.5.0 in /Users/rishithprathi/opt/anaconda3/lib/python3.9/site-packages (from ipywidgets>=7.6.5->pycaret) (3.5.2)\n",
      "Requirement already satisfied: ipykernel>=4.5.1 in /Users/rishithprathi/opt/anaconda3/lib/python3.9/site-packages (from ipywidgets>=7.6.5->pycaret) (6.15.2)\n",
      "Requirement already satisfied: jupyterlab-widgets>=1.0.0 in /Users/rishithprathi/opt/anaconda3/lib/python3.9/site-packages (from ipywidgets>=7.6.5->pycaret) (1.0.0)\n",
      "Requirement already satisfied: wheel in /Users/rishithprathi/opt/anaconda3/lib/python3.9/site-packages (from lightgbm>=3.0.0->pycaret) (0.37.1)\n",
      "Requirement already satisfied: python-dateutil>=2.7 in /Users/rishithprathi/opt/anaconda3/lib/python3.9/site-packages (from matplotlib>=3.3.0->pycaret) (2.8.2)\n",
      "Requirement already satisfied: fonttools>=4.22.0 in /Users/rishithprathi/opt/anaconda3/lib/python3.9/site-packages (from matplotlib>=3.3.0->pycaret) (4.25.0)\n",
      "Requirement already satisfied: pyparsing>=2.2.1 in /Users/rishithprathi/opt/anaconda3/lib/python3.9/site-packages (from matplotlib>=3.3.0->pycaret) (3.0.9)\n",
      "Requirement already satisfied: kiwisolver>=1.0.1 in /Users/rishithprathi/opt/anaconda3/lib/python3.9/site-packages (from matplotlib>=3.3.0->pycaret) (1.4.2)\n",
      "Requirement already satisfied: pillow>=6.2.0 in /Users/rishithprathi/opt/anaconda3/lib/python3.9/site-packages (from matplotlib>=3.3.0->pycaret) (9.2.0)\n",
      "Requirement already satisfied: cycler>=0.10 in /Users/rishithprathi/opt/anaconda3/lib/python3.9/site-packages (from matplotlib>=3.3.0->pycaret) (0.11.0)\n"
     ]
    },
    {
     "name": "stdout",
     "output_type": "stream",
     "text": [
      "Requirement already satisfied: jsonschema>=2.6 in /Users/rishithprathi/opt/anaconda3/lib/python3.9/site-packages (from nbformat>=4.2.0->pycaret) (4.16.0)\n",
      "Requirement already satisfied: jupyter_core in /Users/rishithprathi/opt/anaconda3/lib/python3.9/site-packages (from nbformat>=4.2.0->pycaret) (4.11.1)\n",
      "Requirement already satisfied: fastjsonschema in /Users/rishithprathi/opt/anaconda3/lib/python3.9/site-packages (from nbformat>=4.2.0->pycaret) (2.16.2)\n",
      "Requirement already satisfied: llvmlite<0.39,>=0.38.0rc1 in /Users/rishithprathi/opt/anaconda3/lib/python3.9/site-packages (from numba>=0.55.0->pycaret) (0.38.0)\n",
      "Requirement already satisfied: pytz>=2020.1 in /Users/rishithprathi/opt/anaconda3/lib/python3.9/site-packages (from pandas<2.0.0,>=1.3.0->pycaret) (2022.1)\n",
      "Requirement already satisfied: tenacity>=6.2.0 in /Users/rishithprathi/opt/anaconda3/lib/python3.9/site-packages (from plotly>=5.0.0->pycaret) (8.0.1)\n",
      "Requirement already satisfied: dash<3.0.0,>=2.2.0 in /Users/rishithprathi/opt/anaconda3/lib/python3.9/site-packages (from plotly-resampler>=0.8.3.1->pycaret) (2.11.0)\n",
      "Requirement already satisfied: jupyter-dash>=0.4.2 in /Users/rishithprathi/opt/anaconda3/lib/python3.9/site-packages (from plotly-resampler>=0.8.3.1->pycaret) (0.4.2)\n",
      "Requirement already satisfied: orjson<4.0.0,>=3.8.0 in /Users/rishithprathi/opt/anaconda3/lib/python3.9/site-packages (from plotly-resampler>=0.8.3.1->pycaret) (3.9.1)\n",
      "Requirement already satisfied: trace-updater>=0.0.8 in /Users/rishithprathi/opt/anaconda3/lib/python3.9/site-packages (from plotly-resampler>=0.8.3.1->pycaret) (0.0.9.1)\n",
      "Requirement already satisfied: urllib3 in /Users/rishithprathi/opt/anaconda3/lib/python3.9/site-packages (from pmdarima!=1.8.1,<3.0.0,>=1.8.0->pycaret) (1.26.11)\n",
      "Requirement already satisfied: Cython!=0.29.18,!=0.29.31,>=0.29 in /Users/rishithprathi/opt/anaconda3/lib/python3.9/site-packages (from pmdarima!=1.8.1,<3.0.0,>=1.8.0->pycaret) (0.29.32)\n",
      "Requirement already satisfied: six in /Users/rishithprathi/opt/anaconda3/lib/python3.9/site-packages (from pyod>=1.0.8->pycaret) (1.16.0)\n",
      "Requirement already satisfied: idna<4,>=2.5 in /Users/rishithprathi/opt/anaconda3/lib/python3.9/site-packages (from requests>=2.27.1->pycaret) (3.3)\n",
      "Requirement already satisfied: charset-normalizer<3,>=2 in /Users/rishithprathi/opt/anaconda3/lib/python3.9/site-packages (from requests>=2.27.1->pycaret) (2.0.4)\n",
      "Requirement already satisfied: certifi>=2017.4.17 in /Users/rishithprathi/opt/anaconda3/lib/python3.9/site-packages (from requests>=2.27.1->pycaret) (2022.9.24)\n",
      "Requirement already satisfied: deprecated>=1.2.13 in /Users/rishithprathi/opt/anaconda3/lib/python3.9/site-packages (from sktime!=0.17.1,!=0.17.2,!=0.18.0,>=0.16.1->pycaret) (1.2.14)\n",
      "Requirement already satisfied: scikit-base<0.6.0 in /Users/rishithprathi/opt/anaconda3/lib/python3.9/site-packages (from sktime!=0.17.1,!=0.17.2,!=0.18.0,>=0.16.1->pycaret) (0.5.0)\n",
      "Requirement already satisfied: Flask<2.3.0,>=1.0.4 in /Users/rishithprathi/opt/anaconda3/lib/python3.9/site-packages (from dash<3.0.0,>=2.2.0->plotly-resampler>=0.8.3.1->pycaret) (1.1.2)\n",
      "Requirement already satisfied: typing-extensions>=4.1.1 in /Users/rishithprathi/opt/anaconda3/lib/python3.9/site-packages (from dash<3.0.0,>=2.2.0->plotly-resampler>=0.8.3.1->pycaret) (4.3.0)\n",
      "Requirement already satisfied: ansi2html in /Users/rishithprathi/opt/anaconda3/lib/python3.9/site-packages (from dash<3.0.0,>=2.2.0->plotly-resampler>=0.8.3.1->pycaret) (1.8.0)\n",
      "Requirement already satisfied: Werkzeug<2.3.0 in /Users/rishithprathi/opt/anaconda3/lib/python3.9/site-packages (from dash<3.0.0,>=2.2.0->plotly-resampler>=0.8.3.1->pycaret) (2.0.3)\n",
      "Requirement already satisfied: retrying in /Users/rishithprathi/opt/anaconda3/lib/python3.9/site-packages (from dash<3.0.0,>=2.2.0->plotly-resampler>=0.8.3.1->pycaret) (1.3.4)\n",
      "Requirement already satisfied: nest-asyncio in /Users/rishithprathi/opt/anaconda3/lib/python3.9/site-packages (from dash<3.0.0,>=2.2.0->plotly-resampler>=0.8.3.1->pycaret) (1.5.5)\n",
      "Requirement already satisfied: dash-html-components==2.0.0 in /Users/rishithprathi/opt/anaconda3/lib/python3.9/site-packages (from dash<3.0.0,>=2.2.0->plotly-resampler>=0.8.3.1->pycaret) (2.0.0)\n",
      "Requirement already satisfied: dash-core-components==2.0.0 in /Users/rishithprathi/opt/anaconda3/lib/python3.9/site-packages (from dash<3.0.0,>=2.2.0->plotly-resampler>=0.8.3.1->pycaret) (2.0.0)\n",
      "Requirement already satisfied: dash-table==5.0.0 in /Users/rishithprathi/opt/anaconda3/lib/python3.9/site-packages (from dash<3.0.0,>=2.2.0->plotly-resampler>=0.8.3.1->pycaret) (5.0.0)\n",
      "Requirement already satisfied: wrapt<2,>=1.10 in /Users/rishithprathi/opt/anaconda3/lib/python3.9/site-packages (from deprecated>=1.2.13->sktime!=0.17.1,!=0.17.2,!=0.18.0,>=0.16.1->pycaret) (1.14.1)\n",
      "Requirement already satisfied: debugpy>=1.0 in /Users/rishithprathi/opt/anaconda3/lib/python3.9/site-packages (from ipykernel>=4.5.1->ipywidgets>=7.6.5->pycaret) (1.5.1)\n",
      "Requirement already satisfied: pyzmq>=17 in /Users/rishithprathi/opt/anaconda3/lib/python3.9/site-packages (from ipykernel>=4.5.1->ipywidgets>=7.6.5->pycaret) (23.2.0)\n",
      "Requirement already satisfied: tornado>=6.1 in /Users/rishithprathi/opt/anaconda3/lib/python3.9/site-packages (from ipykernel>=4.5.1->ipywidgets>=7.6.5->pycaret) (6.1)\n",
      "Requirement already satisfied: jupyter-client>=6.1.12 in /Users/rishithprathi/opt/anaconda3/lib/python3.9/site-packages (from ipykernel>=4.5.1->ipywidgets>=7.6.5->pycaret) (7.3.4)\n",
      "Requirement already satisfied: parso<0.9.0,>=0.8.0 in /Users/rishithprathi/opt/anaconda3/lib/python3.9/site-packages (from jedi>=0.16->ipython>=5.5.0->pycaret) (0.8.3)\n",
      "Requirement already satisfied: pyrsistent!=0.17.0,!=0.17.1,!=0.17.2,>=0.14.0 in /Users/rishithprathi/opt/anaconda3/lib/python3.9/site-packages (from jsonschema>=2.6->nbformat>=4.2.0->pycaret) (0.18.0)\n",
      "Requirement already satisfied: attrs>=17.4.0 in /Users/rishithprathi/opt/anaconda3/lib/python3.9/site-packages (from jsonschema>=2.6->nbformat>=4.2.0->pycaret) (21.4.0)\n",
      "Requirement already satisfied: ptyprocess>=0.5 in /Users/rishithprathi/opt/anaconda3/lib/python3.9/site-packages (from pexpect>4.3->ipython>=5.5.0->pycaret) (0.7.0)\n",
      "Requirement already satisfied: wcwidth in /Users/rishithprathi/opt/anaconda3/lib/python3.9/site-packages (from prompt-toolkit!=3.0.0,!=3.0.1,<3.1.0,>=2.0.0->ipython>=5.5.0->pycaret) (0.2.5)\n",
      "Requirement already satisfied: notebook>=4.4.1 in /Users/rishithprathi/opt/anaconda3/lib/python3.9/site-packages (from widgetsnbextension~=3.5.0->ipywidgets>=7.6.5->pycaret) (6.4.12)\n",
      "Requirement already satisfied: itsdangerous>=0.24 in /Users/rishithprathi/opt/anaconda3/lib/python3.9/site-packages (from Flask<2.3.0,>=1.0.4->dash<3.0.0,>=2.2.0->plotly-resampler>=0.8.3.1->pycaret) (2.0.1)\n",
      "Requirement already satisfied: click>=5.1 in /Users/rishithprathi/opt/anaconda3/lib/python3.9/site-packages (from Flask<2.3.0,>=1.0.4->dash<3.0.0,>=2.2.0->plotly-resampler>=0.8.3.1->pycaret) (8.0.4)\n",
      "Requirement already satisfied: entrypoints in /Users/rishithprathi/opt/anaconda3/lib/python3.9/site-packages (from jupyter-client>=6.1.12->ipykernel>=4.5.1->ipywidgets>=7.6.5->pycaret) (0.4)\n",
      "Requirement already satisfied: terminado>=0.8.3 in /Users/rishithprathi/opt/anaconda3/lib/python3.9/site-packages (from notebook>=4.4.1->widgetsnbextension~=3.5.0->ipywidgets>=7.6.5->pycaret) (0.13.1)\n",
      "Requirement already satisfied: prometheus-client in /Users/rishithprathi/opt/anaconda3/lib/python3.9/site-packages (from notebook>=4.4.1->widgetsnbextension~=3.5.0->ipywidgets>=7.6.5->pycaret) (0.14.1)\n",
      "Requirement already satisfied: Send2Trash>=1.8.0 in /Users/rishithprathi/opt/anaconda3/lib/python3.9/site-packages (from notebook>=4.4.1->widgetsnbextension~=3.5.0->ipywidgets>=7.6.5->pycaret) (1.8.0)\n",
      "Requirement already satisfied: argon2-cffi in /Users/rishithprathi/opt/anaconda3/lib/python3.9/site-packages (from notebook>=4.4.1->widgetsnbextension~=3.5.0->ipywidgets>=7.6.5->pycaret) (21.3.0)\n",
      "Requirement already satisfied: nbconvert>=5 in /Users/rishithprathi/opt/anaconda3/lib/python3.9/site-packages (from notebook>=4.4.1->widgetsnbextension~=3.5.0->ipywidgets>=7.6.5->pycaret) (6.4.4)\n",
      "Requirement already satisfied: jupyterlab-pygments in /Users/rishithprathi/opt/anaconda3/lib/python3.9/site-packages (from nbconvert>=5->notebook>=4.4.1->widgetsnbextension~=3.5.0->ipywidgets>=7.6.5->pycaret) (0.1.2)\n",
      "Requirement already satisfied: pandocfilters>=1.4.1 in /Users/rishithprathi/opt/anaconda3/lib/python3.9/site-packages (from nbconvert>=5->notebook>=4.4.1->widgetsnbextension~=3.5.0->ipywidgets>=7.6.5->pycaret) (1.5.0)\n"
     ]
    },
    {
     "name": "stdout",
     "output_type": "stream",
     "text": [
      "Requirement already satisfied: mistune<2,>=0.8.1 in /Users/rishithprathi/opt/anaconda3/lib/python3.9/site-packages (from nbconvert>=5->notebook>=4.4.1->widgetsnbextension~=3.5.0->ipywidgets>=7.6.5->pycaret) (0.8.4)\n",
      "Requirement already satisfied: bleach in /Users/rishithprathi/opt/anaconda3/lib/python3.9/site-packages (from nbconvert>=5->notebook>=4.4.1->widgetsnbextension~=3.5.0->ipywidgets>=7.6.5->pycaret) (4.1.0)\n",
      "Requirement already satisfied: defusedxml in /Users/rishithprathi/opt/anaconda3/lib/python3.9/site-packages (from nbconvert>=5->notebook>=4.4.1->widgetsnbextension~=3.5.0->ipywidgets>=7.6.5->pycaret) (0.7.1)\n",
      "Requirement already satisfied: nbclient<0.6.0,>=0.5.0 in /Users/rishithprathi/opt/anaconda3/lib/python3.9/site-packages (from nbconvert>=5->notebook>=4.4.1->widgetsnbextension~=3.5.0->ipywidgets>=7.6.5->pycaret) (0.5.13)\n",
      "Requirement already satisfied: beautifulsoup4 in /Users/rishithprathi/opt/anaconda3/lib/python3.9/site-packages (from nbconvert>=5->notebook>=4.4.1->widgetsnbextension~=3.5.0->ipywidgets>=7.6.5->pycaret) (4.11.1)\n",
      "Requirement already satisfied: testpath in /Users/rishithprathi/opt/anaconda3/lib/python3.9/site-packages (from nbconvert>=5->notebook>=4.4.1->widgetsnbextension~=3.5.0->ipywidgets>=7.6.5->pycaret) (0.6.0)\n",
      "Requirement already satisfied: argon2-cffi-bindings in /Users/rishithprathi/opt/anaconda3/lib/python3.9/site-packages (from argon2-cffi->notebook>=4.4.1->widgetsnbextension~=3.5.0->ipywidgets>=7.6.5->pycaret) (21.2.0)\n",
      "Requirement already satisfied: cffi>=1.0.1 in /Users/rishithprathi/opt/anaconda3/lib/python3.9/site-packages (from argon2-cffi-bindings->argon2-cffi->notebook>=4.4.1->widgetsnbextension~=3.5.0->ipywidgets>=7.6.5->pycaret) (1.15.1)\n",
      "Requirement already satisfied: soupsieve>1.2 in /Users/rishithprathi/opt/anaconda3/lib/python3.9/site-packages (from beautifulsoup4->nbconvert>=5->notebook>=4.4.1->widgetsnbextension~=3.5.0->ipywidgets>=7.6.5->pycaret) (2.3.1)\n",
      "Requirement already satisfied: webencodings in /Users/rishithprathi/opt/anaconda3/lib/python3.9/site-packages (from bleach->nbconvert>=5->notebook>=4.4.1->widgetsnbextension~=3.5.0->ipywidgets>=7.6.5->pycaret) (0.5.1)\n",
      "Requirement already satisfied: pycparser in /Users/rishithprathi/opt/anaconda3/lib/python3.9/site-packages (from cffi>=1.0.1->argon2-cffi-bindings->argon2-cffi->notebook>=4.4.1->widgetsnbextension~=3.5.0->ipywidgets>=7.6.5->pycaret) (2.21)\n"
     ]
    }
   ],
   "source": [
    "!pip install pycaret\n",
    "\n",
    "import numpy as np\n",
    "import pandas as pd\n",
    "import matplotlib.pyplot as plt\n",
    "import seaborn as sns\n",
    "\n",
    "from pycaret.classification import *\n",
    "\n",
    "from sklearn.metrics import *\n",
    "import scikitplot as skplt\n",
    "\n",
    "df = pd.read_csv(\"small_parkinsons_combined_data.csv\")"
   ]
  },
  {
   "cell_type": "markdown",
   "id": "4f9f6707",
   "metadata": {
    "papermill": {
     "duration": 0.200932,
     "end_time": "2021-08-22T13:44:01.087579",
     "exception": false,
     "start_time": "2021-08-22T13:44:00.886647",
     "status": "completed"
    },
    "tags": []
   },
   "source": [
    "### Exploratory Data Analysis"
   ]
  },
  {
   "cell_type": "code",
   "execution_count": 16,
   "id": "cf92b1af",
   "metadata": {
    "execution": {
     "iopub.execute_input": "2021-08-22T13:44:01.401878Z",
     "iopub.status.busy": "2021-08-22T13:44:01.401122Z",
     "iopub.status.idle": "2021-08-22T13:44:01.442987Z",
     "shell.execute_reply": "2021-08-22T13:44:01.443583Z",
     "shell.execute_reply.started": "2021-08-22T12:57:18.548301Z"
    },
    "papermill": {
     "duration": 0.176424,
     "end_time": "2021-08-22T13:44:01.443764",
     "exception": false,
     "start_time": "2021-08-22T13:44:01.267340",
     "status": "completed"
    },
    "tags": []
   },
   "outputs": [
    {
     "data": {
      "text/html": [
       "<div>\n",
       "<style scoped>\n",
       "    .dataframe tbody tr th:only-of-type {\n",
       "        vertical-align: middle;\n",
       "    }\n",
       "\n",
       "    .dataframe tbody tr th {\n",
       "        vertical-align: top;\n",
       "    }\n",
       "\n",
       "    .dataframe thead th {\n",
       "        text-align: right;\n",
       "    }\n",
       "</style>\n",
       "<table border=\"1\" class=\"dataframe\">\n",
       "  <thead>\n",
       "    <tr style=\"text-align: right;\">\n",
       "      <th></th>\n",
       "      <th>name</th>\n",
       "      <th>MDVP:RAP</th>\n",
       "      <th>MDVP:Shimmer</th>\n",
       "      <th>MDVP:Shimmer(dB)</th>\n",
       "      <th>Shimmer:APQ3</th>\n",
       "      <th>Shimmer:APQ5</th>\n",
       "      <th>Shimmer:DDA</th>\n",
       "      <th>NHR</th>\n",
       "      <th>HNR</th>\n",
       "      <th>status</th>\n",
       "      <th>RPDE</th>\n",
       "      <th>DFA</th>\n",
       "    </tr>\n",
       "  </thead>\n",
       "  <tbody>\n",
       "    <tr>\n",
       "      <th>0</th>\n",
       "      <td>1</td>\n",
       "      <td>0.00093</td>\n",
       "      <td>0.13878</td>\n",
       "      <td>1.326</td>\n",
       "      <td>0.07220</td>\n",
       "      <td>0.09010</td>\n",
       "      <td>0.21661</td>\n",
       "      <td>0.070261</td>\n",
       "      <td>12.354</td>\n",
       "      <td>1</td>\n",
       "      <td>0.70809</td>\n",
       "      <td>0.76831</td>\n",
       "    </tr>\n",
       "    <tr>\n",
       "      <th>1</th>\n",
       "      <td>1</td>\n",
       "      <td>0.00159</td>\n",
       "      <td>0.13069</td>\n",
       "      <td>1.222</td>\n",
       "      <td>0.07043</td>\n",
       "      <td>0.09023</td>\n",
       "      <td>0.21129</td>\n",
       "      <td>0.049389</td>\n",
       "      <td>13.735</td>\n",
       "      <td>1</td>\n",
       "      <td>0.69180</td>\n",
       "      <td>0.77992</td>\n",
       "    </tr>\n",
       "    <tr>\n",
       "      <th>2</th>\n",
       "      <td>1</td>\n",
       "      <td>0.00017</td>\n",
       "      <td>0.04046</td>\n",
       "      <td>0.354</td>\n",
       "      <td>0.01756</td>\n",
       "      <td>0.02433</td>\n",
       "      <td>0.05269</td>\n",
       "      <td>0.002758</td>\n",
       "      <td>27.642</td>\n",
       "      <td>1</td>\n",
       "      <td>0.33216</td>\n",
       "      <td>0.61483</td>\n",
       "    </tr>\n",
       "    <tr>\n",
       "      <th>3</th>\n",
       "      <td>1</td>\n",
       "      <td>0.00024</td>\n",
       "      <td>0.02995</td>\n",
       "      <td>0.266</td>\n",
       "      <td>0.01211</td>\n",
       "      <td>0.01732</td>\n",
       "      <td>0.03632</td>\n",
       "      <td>0.004375</td>\n",
       "      <td>25.185</td>\n",
       "      <td>1</td>\n",
       "      <td>0.37051</td>\n",
       "      <td>0.62018</td>\n",
       "    </tr>\n",
       "    <tr>\n",
       "      <th>4</th>\n",
       "      <td>1</td>\n",
       "      <td>0.00020</td>\n",
       "      <td>0.02734</td>\n",
       "      <td>0.241</td>\n",
       "      <td>0.01309</td>\n",
       "      <td>0.01662</td>\n",
       "      <td>0.03926</td>\n",
       "      <td>0.003428</td>\n",
       "      <td>26.686</td>\n",
       "      <td>1</td>\n",
       "      <td>0.37031</td>\n",
       "      <td>0.63124</td>\n",
       "    </tr>\n",
       "  </tbody>\n",
       "</table>\n",
       "</div>"
      ],
      "text/plain": [
       "  name  MDVP:RAP  MDVP:Shimmer  MDVP:Shimmer(dB)  Shimmer:APQ3  Shimmer:APQ5  \\\n",
       "0    1   0.00093       0.13878             1.326       0.07220       0.09010   \n",
       "1    1   0.00159       0.13069             1.222       0.07043       0.09023   \n",
       "2    1   0.00017       0.04046             0.354       0.01756       0.02433   \n",
       "3    1   0.00024       0.02995             0.266       0.01211       0.01732   \n",
       "4    1   0.00020       0.02734             0.241       0.01309       0.01662   \n",
       "\n",
       "   Shimmer:DDA       NHR     HNR  status     RPDE      DFA  \n",
       "0      0.21661  0.070261  12.354       1  0.70809  0.76831  \n",
       "1      0.21129  0.049389  13.735       1  0.69180  0.77992  \n",
       "2      0.05269  0.002758  27.642       1  0.33216  0.61483  \n",
       "3      0.03632  0.004375  25.185       1  0.37051  0.62018  \n",
       "4      0.03926  0.003428  26.686       1  0.37031  0.63124  "
      ]
     },
     "execution_count": 16,
     "metadata": {},
     "output_type": "execute_result"
    }
   ],
   "source": [
    "df.head()"
   ]
  },
  {
   "cell_type": "code",
   "execution_count": 3,
   "id": "29d79b90",
   "metadata": {
    "execution": {
     "iopub.execute_input": "2021-08-22T13:44:01.655329Z",
     "iopub.status.busy": "2021-08-22T13:44:01.654575Z",
     "iopub.status.idle": "2021-08-22T13:44:01.659264Z",
     "shell.execute_reply": "2021-08-22T13:44:01.659733Z",
     "shell.execute_reply.started": "2021-08-22T12:57:18.584337Z"
    },
    "papermill": {
     "duration": 0.121683,
     "end_time": "2021-08-22T13:44:01.659972",
     "exception": false,
     "start_time": "2021-08-22T13:44:01.538289",
     "status": "completed"
    },
    "tags": []
   },
   "outputs": [
    {
     "name": "stdout",
     "output_type": "stream",
     "text": [
      "<class 'pandas.core.frame.DataFrame'>\n",
      "RangeIndex: 350 entries, 0 to 349\n",
      "Data columns (total 12 columns):\n",
      " #   Column            Non-Null Count  Dtype  \n",
      "---  ------            --------------  -----  \n",
      " 0   name              350 non-null    object \n",
      " 1   MDVP:RAP          350 non-null    float64\n",
      " 2   MDVP:Shimmer      350 non-null    float64\n",
      " 3   MDVP:Shimmer(dB)  350 non-null    float64\n",
      " 4   Shimmer:APQ3      350 non-null    float64\n",
      " 5   Shimmer:APQ5      350 non-null    float64\n",
      " 6   Shimmer:DDA       350 non-null    float64\n",
      " 7   NHR               350 non-null    float64\n",
      " 8   HNR               350 non-null    float64\n",
      " 9   status            350 non-null    int64  \n",
      " 10  RPDE              350 non-null    float64\n",
      " 11  DFA               350 non-null    float64\n",
      "dtypes: float64(10), int64(1), object(1)\n",
      "memory usage: 32.9+ KB\n"
     ]
    }
   ],
   "source": [
    "df.info()"
   ]
  },
  {
   "cell_type": "code",
   "execution_count": 17,
   "id": "c2b0f878",
   "metadata": {
    "execution": {
     "iopub.execute_input": "2021-08-22T13:44:01.862259Z",
     "iopub.status.busy": "2021-08-22T13:44:01.861498Z",
     "iopub.status.idle": "2021-08-22T13:44:01.949476Z",
     "shell.execute_reply": "2021-08-22T13:44:01.950029Z",
     "shell.execute_reply.started": "2021-08-22T12:57:18.605303Z"
    },
    "papermill": {
     "duration": 0.19426,
     "end_time": "2021-08-22T13:44:01.950212",
     "exception": false,
     "start_time": "2021-08-22T13:44:01.755952",
     "status": "completed"
    },
    "tags": []
   },
   "outputs": [
    {
     "data": {
      "text/html": [
       "<div>\n",
       "<style scoped>\n",
       "    .dataframe tbody tr th:only-of-type {\n",
       "        vertical-align: middle;\n",
       "    }\n",
       "\n",
       "    .dataframe tbody tr th {\n",
       "        vertical-align: top;\n",
       "    }\n",
       "\n",
       "    .dataframe thead th {\n",
       "        text-align: right;\n",
       "    }\n",
       "</style>\n",
       "<table border=\"1\" class=\"dataframe\">\n",
       "  <thead>\n",
       "    <tr style=\"text-align: right;\">\n",
       "      <th></th>\n",
       "      <th>MDVP:RAP</th>\n",
       "      <th>MDVP:Shimmer</th>\n",
       "      <th>MDVP:Shimmer(dB)</th>\n",
       "      <th>Shimmer:APQ3</th>\n",
       "      <th>Shimmer:APQ5</th>\n",
       "      <th>Shimmer:DDA</th>\n",
       "      <th>NHR</th>\n",
       "      <th>HNR</th>\n",
       "      <th>status</th>\n",
       "      <th>RPDE</th>\n",
       "      <th>DFA</th>\n",
       "    </tr>\n",
       "  </thead>\n",
       "  <tbody>\n",
       "    <tr>\n",
       "      <th>count</th>\n",
       "      <td>315.000000</td>\n",
       "      <td>315.000000</td>\n",
       "      <td>315.000000</td>\n",
       "      <td>315.000000</td>\n",
       "      <td>315.000000</td>\n",
       "      <td>315.000000</td>\n",
       "      <td>315.000000</td>\n",
       "      <td>315.000000</td>\n",
       "      <td>315.000000</td>\n",
       "      <td>315.000000</td>\n",
       "      <td>315.000000</td>\n",
       "    </tr>\n",
       "    <tr>\n",
       "      <th>mean</th>\n",
       "      <td>0.001953</td>\n",
       "      <td>0.047849</td>\n",
       "      <td>0.438213</td>\n",
       "      <td>0.024506</td>\n",
       "      <td>0.028583</td>\n",
       "      <td>0.073518</td>\n",
       "      <td>0.034183</td>\n",
       "      <td>20.641740</td>\n",
       "      <td>0.752381</td>\n",
       "      <td>0.492250</td>\n",
       "      <td>0.700211</td>\n",
       "    </tr>\n",
       "    <tr>\n",
       "      <th>std</th>\n",
       "      <td>0.002740</td>\n",
       "      <td>0.036170</td>\n",
       "      <td>0.330495</td>\n",
       "      <td>0.018307</td>\n",
       "      <td>0.021708</td>\n",
       "      <td>0.054923</td>\n",
       "      <td>0.063548</td>\n",
       "      <td>5.107784</td>\n",
       "      <td>0.432316</td>\n",
       "      <td>0.121727</td>\n",
       "      <td>0.064324</td>\n",
       "    </tr>\n",
       "    <tr>\n",
       "      <th>min</th>\n",
       "      <td>0.000020</td>\n",
       "      <td>0.006560</td>\n",
       "      <td>0.057000</td>\n",
       "      <td>0.003350</td>\n",
       "      <td>0.004150</td>\n",
       "      <td>0.010040</td>\n",
       "      <td>0.000618</td>\n",
       "      <td>3.425000</td>\n",
       "      <td>0.000000</td>\n",
       "      <td>0.178730</td>\n",
       "      <td>0.552210</td>\n",
       "    </tr>\n",
       "    <tr>\n",
       "      <th>25%</th>\n",
       "      <td>0.000260</td>\n",
       "      <td>0.020315</td>\n",
       "      <td>0.189500</td>\n",
       "      <td>0.011085</td>\n",
       "      <td>0.012210</td>\n",
       "      <td>0.033250</td>\n",
       "      <td>0.005880</td>\n",
       "      <td>17.898500</td>\n",
       "      <td>1.000000</td>\n",
       "      <td>0.402440</td>\n",
       "      <td>0.647790</td>\n",
       "    </tr>\n",
       "    <tr>\n",
       "      <th>50%</th>\n",
       "      <td>0.001150</td>\n",
       "      <td>0.035640</td>\n",
       "      <td>0.331000</td>\n",
       "      <td>0.018130</td>\n",
       "      <td>0.020760</td>\n",
       "      <td>0.054390</td>\n",
       "      <td>0.013051</td>\n",
       "      <td>21.090000</td>\n",
       "      <td>1.000000</td>\n",
       "      <td>0.493920</td>\n",
       "      <td>0.701404</td>\n",
       "    </tr>\n",
       "    <tr>\n",
       "      <th>75%</th>\n",
       "      <td>0.002520</td>\n",
       "      <td>0.065740</td>\n",
       "      <td>0.598000</td>\n",
       "      <td>0.033555</td>\n",
       "      <td>0.040165</td>\n",
       "      <td>0.100655</td>\n",
       "      <td>0.027891</td>\n",
       "      <td>24.640500</td>\n",
       "      <td>1.000000</td>\n",
       "      <td>0.584944</td>\n",
       "      <td>0.755466</td>\n",
       "    </tr>\n",
       "    <tr>\n",
       "      <th>max</th>\n",
       "      <td>0.021440</td>\n",
       "      <td>0.220660</td>\n",
       "      <td>1.891000</td>\n",
       "      <td>0.099980</td>\n",
       "      <td>0.136760</td>\n",
       "      <td>0.299940</td>\n",
       "      <td>0.460579</td>\n",
       "      <td>33.197000</td>\n",
       "      <td>1.000000</td>\n",
       "      <td>0.778480</td>\n",
       "      <td>0.821364</td>\n",
       "    </tr>\n",
       "  </tbody>\n",
       "</table>\n",
       "</div>"
      ],
      "text/plain": [
       "         MDVP:RAP  MDVP:Shimmer  MDVP:Shimmer(dB)  Shimmer:APQ3  Shimmer:APQ5  \\\n",
       "count  315.000000    315.000000        315.000000    315.000000    315.000000   \n",
       "mean     0.001953      0.047849          0.438213      0.024506      0.028583   \n",
       "std      0.002740      0.036170          0.330495      0.018307      0.021708   \n",
       "min      0.000020      0.006560          0.057000      0.003350      0.004150   \n",
       "25%      0.000260      0.020315          0.189500      0.011085      0.012210   \n",
       "50%      0.001150      0.035640          0.331000      0.018130      0.020760   \n",
       "75%      0.002520      0.065740          0.598000      0.033555      0.040165   \n",
       "max      0.021440      0.220660          1.891000      0.099980      0.136760   \n",
       "\n",
       "       Shimmer:DDA         NHR         HNR      status        RPDE         DFA  \n",
       "count   315.000000  315.000000  315.000000  315.000000  315.000000  315.000000  \n",
       "mean      0.073518    0.034183   20.641740    0.752381    0.492250    0.700211  \n",
       "std       0.054923    0.063548    5.107784    0.432316    0.121727    0.064324  \n",
       "min       0.010040    0.000618    3.425000    0.000000    0.178730    0.552210  \n",
       "25%       0.033250    0.005880   17.898500    1.000000    0.402440    0.647790  \n",
       "50%       0.054390    0.013051   21.090000    1.000000    0.493920    0.701404  \n",
       "75%       0.100655    0.027891   24.640500    1.000000    0.584944    0.755466  \n",
       "max       0.299940    0.460579   33.197000    1.000000    0.778480    0.821364  "
      ]
     },
     "execution_count": 17,
     "metadata": {},
     "output_type": "execute_result"
    }
   ],
   "source": [
    "df.describe()"
   ]
  },
  {
   "cell_type": "code",
   "execution_count": 18,
   "id": "e3c58feb",
   "metadata": {
    "execution": {
     "iopub.execute_input": "2021-08-22T13:44:02.175752Z",
     "iopub.status.busy": "2021-08-22T13:44:02.155625Z",
     "iopub.status.idle": "2021-08-22T13:44:02.331055Z",
     "shell.execute_reply": "2021-08-22T13:44:02.330114Z",
     "shell.execute_reply.started": "2021-08-22T13:10:53.887822Z"
    },
    "papermill": {
     "duration": 0.283587,
     "end_time": "2021-08-22T13:44:02.331211",
     "exception": false,
     "start_time": "2021-08-22T13:44:02.047624",
     "status": "completed"
    },
    "tags": []
   },
   "outputs": [
    {
     "data": {
      "image/png": "[encoded data removed]",
      "text/plain": [
       "<Figure size 800x550 with 1 Axes>"
      ]
     },
     "metadata": {},
     "output_type": "display_data"
    }
   ],
   "source": [
    "ax = sns.countplot(x=\"status\", data=df)"
   ]
  },
  {
   "cell_type": "markdown",
   "id": "7d94ebd3",
   "metadata": {
    "papermill": {
     "duration": 0.097288,
     "end_time": "2021-08-22T13:44:02.525169",
     "exception": false,
     "start_time": "2021-08-22T13:44:02.427881",
     "status": "completed"
    },
    "tags": []
   },
   "source": [
    "### Split training & test dataset"
   ]
  },
  {
   "cell_type": "code",
   "execution_count": 21,
   "id": "dba5459f",
   "metadata": {
    "execution": {
     "iopub.execute_input": "2021-08-22T13:44:02.773035Z",
     "iopub.status.busy": "2021-08-22T13:44:02.751625Z",
     "iopub.status.idle": "2021-08-22T13:44:03.132665Z",
     "shell.execute_reply": "2021-08-22T13:44:03.132055Z",
     "shell.execute_reply.started": "2021-08-22T13:10:58.093989Z"
    },
    "papermill": {
     "duration": 0.512104,
     "end_time": "2021-08-22T13:44:03.132842",
     "exception": false,
     "start_time": "2021-08-22T13:44:02.620738",
     "status": "completed"
    },
    "tags": []
   },
   "outputs": [
    {
     "data": {
      "image/png": "[encoded data removed]",
      "text/plain": [
       "<Figure size 600x300 with 2 Axes>"
      ]
     },
     "metadata": {},
     "output_type": "display_data"
    },
    {
     "name": "stdout",
     "output_type": "stream",
     "text": [
      "Training dataset           : 315\n",
      "Unseen data for validation : 35\n"
     ]
    }
   ],
   "source": [
    "test_df = pd.read_csv(\"smallest_parkinsons_combined_data.csv\").reset_index(drop=True)\n",
    "train_df = df.reset_index(drop=True)\n",
    "\n",
    "test_df['set'] = 'test'\n",
    "train_df['set'] = 'train'\n",
    "\n",
    "ax = sns.catplot(x=\"status\", col=\"set\", data=pd.concat([train_df, test_df]), kind=\"count\", height=3)\n",
    "plt.show()\n",
    "\n",
    "print('Training dataset           :', len(train_df))\n",
    "print('Unseen data for validation :', len(test_df))"
   ]
  },
  {
   "cell_type": "markdown",
   "id": "4d95ab14",
   "metadata": {
    "papermill": {
     "duration": 0.09522,
     "end_time": "2021-08-22T13:44:03.326083",
     "exception": false,
     "start_time": "2021-08-22T13:44:03.230863",
     "status": "completed"
    },
    "tags": []
   },
   "source": [
    "### Setup environment"
   ]
  },
  {
   "cell_type": "code",
   "execution_count": 22,
   "id": "c5abd9d8",
   "metadata": {
    "_kg_hide-output": true,
    "execution": {
     "iopub.execute_input": "2021-08-22T13:44:03.526391Z",
     "iopub.status.busy": "2021-08-22T13:44:03.525372Z",
     "iopub.status.idle": "2021-08-22T13:44:05.261406Z",
     "shell.execute_reply": "2021-08-22T13:44:05.260580Z",
     "shell.execute_reply.started": "2021-08-22T13:10:59.713092Z"
    },
    "jupyter": {
     "outputs_hidden": true
    },
    "papermill": {
     "duration": 1.838067,
     "end_time": "2021-08-22T13:44:05.261574",
     "exception": false,
     "start_time": "2021-08-22T13:44:03.423507",
     "status": "completed"
    },
    "scrolled": true,
    "tags": []
   },
   "outputs": [
    {
     "data": {
      "text/html": [
       "<style type=\"text/css\">\n",
       "#T_2fd2f_row10_col1, #T_2fd2f_row16_col1, #T_2fd2f_row18_col1 {\n",
       "  background-color: lightgreen;\n",
       "}\n",
       "</style>\n",
       "<table id=\"T_2fd2f\">\n",
       "  <thead>\n",
       "    <tr>\n",
       "      <th class=\"blank level0\" >&nbsp;</th>\n",
       "      <th id=\"T_2fd2f_level0_col0\" class=\"col_heading level0 col0\" >Description</th>\n",
       "      <th id=\"T_2fd2f_level0_col1\" class=\"col_heading level0 col1\" >Value</th>\n",
       "    </tr>\n",
       "  </thead>\n",
       "  <tbody>\n",
       "    <tr>\n",
       "      <th id=\"T_2fd2f_level0_row0\" class=\"row_heading level0 row0\" >0</th>\n",
       "      <td id=\"T_2fd2f_row0_col0\" class=\"data row0 col0\" >Session id</td>\n",
       "      <td id=\"T_2fd2f_row0_col1\" class=\"data row0 col1\" >123</td>\n",
       "    </tr>\n",
       "    <tr>\n",
       "      <th id=\"T_2fd2f_level0_row1\" class=\"row_heading level0 row1\" >1</th>\n",
       "      <td id=\"T_2fd2f_row1_col0\" class=\"data row1 col0\" >Target</td>\n",
       "      <td id=\"T_2fd2f_row1_col1\" class=\"data row1 col1\" >status</td>\n",
       "    </tr>\n",
       "    <tr>\n",
       "      <th id=\"T_2fd2f_level0_row2\" class=\"row_heading level0 row2\" >2</th>\n",
       "      <td id=\"T_2fd2f_row2_col0\" class=\"data row2 col0\" >Target type</td>\n",
       "      <td id=\"T_2fd2f_row2_col1\" class=\"data row2 col1\" >Binary</td>\n",
       "    </tr>\n",
       "    <tr>\n",
       "      <th id=\"T_2fd2f_level0_row3\" class=\"row_heading level0 row3\" >3</th>\n",
       "      <td id=\"T_2fd2f_row3_col0\" class=\"data row3 col0\" >Original data shape</td>\n",
       "      <td id=\"T_2fd2f_row3_col1\" class=\"data row3 col1\" >(315, 13)</td>\n",
       "    </tr>\n",
       "    <tr>\n",
       "      <th id=\"T_2fd2f_level0_row4\" class=\"row_heading level0 row4\" >4</th>\n",
       "      <td id=\"T_2fd2f_row4_col0\" class=\"data row4 col0\" >Transformed data shape</td>\n",
       "      <td id=\"T_2fd2f_row4_col1\" class=\"data row4 col1\" >(409, 12)</td>\n",
       "    </tr>\n",
       "    <tr>\n",
       "      <th id=\"T_2fd2f_level0_row5\" class=\"row_heading level0 row5\" >5</th>\n",
       "      <td id=\"T_2fd2f_row5_col0\" class=\"data row5 col0\" >Transformed train set shape</td>\n",
       "      <td id=\"T_2fd2f_row5_col1\" class=\"data row5 col1\" >(314, 12)</td>\n",
       "    </tr>\n",
       "    <tr>\n",
       "      <th id=\"T_2fd2f_level0_row6\" class=\"row_heading level0 row6\" >6</th>\n",
       "      <td id=\"T_2fd2f_row6_col0\" class=\"data row6 col0\" >Transformed test set shape</td>\n",
       "      <td id=\"T_2fd2f_row6_col1\" class=\"data row6 col1\" >(95, 12)</td>\n",
       "    </tr>\n",
       "    <tr>\n",
       "      <th id=\"T_2fd2f_level0_row7\" class=\"row_heading level0 row7\" >7</th>\n",
       "      <td id=\"T_2fd2f_row7_col0\" class=\"data row7 col0\" >Ignore features</td>\n",
       "      <td id=\"T_2fd2f_row7_col1\" class=\"data row7 col1\" >1</td>\n",
       "    </tr>\n",
       "    <tr>\n",
       "      <th id=\"T_2fd2f_level0_row8\" class=\"row_heading level0 row8\" >8</th>\n",
       "      <td id=\"T_2fd2f_row8_col0\" class=\"data row8 col0\" >Numeric features</td>\n",
       "      <td id=\"T_2fd2f_row8_col1\" class=\"data row8 col1\" >10</td>\n",
       "    </tr>\n",
       "    <tr>\n",
       "      <th id=\"T_2fd2f_level0_row9\" class=\"row_heading level0 row9\" >9</th>\n",
       "      <td id=\"T_2fd2f_row9_col0\" class=\"data row9 col0\" >Categorical features</td>\n",
       "      <td id=\"T_2fd2f_row9_col1\" class=\"data row9 col1\" >1</td>\n",
       "    </tr>\n",
       "    <tr>\n",
       "      <th id=\"T_2fd2f_level0_row10\" class=\"row_heading level0 row10\" >10</th>\n",
       "      <td id=\"T_2fd2f_row10_col0\" class=\"data row10 col0\" >Preprocess</td>\n",
       "      <td id=\"T_2fd2f_row10_col1\" class=\"data row10 col1\" >True</td>\n",
       "    </tr>\n",
       "    <tr>\n",
       "      <th id=\"T_2fd2f_level0_row11\" class=\"row_heading level0 row11\" >11</th>\n",
       "      <td id=\"T_2fd2f_row11_col0\" class=\"data row11 col0\" >Imputation type</td>\n",
       "      <td id=\"T_2fd2f_row11_col1\" class=\"data row11 col1\" >simple</td>\n",
       "    </tr>\n",
       "    <tr>\n",
       "      <th id=\"T_2fd2f_level0_row12\" class=\"row_heading level0 row12\" >12</th>\n",
       "      <td id=\"T_2fd2f_row12_col0\" class=\"data row12 col0\" >Numeric imputation</td>\n",
       "      <td id=\"T_2fd2f_row12_col1\" class=\"data row12 col1\" >mean</td>\n",
       "    </tr>\n",
       "    <tr>\n",
       "      <th id=\"T_2fd2f_level0_row13\" class=\"row_heading level0 row13\" >13</th>\n",
       "      <td id=\"T_2fd2f_row13_col0\" class=\"data row13 col0\" >Categorical imputation</td>\n",
       "      <td id=\"T_2fd2f_row13_col1\" class=\"data row13 col1\" >mode</td>\n",
       "    </tr>\n",
       "    <tr>\n",
       "      <th id=\"T_2fd2f_level0_row14\" class=\"row_heading level0 row14\" >14</th>\n",
       "      <td id=\"T_2fd2f_row14_col0\" class=\"data row14 col0\" >Maximum one-hot encoding</td>\n",
       "      <td id=\"T_2fd2f_row14_col1\" class=\"data row14 col1\" >25</td>\n",
       "    </tr>\n",
       "    <tr>\n",
       "      <th id=\"T_2fd2f_level0_row15\" class=\"row_heading level0 row15\" >15</th>\n",
       "      <td id=\"T_2fd2f_row15_col0\" class=\"data row15 col0\" >Encoding method</td>\n",
       "      <td id=\"T_2fd2f_row15_col1\" class=\"data row15 col1\" >None</td>\n",
       "    </tr>\n",
       "    <tr>\n",
       "      <th id=\"T_2fd2f_level0_row16\" class=\"row_heading level0 row16\" >16</th>\n",
       "      <td id=\"T_2fd2f_row16_col0\" class=\"data row16 col0\" >Remove outliers</td>\n",
       "      <td id=\"T_2fd2f_row16_col1\" class=\"data row16 col1\" >True</td>\n",
       "    </tr>\n",
       "    <tr>\n",
       "      <th id=\"T_2fd2f_level0_row17\" class=\"row_heading level0 row17\" >17</th>\n",
       "      <td id=\"T_2fd2f_row17_col0\" class=\"data row17 col0\" >Outliers threshold</td>\n",
       "      <td id=\"T_2fd2f_row17_col1\" class=\"data row17 col1\" >0.050000</td>\n",
       "    </tr>\n",
       "    <tr>\n",
       "      <th id=\"T_2fd2f_level0_row18\" class=\"row_heading level0 row18\" >18</th>\n",
       "      <td id=\"T_2fd2f_row18_col0\" class=\"data row18 col0\" >Fix imbalance</td>\n",
       "      <td id=\"T_2fd2f_row18_col1\" class=\"data row18 col1\" >True</td>\n",
       "    </tr>\n",
       "    <tr>\n",
       "      <th id=\"T_2fd2f_level0_row19\" class=\"row_heading level0 row19\" >19</th>\n",
       "      <td id=\"T_2fd2f_row19_col0\" class=\"data row19 col0\" >Fix imbalance method</td>\n",
       "      <td id=\"T_2fd2f_row19_col1\" class=\"data row19 col1\" >SMOTE</td>\n",
       "    </tr>\n",
       "    <tr>\n",
       "      <th id=\"T_2fd2f_level0_row20\" class=\"row_heading level0 row20\" >20</th>\n",
       "      <td id=\"T_2fd2f_row20_col0\" class=\"data row20 col0\" >Fold Generator</td>\n",
       "      <td id=\"T_2fd2f_row20_col1\" class=\"data row20 col1\" >StratifiedKFold</td>\n",
       "    </tr>\n",
       "    <tr>\n",
       "      <th id=\"T_2fd2f_level0_row21\" class=\"row_heading level0 row21\" >21</th>\n",
       "      <td id=\"T_2fd2f_row21_col0\" class=\"data row21 col0\" >Fold Number</td>\n",
       "      <td id=\"T_2fd2f_row21_col1\" class=\"data row21 col1\" >10</td>\n",
       "    </tr>\n",
       "    <tr>\n",
       "      <th id=\"T_2fd2f_level0_row22\" class=\"row_heading level0 row22\" >22</th>\n",
       "      <td id=\"T_2fd2f_row22_col0\" class=\"data row22 col0\" >CPU Jobs</td>\n",
       "      <td id=\"T_2fd2f_row22_col1\" class=\"data row22 col1\" >-1</td>\n",
       "    </tr>\n",
       "    <tr>\n",
       "      <th id=\"T_2fd2f_level0_row23\" class=\"row_heading level0 row23\" >23</th>\n",
       "      <td id=\"T_2fd2f_row23_col0\" class=\"data row23 col0\" >Use GPU</td>\n",
       "      <td id=\"T_2fd2f_row23_col1\" class=\"data row23 col1\" >False</td>\n",
       "    </tr>\n",
       "    <tr>\n",
       "      <th id=\"T_2fd2f_level0_row24\" class=\"row_heading level0 row24\" >24</th>\n",
       "      <td id=\"T_2fd2f_row24_col0\" class=\"data row24 col0\" >Log Experiment</td>\n",
       "      <td id=\"T_2fd2f_row24_col1\" class=\"data row24 col1\" >False</td>\n",
       "    </tr>\n",
       "    <tr>\n",
       "      <th id=\"T_2fd2f_level0_row25\" class=\"row_heading level0 row25\" >25</th>\n",
       "      <td id=\"T_2fd2f_row25_col0\" class=\"data row25 col0\" >Experiment Name</td>\n",
       "      <td id=\"T_2fd2f_row25_col1\" class=\"data row25 col1\" >clf-default-name</td>\n",
       "    </tr>\n",
       "    <tr>\n",
       "      <th id=\"T_2fd2f_level0_row26\" class=\"row_heading level0 row26\" >26</th>\n",
       "      <td id=\"T_2fd2f_row26_col0\" class=\"data row26 col0\" >USI</td>\n",
       "      <td id=\"T_2fd2f_row26_col1\" class=\"data row26 col1\" >5e68</td>\n",
       "    </tr>\n",
       "  </tbody>\n",
       "</table>\n"
      ],
      "text/plain": [
       "<pandas.io.formats.style.Styler at 0x7fd6241fc0a0>"
      ]
     },
     "metadata": {},
     "output_type": "display_data"
    }
   ],
   "source": [
    "clf1 = setup(data = train_df, target = 'status',ignore_features = ['name'], fix_imbalance=True, session_id=123, remove_outliers = True)\n",
    "\n",
    "\n"
   ]
  },
  {
   "cell_type": "markdown",
   "id": "13cc7476",
   "metadata": {
    "papermill": {
     "duration": 0.098835,
     "end_time": "2021-08-22T13:44:05.459851",
     "exception": false,
     "start_time": "2021-08-22T13:44:05.361016",
     "status": "completed"
    },
    "tags": []
   },
   "source": [
    "### Model selection"
   ]
  },
  {
   "cell_type": "code",
   "execution_count": 8,
   "id": "20cfd0e0",
   "metadata": {
    "execution": {
     "iopub.execute_input": "2021-08-22T13:44:05.674835Z",
     "iopub.status.busy": "2021-08-22T13:44:05.673863Z",
     "iopub.status.idle": "2021-08-22T13:45:31.857756Z",
     "shell.execute_reply": "2021-08-22T13:45:31.857228Z",
     "shell.execute_reply.started": "2021-08-22T13:11:03.510927Z"
    },
    "papermill": {
     "duration": 86.300381,
     "end_time": "2021-08-22T13:45:31.857898",
     "exception": false,
     "start_time": "2021-08-22T13:44:05.557517",
     "status": "completed"
    },
    "tags": []
   },
   "outputs": [
    {
     "data": {
      "text/html": [],
      "text/plain": [
       "<IPython.core.display.HTML object>"
      ]
     },
     "metadata": {},
     "output_type": "display_data"
    },
    {
     "data": {
      "text/html": [
       "<style type=\"text/css\">\n",
       "#T_6afa7 th {\n",
       "  text-align: left;\n",
       "}\n",
       "#T_6afa7_row0_col0, #T_6afa7_row0_col2, #T_6afa7_row0_col4, #T_6afa7_row1_col0, #T_6afa7_row1_col1, #T_6afa7_row1_col3, #T_6afa7_row1_col4, #T_6afa7_row1_col5, #T_6afa7_row1_col6, #T_6afa7_row1_col7, #T_6afa7_row2_col0, #T_6afa7_row2_col1, #T_6afa7_row2_col2, #T_6afa7_row2_col3, #T_6afa7_row2_col4, #T_6afa7_row2_col5, #T_6afa7_row2_col6, #T_6afa7_row2_col7, #T_6afa7_row3_col0, #T_6afa7_row3_col1, #T_6afa7_row3_col2, #T_6afa7_row3_col3, #T_6afa7_row3_col4, #T_6afa7_row3_col5, #T_6afa7_row3_col6, #T_6afa7_row3_col7, #T_6afa7_row4_col0, #T_6afa7_row4_col1, #T_6afa7_row4_col2, #T_6afa7_row4_col3, #T_6afa7_row4_col4, #T_6afa7_row4_col5, #T_6afa7_row4_col6, #T_6afa7_row4_col7, #T_6afa7_row5_col0, #T_6afa7_row5_col1, #T_6afa7_row5_col2, #T_6afa7_row5_col3, #T_6afa7_row5_col4, #T_6afa7_row5_col5, #T_6afa7_row5_col6, #T_6afa7_row5_col7, #T_6afa7_row6_col0, #T_6afa7_row6_col1, #T_6afa7_row6_col2, #T_6afa7_row6_col3, #T_6afa7_row6_col4, #T_6afa7_row6_col5, #T_6afa7_row6_col6, #T_6afa7_row6_col7, #T_6afa7_row7_col0, #T_6afa7_row7_col1, #T_6afa7_row7_col2, #T_6afa7_row7_col3, #T_6afa7_row7_col4, #T_6afa7_row7_col5, #T_6afa7_row7_col6, #T_6afa7_row7_col7, #T_6afa7_row8_col0, #T_6afa7_row8_col1, #T_6afa7_row8_col2, #T_6afa7_row8_col3, #T_6afa7_row8_col4, #T_6afa7_row8_col5, #T_6afa7_row8_col6, #T_6afa7_row8_col7, #T_6afa7_row9_col0, #T_6afa7_row9_col1, #T_6afa7_row9_col2, #T_6afa7_row9_col3, #T_6afa7_row9_col4, #T_6afa7_row9_col5, #T_6afa7_row9_col6, #T_6afa7_row9_col7, #T_6afa7_row10_col0, #T_6afa7_row10_col1, #T_6afa7_row10_col2, #T_6afa7_row10_col3, #T_6afa7_row10_col4, #T_6afa7_row10_col5, #T_6afa7_row10_col6, #T_6afa7_row10_col7, #T_6afa7_row11_col0, #T_6afa7_row11_col1, #T_6afa7_row11_col2, #T_6afa7_row11_col3, #T_6afa7_row11_col5, #T_6afa7_row11_col6, #T_6afa7_row11_col7, #T_6afa7_row12_col0, #T_6afa7_row12_col1, #T_6afa7_row12_col2, #T_6afa7_row12_col3, #T_6afa7_row12_col4, #T_6afa7_row12_col5, #T_6afa7_row12_col6, #T_6afa7_row12_col7, #T_6afa7_row13_col0, #T_6afa7_row13_col1, #T_6afa7_row13_col2, #T_6afa7_row13_col3, #T_6afa7_row13_col4, #T_6afa7_row13_col5, #T_6afa7_row13_col6, #T_6afa7_row13_col7 {\n",
       "  text-align: left;\n",
       "}\n",
       "#T_6afa7_row0_col1, #T_6afa7_row0_col3, #T_6afa7_row0_col5, #T_6afa7_row0_col6, #T_6afa7_row0_col7, #T_6afa7_row1_col2, #T_6afa7_row11_col4 {\n",
       "  text-align: left;\n",
       "  background-color: yellow;\n",
       "}\n",
       "#T_6afa7_row0_col8, #T_6afa7_row1_col8, #T_6afa7_row2_col8, #T_6afa7_row3_col8, #T_6afa7_row4_col8, #T_6afa7_row5_col8, #T_6afa7_row7_col8, #T_6afa7_row8_col8, #T_6afa7_row9_col8, #T_6afa7_row10_col8, #T_6afa7_row11_col8, #T_6afa7_row12_col8, #T_6afa7_row13_col8 {\n",
       "  text-align: left;\n",
       "  background-color: lightgrey;\n",
       "}\n",
       "#T_6afa7_row6_col8 {\n",
       "  text-align: left;\n",
       "  background-color: yellow;\n",
       "  background-color: lightgrey;\n",
       "}\n",
       "</style>\n",
       "<table id=\"T_6afa7\">\n",
       "  <thead>\n",
       "    <tr>\n",
       "      <th class=\"blank level0\" >&nbsp;</th>\n",
       "      <th id=\"T_6afa7_level0_col0\" class=\"col_heading level0 col0\" >Model</th>\n",
       "      <th id=\"T_6afa7_level0_col1\" class=\"col_heading level0 col1\" >Accuracy</th>\n",
       "      <th id=\"T_6afa7_level0_col2\" class=\"col_heading level0 col2\" >AUC</th>\n",
       "      <th id=\"T_6afa7_level0_col3\" class=\"col_heading level0 col3\" >Recall</th>\n",
       "      <th id=\"T_6afa7_level0_col4\" class=\"col_heading level0 col4\" >Prec.</th>\n",
       "      <th id=\"T_6afa7_level0_col5\" class=\"col_heading level0 col5\" >F1</th>\n",
       "      <th id=\"T_6afa7_level0_col6\" class=\"col_heading level0 col6\" >Kappa</th>\n",
       "      <th id=\"T_6afa7_level0_col7\" class=\"col_heading level0 col7\" >MCC</th>\n",
       "      <th id=\"T_6afa7_level0_col8\" class=\"col_heading level0 col8\" >TT (Sec)</th>\n",
       "    </tr>\n",
       "  </thead>\n",
       "  <tbody>\n",
       "    <tr>\n",
       "      <th id=\"T_6afa7_level0_row0\" class=\"row_heading level0 row0\" >et</th>\n",
       "      <td id=\"T_6afa7_row0_col0\" class=\"data row0 col0\" >Extra Trees Classifier</td>\n",
       "      <td id=\"T_6afa7_row0_col1\" class=\"data row0 col1\" >0.7915</td>\n",
       "      <td id=\"T_6afa7_row0_col2\" class=\"data row0 col2\" >0.7784</td>\n",
       "      <td id=\"T_6afa7_row0_col3\" class=\"data row0 col3\" >0.8658</td>\n",
       "      <td id=\"T_6afa7_row0_col4\" class=\"data row0 col4\" >0.8660</td>\n",
       "      <td id=\"T_6afa7_row0_col5\" class=\"data row0 col5\" >0.8624</td>\n",
       "      <td id=\"T_6afa7_row0_col6\" class=\"data row0 col6\" >0.4129</td>\n",
       "      <td id=\"T_6afa7_row0_col7\" class=\"data row0 col7\" >0.4247</td>\n",
       "      <td id=\"T_6afa7_row0_col8\" class=\"data row0 col8\" >0.6220</td>\n",
       "    </tr>\n",
       "    <tr>\n",
       "      <th id=\"T_6afa7_level0_row1\" class=\"row_heading level0 row1\" >lightgbm</th>\n",
       "      <td id=\"T_6afa7_row1_col0\" class=\"data row1 col0\" >Light Gradient Boosting Machine</td>\n",
       "      <td id=\"T_6afa7_row1_col1\" class=\"data row1 col1\" >0.7832</td>\n",
       "      <td id=\"T_6afa7_row1_col2\" class=\"data row1 col2\" >0.8049</td>\n",
       "      <td id=\"T_6afa7_row1_col3\" class=\"data row1 col3\" >0.8450</td>\n",
       "      <td id=\"T_6afa7_row1_col4\" class=\"data row1 col4\" >0.8734</td>\n",
       "      <td id=\"T_6afa7_row1_col5\" class=\"data row1 col5\" >0.8563</td>\n",
       "      <td id=\"T_6afa7_row1_col6\" class=\"data row1 col6\" >0.4013</td>\n",
       "      <td id=\"T_6afa7_row1_col7\" class=\"data row1 col7\" >0.4131</td>\n",
       "      <td id=\"T_6afa7_row1_col8\" class=\"data row1 col8\" >0.5660</td>\n",
       "    </tr>\n",
       "    <tr>\n",
       "      <th id=\"T_6afa7_level0_row2\" class=\"row_heading level0 row2\" >rf</th>\n",
       "      <td id=\"T_6afa7_row2_col0\" class=\"data row2 col0\" >Random Forest Classifier</td>\n",
       "      <td id=\"T_6afa7_row2_col1\" class=\"data row2 col1\" >0.7587</td>\n",
       "      <td id=\"T_6afa7_row2_col2\" class=\"data row2 col2\" >0.7871</td>\n",
       "      <td id=\"T_6afa7_row2_col3\" class=\"data row2 col3\" >0.8289</td>\n",
       "      <td id=\"T_6afa7_row2_col4\" class=\"data row2 col4\" >0.8563</td>\n",
       "      <td id=\"T_6afa7_row2_col5\" class=\"data row2 col5\" >0.8396</td>\n",
       "      <td id=\"T_6afa7_row2_col6\" class=\"data row2 col6\" >0.3394</td>\n",
       "      <td id=\"T_6afa7_row2_col7\" class=\"data row2 col7\" >0.3470</td>\n",
       "      <td id=\"T_6afa7_row2_col8\" class=\"data row2 col8\" >0.5730</td>\n",
       "    </tr>\n",
       "    <tr>\n",
       "      <th id=\"T_6afa7_level0_row3\" class=\"row_heading level0 row3\" >gbc</th>\n",
       "      <td id=\"T_6afa7_row3_col0\" class=\"data row3 col0\" >Gradient Boosting Classifier</td>\n",
       "      <td id=\"T_6afa7_row3_col1\" class=\"data row3 col1\" >0.7583</td>\n",
       "      <td id=\"T_6afa7_row3_col2\" class=\"data row3 col2\" >0.7920</td>\n",
       "      <td id=\"T_6afa7_row3_col3\" class=\"data row3 col3\" >0.8345</td>\n",
       "      <td id=\"T_6afa7_row3_col4\" class=\"data row3 col4\" >0.8517</td>\n",
       "      <td id=\"T_6afa7_row3_col5\" class=\"data row3 col5\" >0.8404</td>\n",
       "      <td id=\"T_6afa7_row3_col6\" class=\"data row3 col6\" >0.3311</td>\n",
       "      <td id=\"T_6afa7_row3_col7\" class=\"data row3 col7\" >0.3393</td>\n",
       "      <td id=\"T_6afa7_row3_col8\" class=\"data row3 col8\" >0.4910</td>\n",
       "    </tr>\n",
       "    <tr>\n",
       "      <th id=\"T_6afa7_level0_row4\" class=\"row_heading level0 row4\" >dt</th>\n",
       "      <td id=\"T_6afa7_row4_col0\" class=\"data row4 col0\" >Decision Tree Classifier</td>\n",
       "      <td id=\"T_6afa7_row4_col1\" class=\"data row4 col1\" >0.7335</td>\n",
       "      <td id=\"T_6afa7_row4_col2\" class=\"data row4 col2\" >0.6393</td>\n",
       "      <td id=\"T_6afa7_row4_col3\" class=\"data row4 col3\" >0.8120</td>\n",
       "      <td id=\"T_6afa7_row4_col4\" class=\"data row4 col4\" >0.8341</td>\n",
       "      <td id=\"T_6afa7_row4_col5\" class=\"data row4 col5\" >0.8204</td>\n",
       "      <td id=\"T_6afa7_row4_col6\" class=\"data row4 col6\" >0.2795</td>\n",
       "      <td id=\"T_6afa7_row4_col7\" class=\"data row4 col7\" >0.2838</td>\n",
       "      <td id=\"T_6afa7_row4_col8\" class=\"data row4 col8\" >0.3290</td>\n",
       "    </tr>\n",
       "    <tr>\n",
       "      <th id=\"T_6afa7_level0_row5\" class=\"row_heading level0 row5\" >ada</th>\n",
       "      <td id=\"T_6afa7_row5_col0\" class=\"data row5 col0\" >Ada Boost Classifier</td>\n",
       "      <td id=\"T_6afa7_row5_col1\" class=\"data row5 col1\" >0.7015</td>\n",
       "      <td id=\"T_6afa7_row5_col2\" class=\"data row5 col2\" >0.6915</td>\n",
       "      <td id=\"T_6afa7_row5_col3\" class=\"data row5 col3\" >0.7599</td>\n",
       "      <td id=\"T_6afa7_row5_col4\" class=\"data row5 col4\" >0.8353</td>\n",
       "      <td id=\"T_6afa7_row5_col5\" class=\"data row5 col5\" >0.7935</td>\n",
       "      <td id=\"T_6afa7_row5_col6\" class=\"data row5 col6\" >0.2508</td>\n",
       "      <td id=\"T_6afa7_row5_col7\" class=\"data row5 col7\" >0.2582</td>\n",
       "      <td id=\"T_6afa7_row5_col8\" class=\"data row5 col8\" >0.4670</td>\n",
       "    </tr>\n",
       "    <tr>\n",
       "      <th id=\"T_6afa7_level0_row6\" class=\"row_heading level0 row6\" >knn</th>\n",
       "      <td id=\"T_6afa7_row6_col0\" class=\"data row6 col0\" >K Neighbors Classifier</td>\n",
       "      <td id=\"T_6afa7_row6_col1\" class=\"data row6 col1\" >0.6855</td>\n",
       "      <td id=\"T_6afa7_row6_col2\" class=\"data row6 col2\" >0.6998</td>\n",
       "      <td id=\"T_6afa7_row6_col3\" class=\"data row6 col3\" >0.7178</td>\n",
       "      <td id=\"T_6afa7_row6_col4\" class=\"data row6 col4\" >0.8568</td>\n",
       "      <td id=\"T_6afa7_row6_col5\" class=\"data row6 col5\" >0.7756</td>\n",
       "      <td id=\"T_6afa7_row6_col6\" class=\"data row6 col6\" >0.2484</td>\n",
       "      <td id=\"T_6afa7_row6_col7\" class=\"data row6 col7\" >0.2686</td>\n",
       "      <td id=\"T_6afa7_row6_col8\" class=\"data row6 col8\" >0.3040</td>\n",
       "    </tr>\n",
       "    <tr>\n",
       "      <th id=\"T_6afa7_level0_row7\" class=\"row_heading level0 row7\" >lda</th>\n",
       "      <td id=\"T_6afa7_row7_col0\" class=\"data row7 col0\" >Linear Discriminant Analysis</td>\n",
       "      <td id=\"T_6afa7_row7_col1\" class=\"data row7 col1\" >0.6853</td>\n",
       "      <td id=\"T_6afa7_row7_col2\" class=\"data row7 col2\" >0.7780</td>\n",
       "      <td id=\"T_6afa7_row7_col3\" class=\"data row7 col3\" >0.6912</td>\n",
       "      <td id=\"T_6afa7_row7_col4\" class=\"data row7 col4\" >0.8740</td>\n",
       "      <td id=\"T_6afa7_row7_col5\" class=\"data row7 col5\" >0.7696</td>\n",
       "      <td id=\"T_6afa7_row7_col6\" class=\"data row7 col6\" >0.2899</td>\n",
       "      <td id=\"T_6afa7_row7_col7\" class=\"data row7 col7\" >0.3124</td>\n",
       "      <td id=\"T_6afa7_row7_col8\" class=\"data row7 col8\" >0.3620</td>\n",
       "    </tr>\n",
       "    <tr>\n",
       "      <th id=\"T_6afa7_level0_row8\" class=\"row_heading level0 row8\" >ridge</th>\n",
       "      <td id=\"T_6afa7_row8_col0\" class=\"data row8 col0\" >Ridge Classifier</td>\n",
       "      <td id=\"T_6afa7_row8_col1\" class=\"data row8 col1\" >0.6682</td>\n",
       "      <td id=\"T_6afa7_row8_col2\" class=\"data row8 col2\" >0.0000</td>\n",
       "      <td id=\"T_6afa7_row8_col3\" class=\"data row8 col3\" >0.6702</td>\n",
       "      <td id=\"T_6afa7_row8_col4\" class=\"data row8 col4\" >0.8721</td>\n",
       "      <td id=\"T_6afa7_row8_col5\" class=\"data row8 col5\" >0.7521</td>\n",
       "      <td id=\"T_6afa7_row8_col6\" class=\"data row8 col6\" >0.2698</td>\n",
       "      <td id=\"T_6afa7_row8_col7\" class=\"data row8 col7\" >0.2947</td>\n",
       "      <td id=\"T_6afa7_row8_col8\" class=\"data row8 col8\" >0.3220</td>\n",
       "    </tr>\n",
       "    <tr>\n",
       "      <th id=\"T_6afa7_level0_row9\" class=\"row_heading level0 row9\" >lr</th>\n",
       "      <td id=\"T_6afa7_row9_col0\" class=\"data row9 col0\" >Logistic Regression</td>\n",
       "      <td id=\"T_6afa7_row9_col1\" class=\"data row9 col1\" >0.6647</td>\n",
       "      <td id=\"T_6afa7_row9_col2\" class=\"data row9 col2\" >0.7403</td>\n",
       "      <td id=\"T_6afa7_row9_col3\" class=\"data row9 col3\" >0.6599</td>\n",
       "      <td id=\"T_6afa7_row9_col4\" class=\"data row9 col4\" >0.8769</td>\n",
       "      <td id=\"T_6afa7_row9_col5\" class=\"data row9 col5\" >0.7465</td>\n",
       "      <td id=\"T_6afa7_row9_col6\" class=\"data row9 col6\" >0.2723</td>\n",
       "      <td id=\"T_6afa7_row9_col7\" class=\"data row9 col7\" >0.2986</td>\n",
       "      <td id=\"T_6afa7_row9_col8\" class=\"data row9 col8\" >0.9380</td>\n",
       "    </tr>\n",
       "    <tr>\n",
       "      <th id=\"T_6afa7_level0_row10\" class=\"row_heading level0 row10\" >svm</th>\n",
       "      <td id=\"T_6afa7_row10_col0\" class=\"data row10 col0\" >SVM - Linear Kernel</td>\n",
       "      <td id=\"T_6afa7_row10_col1\" class=\"data row10 col1\" >0.6608</td>\n",
       "      <td id=\"T_6afa7_row10_col2\" class=\"data row10 col2\" >0.0000</td>\n",
       "      <td id=\"T_6afa7_row10_col3\" class=\"data row10 col3\" >0.7123</td>\n",
       "      <td id=\"T_6afa7_row10_col4\" class=\"data row10 col4\" >0.8610</td>\n",
       "      <td id=\"T_6afa7_row10_col5\" class=\"data row10 col5\" >0.7203</td>\n",
       "      <td id=\"T_6afa7_row10_col6\" class=\"data row10 col6\" >0.1499</td>\n",
       "      <td id=\"T_6afa7_row10_col7\" class=\"data row10 col7\" >0.1898</td>\n",
       "      <td id=\"T_6afa7_row10_col8\" class=\"data row10 col8\" >0.3210</td>\n",
       "    </tr>\n",
       "    <tr>\n",
       "      <th id=\"T_6afa7_level0_row11\" class=\"row_heading level0 row11\" >nb</th>\n",
       "      <td id=\"T_6afa7_row11_col0\" class=\"data row11 col0\" >Naive Bayes</td>\n",
       "      <td id=\"T_6afa7_row11_col1\" class=\"data row11 col1\" >0.5952</td>\n",
       "      <td id=\"T_6afa7_row11_col2\" class=\"data row11 col2\" >0.7059</td>\n",
       "      <td id=\"T_6afa7_row11_col3\" class=\"data row11 col3\" >0.5591</td>\n",
       "      <td id=\"T_6afa7_row11_col4\" class=\"data row11 col4\" >0.8832</td>\n",
       "      <td id=\"T_6afa7_row11_col5\" class=\"data row11 col5\" >0.6724</td>\n",
       "      <td id=\"T_6afa7_row11_col6\" class=\"data row11 col6\" >0.2004</td>\n",
       "      <td id=\"T_6afa7_row11_col7\" class=\"data row11 col7\" >0.2478</td>\n",
       "      <td id=\"T_6afa7_row11_col8\" class=\"data row11 col8\" >0.3110</td>\n",
       "    </tr>\n",
       "    <tr>\n",
       "      <th id=\"T_6afa7_level0_row12\" class=\"row_heading level0 row12\" >qda</th>\n",
       "      <td id=\"T_6afa7_row12_col0\" class=\"data row12 col0\" >Quadratic Discriminant Analysis</td>\n",
       "      <td id=\"T_6afa7_row12_col1\" class=\"data row12 col1\" >0.2325</td>\n",
       "      <td id=\"T_6afa7_row12_col2\" class=\"data row12 col2\" >0.0000</td>\n",
       "      <td id=\"T_6afa7_row12_col3\" class=\"data row12 col3\" >0.0000</td>\n",
       "      <td id=\"T_6afa7_row12_col4\" class=\"data row12 col4\" >0.0000</td>\n",
       "      <td id=\"T_6afa7_row12_col5\" class=\"data row12 col5\" >0.0000</td>\n",
       "      <td id=\"T_6afa7_row12_col6\" class=\"data row12 col6\" >0.0000</td>\n",
       "      <td id=\"T_6afa7_row12_col7\" class=\"data row12 col7\" >0.0000</td>\n",
       "      <td id=\"T_6afa7_row12_col8\" class=\"data row12 col8\" >0.3560</td>\n",
       "    </tr>\n",
       "    <tr>\n",
       "      <th id=\"T_6afa7_level0_row13\" class=\"row_heading level0 row13\" >dummy</th>\n",
       "      <td id=\"T_6afa7_row13_col0\" class=\"data row13 col0\" >Dummy Classifier</td>\n",
       "      <td id=\"T_6afa7_row13_col1\" class=\"data row13 col1\" >0.2325</td>\n",
       "      <td id=\"T_6afa7_row13_col2\" class=\"data row13 col2\" >0.5000</td>\n",
       "      <td id=\"T_6afa7_row13_col3\" class=\"data row13 col3\" >0.0000</td>\n",
       "      <td id=\"T_6afa7_row13_col4\" class=\"data row13 col4\" >0.0000</td>\n",
       "      <td id=\"T_6afa7_row13_col5\" class=\"data row13 col5\" >0.0000</td>\n",
       "      <td id=\"T_6afa7_row13_col6\" class=\"data row13 col6\" >0.0000</td>\n",
       "      <td id=\"T_6afa7_row13_col7\" class=\"data row13 col7\" >0.0000</td>\n",
       "      <td id=\"T_6afa7_row13_col8\" class=\"data row13 col8\" >0.3820</td>\n",
       "    </tr>\n",
       "  </tbody>\n",
       "</table>\n"
      ],
      "text/plain": [
       "<pandas.io.formats.style.Styler at 0x7fa16b03b220>"
      ]
     },
     "metadata": {},
     "output_type": "display_data"
    },
    {
     "data": {
      "application/vnd.jupyter.widget-view+json": {
       "model_id": "",
       "version_major": 2,
       "version_minor": 0
      },
      "text/plain": [
       "Processing:   0%|          | 0/61 [00:00<?, ?it/s]"
      ]
     },
     "metadata": {},
     "output_type": "display_data"
    },
    {
     "data": {
      "text/plain": [
       "ExtraTreesClassifier(bootstrap=False, ccp_alpha=0.0, class_weight=None,\n",
       "                     criterion='gini', max_depth=None, max_features='auto',\n",
       "                     max_leaf_nodes=None, max_samples=None,\n",
       "                     min_impurity_decrease=0.0, min_samples_leaf=1,\n",
       "                     min_samples_split=2, min_weight_fraction_leaf=0.0,\n",
       "                     n_estimators=100, n_jobs=-1, oob_score=False,\n",
       "                     random_state=123, verbose=0, warm_start=False)"
      ]
     },
     "execution_count": 8,
     "metadata": {},
     "output_type": "execute_result"
    }
   ],
   "source": [
    "compare_models()"
   ]
  },
  {
   "cell_type": "markdown",
   "id": "fc9e3aee",
   "metadata": {
    "papermill": {
     "duration": 0.097678,
     "end_time": "2021-08-22T13:45:32.057214",
     "exception": false,
     "start_time": "2021-08-22T13:45:31.959536",
     "status": "completed"
    },
    "tags": []
   },
   "source": [
    "### Create Extra Trees Classifier Model"
   ]
  },
  {
   "cell_type": "code",
   "execution_count": 23,
   "id": "12704311",
   "metadata": {
    "execution": {
     "iopub.execute_input": "2021-08-22T13:45:32.264492Z",
     "iopub.status.busy": "2021-08-22T13:45:32.263746Z",
     "iopub.status.idle": "2021-08-22T13:45:45.233782Z",
     "shell.execute_reply": "2021-08-22T13:45:45.233120Z",
     "shell.execute_reply.started": "2021-08-22T13:12:32.673608Z"
    },
    "papermill": {
     "duration": 13.076747,
     "end_time": "2021-08-22T13:45:45.233951",
     "exception": false,
     "start_time": "2021-08-22T13:45:32.157204",
     "status": "completed"
    },
    "tags": []
   },
   "outputs": [
    {
     "data": {
      "text/html": [],
      "text/plain": [
       "<IPython.core.display.HTML object>"
      ]
     },
     "metadata": {},
     "output_type": "display_data"
    },
    {
     "data": {
      "text/html": [
       "<style type=\"text/css\">\n",
       "#T_bd58b_row10_col0, #T_bd58b_row10_col1, #T_bd58b_row10_col2, #T_bd58b_row10_col3, #T_bd58b_row10_col4, #T_bd58b_row10_col5, #T_bd58b_row10_col6 {\n",
       "  background: yellow;\n",
       "}\n",
       "</style>\n",
       "<table id=\"T_bd58b\">\n",
       "  <thead>\n",
       "    <tr>\n",
       "      <th class=\"blank level0\" >&nbsp;</th>\n",
       "      <th id=\"T_bd58b_level0_col0\" class=\"col_heading level0 col0\" >Accuracy</th>\n",
       "      <th id=\"T_bd58b_level0_col1\" class=\"col_heading level0 col1\" >AUC</th>\n",
       "      <th id=\"T_bd58b_level0_col2\" class=\"col_heading level0 col2\" >Recall</th>\n",
       "      <th id=\"T_bd58b_level0_col3\" class=\"col_heading level0 col3\" >Prec.</th>\n",
       "      <th id=\"T_bd58b_level0_col4\" class=\"col_heading level0 col4\" >F1</th>\n",
       "      <th id=\"T_bd58b_level0_col5\" class=\"col_heading level0 col5\" >Kappa</th>\n",
       "      <th id=\"T_bd58b_level0_col6\" class=\"col_heading level0 col6\" >MCC</th>\n",
       "    </tr>\n",
       "    <tr>\n",
       "      <th class=\"index_name level0\" >Fold</th>\n",
       "      <th class=\"blank col0\" >&nbsp;</th>\n",
       "      <th class=\"blank col1\" >&nbsp;</th>\n",
       "      <th class=\"blank col2\" >&nbsp;</th>\n",
       "      <th class=\"blank col3\" >&nbsp;</th>\n",
       "      <th class=\"blank col4\" >&nbsp;</th>\n",
       "      <th class=\"blank col5\" >&nbsp;</th>\n",
       "      <th class=\"blank col6\" >&nbsp;</th>\n",
       "    </tr>\n",
       "  </thead>\n",
       "  <tbody>\n",
       "    <tr>\n",
       "      <th id=\"T_bd58b_level0_row0\" class=\"row_heading level0 row0\" >0</th>\n",
       "      <td id=\"T_bd58b_row0_col0\" class=\"data row0 col0\" >0.7727</td>\n",
       "      <td id=\"T_bd58b_row0_col1\" class=\"data row0 col1\" >0.8471</td>\n",
       "      <td id=\"T_bd58b_row0_col2\" class=\"data row0 col2\" >0.7647</td>\n",
       "      <td id=\"T_bd58b_row0_col3\" class=\"data row0 col3\" >0.9286</td>\n",
       "      <td id=\"T_bd58b_row0_col4\" class=\"data row0 col4\" >0.8387</td>\n",
       "      <td id=\"T_bd58b_row0_col5\" class=\"data row0 col5\" >0.4660</td>\n",
       "      <td id=\"T_bd58b_row0_col6\" class=\"data row0 col6\" >0.4920</td>\n",
       "    </tr>\n",
       "    <tr>\n",
       "      <th id=\"T_bd58b_level0_row1\" class=\"row_heading level0 row1\" >1</th>\n",
       "      <td id=\"T_bd58b_row1_col0\" class=\"data row1 col0\" >0.7727</td>\n",
       "      <td id=\"T_bd58b_row1_col1\" class=\"data row1 col1\" >0.6824</td>\n",
       "      <td id=\"T_bd58b_row1_col2\" class=\"data row1 col2\" >0.8824</td>\n",
       "      <td id=\"T_bd58b_row1_col3\" class=\"data row1 col3\" >0.8333</td>\n",
       "      <td id=\"T_bd58b_row1_col4\" class=\"data row1 col4\" >0.8571</td>\n",
       "      <td id=\"T_bd58b_row1_col5\" class=\"data row1 col5\" >0.3038</td>\n",
       "      <td id=\"T_bd58b_row1_col6\" class=\"data row1 col6\" >0.3068</td>\n",
       "    </tr>\n",
       "    <tr>\n",
       "      <th id=\"T_bd58b_level0_row2\" class=\"row_heading level0 row2\" >2</th>\n",
       "      <td id=\"T_bd58b_row2_col0\" class=\"data row2 col0\" >0.9091</td>\n",
       "      <td id=\"T_bd58b_row2_col1\" class=\"data row2 col1\" >0.8412</td>\n",
       "      <td id=\"T_bd58b_row2_col2\" class=\"data row2 col2\" >1.0000</td>\n",
       "      <td id=\"T_bd58b_row2_col3\" class=\"data row2 col3\" >0.8947</td>\n",
       "      <td id=\"T_bd58b_row2_col4\" class=\"data row2 col4\" >0.9444</td>\n",
       "      <td id=\"T_bd58b_row2_col5\" class=\"data row2 col5\" >0.6986</td>\n",
       "      <td id=\"T_bd58b_row2_col6\" class=\"data row2 col6\" >0.7327</td>\n",
       "    </tr>\n",
       "    <tr>\n",
       "      <th id=\"T_bd58b_level0_row3\" class=\"row_heading level0 row3\" >3</th>\n",
       "      <td id=\"T_bd58b_row3_col0\" class=\"data row3 col0\" >0.7273</td>\n",
       "      <td id=\"T_bd58b_row3_col1\" class=\"data row3 col1\" >0.8059</td>\n",
       "      <td id=\"T_bd58b_row3_col2\" class=\"data row3 col2\" >0.7647</td>\n",
       "      <td id=\"T_bd58b_row3_col3\" class=\"data row3 col3\" >0.8667</td>\n",
       "      <td id=\"T_bd58b_row3_col4\" class=\"data row3 col4\" >0.8125</td>\n",
       "      <td id=\"T_bd58b_row3_col5\" class=\"data row3 col5\" >0.3196</td>\n",
       "      <td id=\"T_bd58b_row3_col6\" class=\"data row3 col6\" >0.3281</td>\n",
       "    </tr>\n",
       "    <tr>\n",
       "      <th id=\"T_bd58b_level0_row4\" class=\"row_heading level0 row4\" >4</th>\n",
       "      <td id=\"T_bd58b_row4_col0\" class=\"data row4 col0\" >0.7273</td>\n",
       "      <td id=\"T_bd58b_row4_col1\" class=\"data row4 col1\" >0.8471</td>\n",
       "      <td id=\"T_bd58b_row4_col2\" class=\"data row4 col2\" >0.8824</td>\n",
       "      <td id=\"T_bd58b_row4_col3\" class=\"data row4 col3\" >0.7895</td>\n",
       "      <td id=\"T_bd58b_row4_col4\" class=\"data row4 col4\" >0.8333</td>\n",
       "      <td id=\"T_bd58b_row4_col5\" class=\"data row4 col5\" >0.0959</td>\n",
       "      <td id=\"T_bd58b_row4_col6\" class=\"data row4 col6\" >0.1006</td>\n",
       "    </tr>\n",
       "    <tr>\n",
       "      <th id=\"T_bd58b_level0_row5\" class=\"row_heading level0 row5\" >5</th>\n",
       "      <td id=\"T_bd58b_row5_col0\" class=\"data row5 col0\" >0.7727</td>\n",
       "      <td id=\"T_bd58b_row5_col1\" class=\"data row5 col1\" >0.7059</td>\n",
       "      <td id=\"T_bd58b_row5_col2\" class=\"data row5 col2\" >0.8824</td>\n",
       "      <td id=\"T_bd58b_row5_col3\" class=\"data row5 col3\" >0.8333</td>\n",
       "      <td id=\"T_bd58b_row5_col4\" class=\"data row5 col4\" >0.8571</td>\n",
       "      <td id=\"T_bd58b_row5_col5\" class=\"data row5 col5\" >0.3038</td>\n",
       "      <td id=\"T_bd58b_row5_col6\" class=\"data row5 col6\" >0.3068</td>\n",
       "    </tr>\n",
       "    <tr>\n",
       "      <th id=\"T_bd58b_level0_row6\" class=\"row_heading level0 row6\" >6</th>\n",
       "      <td id=\"T_bd58b_row6_col0\" class=\"data row6 col0\" >0.7727</td>\n",
       "      <td id=\"T_bd58b_row6_col1\" class=\"data row6 col1\" >0.8958</td>\n",
       "      <td id=\"T_bd58b_row6_col2\" class=\"data row6 col2\" >0.8750</td>\n",
       "      <td id=\"T_bd58b_row6_col3\" class=\"data row6 col3\" >0.8235</td>\n",
       "      <td id=\"T_bd58b_row6_col4\" class=\"data row6 col4\" >0.8485</td>\n",
       "      <td id=\"T_bd58b_row6_col5\" class=\"data row6 col5\" >0.3956</td>\n",
       "      <td id=\"T_bd58b_row6_col6\" class=\"data row6 col6\" >0.3985</td>\n",
       "    </tr>\n",
       "    <tr>\n",
       "      <th id=\"T_bd58b_level0_row7\" class=\"row_heading level0 row7\" >7</th>\n",
       "      <td id=\"T_bd58b_row7_col0\" class=\"data row7 col0\" >0.8182</td>\n",
       "      <td id=\"T_bd58b_row7_col1\" class=\"data row7 col1\" >0.8281</td>\n",
       "      <td id=\"T_bd58b_row7_col2\" class=\"data row7 col2\" >0.9375</td>\n",
       "      <td id=\"T_bd58b_row7_col3\" class=\"data row7 col3\" >0.8333</td>\n",
       "      <td id=\"T_bd58b_row7_col4\" class=\"data row7 col4\" >0.8824</td>\n",
       "      <td id=\"T_bd58b_row7_col5\" class=\"data row7 col5\" >0.4884</td>\n",
       "      <td id=\"T_bd58b_row7_col6\" class=\"data row7 col6\" >0.5052</td>\n",
       "    </tr>\n",
       "    <tr>\n",
       "      <th id=\"T_bd58b_level0_row8\" class=\"row_heading level0 row8\" >8</th>\n",
       "      <td id=\"T_bd58b_row8_col0\" class=\"data row8 col0\" >0.8636</td>\n",
       "      <td id=\"T_bd58b_row8_col1\" class=\"data row8 col1\" >0.7500</td>\n",
       "      <td id=\"T_bd58b_row8_col2\" class=\"data row8 col2\" >1.0000</td>\n",
       "      <td id=\"T_bd58b_row8_col3\" class=\"data row8 col3\" >0.8421</td>\n",
       "      <td id=\"T_bd58b_row8_col4\" class=\"data row8 col4\" >0.9143</td>\n",
       "      <td id=\"T_bd58b_row8_col5\" class=\"data row8 col5\" >0.5926</td>\n",
       "      <td id=\"T_bd58b_row8_col6\" class=\"data row8 col6\" >0.6489</td>\n",
       "    </tr>\n",
       "    <tr>\n",
       "      <th id=\"T_bd58b_level0_row9\" class=\"row_heading level0 row9\" >9</th>\n",
       "      <td id=\"T_bd58b_row9_col0\" class=\"data row9 col0\" >0.7727</td>\n",
       "      <td id=\"T_bd58b_row9_col1\" class=\"data row9 col1\" >0.8958</td>\n",
       "      <td id=\"T_bd58b_row9_col2\" class=\"data row9 col2\" >0.8125</td>\n",
       "      <td id=\"T_bd58b_row9_col3\" class=\"data row9 col3\" >0.8667</td>\n",
       "      <td id=\"T_bd58b_row9_col4\" class=\"data row9 col4\" >0.8387</td>\n",
       "      <td id=\"T_bd58b_row9_col5\" class=\"data row9 col5\" >0.4554</td>\n",
       "      <td id=\"T_bd58b_row9_col6\" class=\"data row9 col6\" >0.4582</td>\n",
       "    </tr>\n",
       "    <tr>\n",
       "      <th id=\"T_bd58b_level0_row10\" class=\"row_heading level0 row10\" >Mean</th>\n",
       "      <td id=\"T_bd58b_row10_col0\" class=\"data row10 col0\" >0.7909</td>\n",
       "      <td id=\"T_bd58b_row10_col1\" class=\"data row10 col1\" >0.8099</td>\n",
       "      <td id=\"T_bd58b_row10_col2\" class=\"data row10 col2\" >0.8801</td>\n",
       "      <td id=\"T_bd58b_row10_col3\" class=\"data row10 col3\" >0.8512</td>\n",
       "      <td id=\"T_bd58b_row10_col4\" class=\"data row10 col4\" >0.8627</td>\n",
       "      <td id=\"T_bd58b_row10_col5\" class=\"data row10 col5\" >0.4120</td>\n",
       "      <td id=\"T_bd58b_row10_col6\" class=\"data row10 col6\" >0.4278</td>\n",
       "    </tr>\n",
       "    <tr>\n",
       "      <th id=\"T_bd58b_level0_row11\" class=\"row_heading level0 row11\" >Std</th>\n",
       "      <td id=\"T_bd58b_row11_col0\" class=\"data row11 col0\" >0.0545</td>\n",
       "      <td id=\"T_bd58b_row11_col1\" class=\"data row11 col1\" >0.0704</td>\n",
       "      <td id=\"T_bd58b_row11_col2\" class=\"data row11 col2\" >0.0796</td>\n",
       "      <td id=\"T_bd58b_row11_col3\" class=\"data row11 col3\" >0.0374</td>\n",
       "      <td id=\"T_bd58b_row11_col4\" class=\"data row11 col4\" >0.0381</td>\n",
       "      <td id=\"T_bd58b_row11_col5\" class=\"data row11 col5\" >0.1605</td>\n",
       "      <td id=\"T_bd58b_row11_col6\" class=\"data row11 col6\" >0.1732</td>\n",
       "    </tr>\n",
       "  </tbody>\n",
       "</table>\n"
      ],
      "text/plain": [
       "<pandas.io.formats.style.Styler at 0x7fd6226995b0>"
      ]
     },
     "metadata": {},
     "output_type": "display_data"
    },
    {
     "data": {
      "application/vnd.jupyter.widget-view+json": {
       "model_id": "",
       "version_major": 2,
       "version_minor": 0
      },
      "text/plain": [
       "Processing:   0%|          | 0/4 [00:00<?, ?it/s]"
      ]
     },
     "metadata": {},
     "output_type": "display_data"
    }
   ],
   "source": [
    "extraTreesClassifier = create_model('et')"
   ]
  },
  {
   "cell_type": "markdown",
   "id": "d97ac612",
   "metadata": {
    "papermill": {
     "duration": 0.101026,
     "end_time": "2021-08-22T13:45:45.437396",
     "exception": false,
     "start_time": "2021-08-22T13:45:45.336370",
     "status": "completed"
    },
    "tags": []
   },
   "source": [
    "### Tuned Model"
   ]
  },
  {
   "cell_type": "code",
   "execution_count": 24,
   "id": "b16b9c25",
   "metadata": {
    "execution": {
     "iopub.execute_input": "2021-08-22T13:45:45.640878Z",
     "iopub.status.busy": "2021-08-22T13:45:45.639811Z",
     "iopub.status.idle": "2021-08-22T13:47:30.785071Z",
     "shell.execute_reply": "2021-08-22T13:47:30.784525Z",
     "shell.execute_reply.started": "2021-08-22T13:12:40.596075Z"
    },
    "papermill": {
     "duration": 105.248687,
     "end_time": "2021-08-22T13:47:30.785309",
     "exception": false,
     "start_time": "2021-08-22T13:45:45.536622",
     "status": "completed"
    },
    "tags": []
   },
   "outputs": [
    {
     "data": {
      "text/html": [],
      "text/plain": [
       "<IPython.core.display.HTML object>"
      ]
     },
     "metadata": {},
     "output_type": "display_data"
    },
    {
     "data": {
      "text/html": [
       "<style type=\"text/css\">\n",
       "#T_0cf1e_row10_col0, #T_0cf1e_row10_col1, #T_0cf1e_row10_col2, #T_0cf1e_row10_col3, #T_0cf1e_row10_col4, #T_0cf1e_row10_col5, #T_0cf1e_row10_col6 {\n",
       "  background: yellow;\n",
       "}\n",
       "</style>\n",
       "<table id=\"T_0cf1e\">\n",
       "  <thead>\n",
       "    <tr>\n",
       "      <th class=\"blank level0\" >&nbsp;</th>\n",
       "      <th id=\"T_0cf1e_level0_col0\" class=\"col_heading level0 col0\" >Accuracy</th>\n",
       "      <th id=\"T_0cf1e_level0_col1\" class=\"col_heading level0 col1\" >AUC</th>\n",
       "      <th id=\"T_0cf1e_level0_col2\" class=\"col_heading level0 col2\" >Recall</th>\n",
       "      <th id=\"T_0cf1e_level0_col3\" class=\"col_heading level0 col3\" >Prec.</th>\n",
       "      <th id=\"T_0cf1e_level0_col4\" class=\"col_heading level0 col4\" >F1</th>\n",
       "      <th id=\"T_0cf1e_level0_col5\" class=\"col_heading level0 col5\" >Kappa</th>\n",
       "      <th id=\"T_0cf1e_level0_col6\" class=\"col_heading level0 col6\" >MCC</th>\n",
       "    </tr>\n",
       "    <tr>\n",
       "      <th class=\"index_name level0\" >Fold</th>\n",
       "      <th class=\"blank col0\" >&nbsp;</th>\n",
       "      <th class=\"blank col1\" >&nbsp;</th>\n",
       "      <th class=\"blank col2\" >&nbsp;</th>\n",
       "      <th class=\"blank col3\" >&nbsp;</th>\n",
       "      <th class=\"blank col4\" >&nbsp;</th>\n",
       "      <th class=\"blank col5\" >&nbsp;</th>\n",
       "      <th class=\"blank col6\" >&nbsp;</th>\n",
       "    </tr>\n",
       "  </thead>\n",
       "  <tbody>\n",
       "    <tr>\n",
       "      <th id=\"T_0cf1e_level0_row0\" class=\"row_heading level0 row0\" >0</th>\n",
       "      <td id=\"T_0cf1e_row0_col0\" class=\"data row0 col0\" >0.7727</td>\n",
       "      <td id=\"T_0cf1e_row0_col1\" class=\"data row0 col1\" >0.5000</td>\n",
       "      <td id=\"T_0cf1e_row0_col2\" class=\"data row0 col2\" >1.0000</td>\n",
       "      <td id=\"T_0cf1e_row0_col3\" class=\"data row0 col3\" >0.7727</td>\n",
       "      <td id=\"T_0cf1e_row0_col4\" class=\"data row0 col4\" >0.8718</td>\n",
       "      <td id=\"T_0cf1e_row0_col5\" class=\"data row0 col5\" >0.0000</td>\n",
       "      <td id=\"T_0cf1e_row0_col6\" class=\"data row0 col6\" >0.0000</td>\n",
       "    </tr>\n",
       "    <tr>\n",
       "      <th id=\"T_0cf1e_level0_row1\" class=\"row_heading level0 row1\" >1</th>\n",
       "      <td id=\"T_0cf1e_row1_col0\" class=\"data row1 col0\" >0.7727</td>\n",
       "      <td id=\"T_0cf1e_row1_col1\" class=\"data row1 col1\" >0.5000</td>\n",
       "      <td id=\"T_0cf1e_row1_col2\" class=\"data row1 col2\" >1.0000</td>\n",
       "      <td id=\"T_0cf1e_row1_col3\" class=\"data row1 col3\" >0.7727</td>\n",
       "      <td id=\"T_0cf1e_row1_col4\" class=\"data row1 col4\" >0.8718</td>\n",
       "      <td id=\"T_0cf1e_row1_col5\" class=\"data row1 col5\" >0.0000</td>\n",
       "      <td id=\"T_0cf1e_row1_col6\" class=\"data row1 col6\" >0.0000</td>\n",
       "    </tr>\n",
       "    <tr>\n",
       "      <th id=\"T_0cf1e_level0_row2\" class=\"row_heading level0 row2\" >2</th>\n",
       "      <td id=\"T_0cf1e_row2_col0\" class=\"data row2 col0\" >0.7727</td>\n",
       "      <td id=\"T_0cf1e_row2_col1\" class=\"data row2 col1\" >0.5000</td>\n",
       "      <td id=\"T_0cf1e_row2_col2\" class=\"data row2 col2\" >1.0000</td>\n",
       "      <td id=\"T_0cf1e_row2_col3\" class=\"data row2 col3\" >0.7727</td>\n",
       "      <td id=\"T_0cf1e_row2_col4\" class=\"data row2 col4\" >0.8718</td>\n",
       "      <td id=\"T_0cf1e_row2_col5\" class=\"data row2 col5\" >0.0000</td>\n",
       "      <td id=\"T_0cf1e_row2_col6\" class=\"data row2 col6\" >0.0000</td>\n",
       "    </tr>\n",
       "    <tr>\n",
       "      <th id=\"T_0cf1e_level0_row3\" class=\"row_heading level0 row3\" >3</th>\n",
       "      <td id=\"T_0cf1e_row3_col0\" class=\"data row3 col0\" >0.7727</td>\n",
       "      <td id=\"T_0cf1e_row3_col1\" class=\"data row3 col1\" >0.5000</td>\n",
       "      <td id=\"T_0cf1e_row3_col2\" class=\"data row3 col2\" >1.0000</td>\n",
       "      <td id=\"T_0cf1e_row3_col3\" class=\"data row3 col3\" >0.7727</td>\n",
       "      <td id=\"T_0cf1e_row3_col4\" class=\"data row3 col4\" >0.8718</td>\n",
       "      <td id=\"T_0cf1e_row3_col5\" class=\"data row3 col5\" >0.0000</td>\n",
       "      <td id=\"T_0cf1e_row3_col6\" class=\"data row3 col6\" >0.0000</td>\n",
       "    </tr>\n",
       "    <tr>\n",
       "      <th id=\"T_0cf1e_level0_row4\" class=\"row_heading level0 row4\" >4</th>\n",
       "      <td id=\"T_0cf1e_row4_col0\" class=\"data row4 col0\" >0.7727</td>\n",
       "      <td id=\"T_0cf1e_row4_col1\" class=\"data row4 col1\" >0.5000</td>\n",
       "      <td id=\"T_0cf1e_row4_col2\" class=\"data row4 col2\" >1.0000</td>\n",
       "      <td id=\"T_0cf1e_row4_col3\" class=\"data row4 col3\" >0.7727</td>\n",
       "      <td id=\"T_0cf1e_row4_col4\" class=\"data row4 col4\" >0.8718</td>\n",
       "      <td id=\"T_0cf1e_row4_col5\" class=\"data row4 col5\" >0.0000</td>\n",
       "      <td id=\"T_0cf1e_row4_col6\" class=\"data row4 col6\" >0.0000</td>\n",
       "    </tr>\n",
       "    <tr>\n",
       "      <th id=\"T_0cf1e_level0_row5\" class=\"row_heading level0 row5\" >5</th>\n",
       "      <td id=\"T_0cf1e_row5_col0\" class=\"data row5 col0\" >0.7727</td>\n",
       "      <td id=\"T_0cf1e_row5_col1\" class=\"data row5 col1\" >0.5000</td>\n",
       "      <td id=\"T_0cf1e_row5_col2\" class=\"data row5 col2\" >1.0000</td>\n",
       "      <td id=\"T_0cf1e_row5_col3\" class=\"data row5 col3\" >0.7727</td>\n",
       "      <td id=\"T_0cf1e_row5_col4\" class=\"data row5 col4\" >0.8718</td>\n",
       "      <td id=\"T_0cf1e_row5_col5\" class=\"data row5 col5\" >0.0000</td>\n",
       "      <td id=\"T_0cf1e_row5_col6\" class=\"data row5 col6\" >0.0000</td>\n",
       "    </tr>\n",
       "    <tr>\n",
       "      <th id=\"T_0cf1e_level0_row6\" class=\"row_heading level0 row6\" >6</th>\n",
       "      <td id=\"T_0cf1e_row6_col0\" class=\"data row6 col0\" >0.7273</td>\n",
       "      <td id=\"T_0cf1e_row6_col1\" class=\"data row6 col1\" >0.5000</td>\n",
       "      <td id=\"T_0cf1e_row6_col2\" class=\"data row6 col2\" >1.0000</td>\n",
       "      <td id=\"T_0cf1e_row6_col3\" class=\"data row6 col3\" >0.7273</td>\n",
       "      <td id=\"T_0cf1e_row6_col4\" class=\"data row6 col4\" >0.8421</td>\n",
       "      <td id=\"T_0cf1e_row6_col5\" class=\"data row6 col5\" >0.0000</td>\n",
       "      <td id=\"T_0cf1e_row6_col6\" class=\"data row6 col6\" >0.0000</td>\n",
       "    </tr>\n",
       "    <tr>\n",
       "      <th id=\"T_0cf1e_level0_row7\" class=\"row_heading level0 row7\" >7</th>\n",
       "      <td id=\"T_0cf1e_row7_col0\" class=\"data row7 col0\" >0.7273</td>\n",
       "      <td id=\"T_0cf1e_row7_col1\" class=\"data row7 col1\" >0.5000</td>\n",
       "      <td id=\"T_0cf1e_row7_col2\" class=\"data row7 col2\" >1.0000</td>\n",
       "      <td id=\"T_0cf1e_row7_col3\" class=\"data row7 col3\" >0.7273</td>\n",
       "      <td id=\"T_0cf1e_row7_col4\" class=\"data row7 col4\" >0.8421</td>\n",
       "      <td id=\"T_0cf1e_row7_col5\" class=\"data row7 col5\" >0.0000</td>\n",
       "      <td id=\"T_0cf1e_row7_col6\" class=\"data row7 col6\" >0.0000</td>\n",
       "    </tr>\n",
       "    <tr>\n",
       "      <th id=\"T_0cf1e_level0_row8\" class=\"row_heading level0 row8\" >8</th>\n",
       "      <td id=\"T_0cf1e_row8_col0\" class=\"data row8 col0\" >0.7273</td>\n",
       "      <td id=\"T_0cf1e_row8_col1\" class=\"data row8 col1\" >0.5000</td>\n",
       "      <td id=\"T_0cf1e_row8_col2\" class=\"data row8 col2\" >1.0000</td>\n",
       "      <td id=\"T_0cf1e_row8_col3\" class=\"data row8 col3\" >0.7273</td>\n",
       "      <td id=\"T_0cf1e_row8_col4\" class=\"data row8 col4\" >0.8421</td>\n",
       "      <td id=\"T_0cf1e_row8_col5\" class=\"data row8 col5\" >0.0000</td>\n",
       "      <td id=\"T_0cf1e_row8_col6\" class=\"data row8 col6\" >0.0000</td>\n",
       "    </tr>\n",
       "    <tr>\n",
       "      <th id=\"T_0cf1e_level0_row9\" class=\"row_heading level0 row9\" >9</th>\n",
       "      <td id=\"T_0cf1e_row9_col0\" class=\"data row9 col0\" >0.7273</td>\n",
       "      <td id=\"T_0cf1e_row9_col1\" class=\"data row9 col1\" >0.5000</td>\n",
       "      <td id=\"T_0cf1e_row9_col2\" class=\"data row9 col2\" >1.0000</td>\n",
       "      <td id=\"T_0cf1e_row9_col3\" class=\"data row9 col3\" >0.7273</td>\n",
       "      <td id=\"T_0cf1e_row9_col4\" class=\"data row9 col4\" >0.8421</td>\n",
       "      <td id=\"T_0cf1e_row9_col5\" class=\"data row9 col5\" >0.0000</td>\n",
       "      <td id=\"T_0cf1e_row9_col6\" class=\"data row9 col6\" >0.0000</td>\n",
       "    </tr>\n",
       "    <tr>\n",
       "      <th id=\"T_0cf1e_level0_row10\" class=\"row_heading level0 row10\" >Mean</th>\n",
       "      <td id=\"T_0cf1e_row10_col0\" class=\"data row10 col0\" >0.7545</td>\n",
       "      <td id=\"T_0cf1e_row10_col1\" class=\"data row10 col1\" >0.5000</td>\n",
       "      <td id=\"T_0cf1e_row10_col2\" class=\"data row10 col2\" >1.0000</td>\n",
       "      <td id=\"T_0cf1e_row10_col3\" class=\"data row10 col3\" >0.7545</td>\n",
       "      <td id=\"T_0cf1e_row10_col4\" class=\"data row10 col4\" >0.8599</td>\n",
       "      <td id=\"T_0cf1e_row10_col5\" class=\"data row10 col5\" >0.0000</td>\n",
       "      <td id=\"T_0cf1e_row10_col6\" class=\"data row10 col6\" >0.0000</td>\n",
       "    </tr>\n",
       "    <tr>\n",
       "      <th id=\"T_0cf1e_level0_row11\" class=\"row_heading level0 row11\" >Std</th>\n",
       "      <td id=\"T_0cf1e_row11_col0\" class=\"data row11 col0\" >0.0223</td>\n",
       "      <td id=\"T_0cf1e_row11_col1\" class=\"data row11 col1\" >0.0000</td>\n",
       "      <td id=\"T_0cf1e_row11_col2\" class=\"data row11 col2\" >0.0000</td>\n",
       "      <td id=\"T_0cf1e_row11_col3\" class=\"data row11 col3\" >0.0223</td>\n",
       "      <td id=\"T_0cf1e_row11_col4\" class=\"data row11 col4\" >0.0145</td>\n",
       "      <td id=\"T_0cf1e_row11_col5\" class=\"data row11 col5\" >0.0000</td>\n",
       "      <td id=\"T_0cf1e_row11_col6\" class=\"data row11 col6\" >0.0000</td>\n",
       "    </tr>\n",
       "  </tbody>\n",
       "</table>\n"
      ],
      "text/plain": [
       "<pandas.io.formats.style.Styler at 0x7fd622704f40>"
      ]
     },
     "metadata": {},
     "output_type": "display_data"
    },
    {
     "data": {
      "application/vnd.jupyter.widget-view+json": {
       "model_id": "",
       "version_major": 2,
       "version_minor": 0
      },
      "text/plain": [
       "Processing:   0%|          | 0/7 [00:00<?, ?it/s]"
      ]
     },
     "metadata": {},
     "output_type": "display_data"
    },
    {
     "name": "stdout",
     "output_type": "stream",
     "text": [
      "Fitting 10 folds for each of 10 candidates, totalling 100 fits\n",
      "Original model was better than the tuned model, hence it will be returned. NOTE: The display metrics are for the tuned model (not the original one).\n"
     ]
    }
   ],
   "source": [
    "tuned_extraTreesClassifier = tune_model(extraTreesClassifier)"
   ]
  },
  {
   "cell_type": "markdown",
   "id": "3380243e",
   "metadata": {
    "papermill": {
     "duration": 0.102007,
     "end_time": "2021-08-22T13:47:30.991146",
     "exception": false,
     "start_time": "2021-08-22T13:47:30.889139",
     "status": "completed"
    },
    "tags": []
   },
   "source": [
    "### Evaluate training performance"
   ]
  },
  {
   "cell_type": "code",
   "execution_count": 25,
   "id": "fcd88ce5",
   "metadata": {
    "execution": {
     "iopub.execute_input": "2021-08-22T13:47:31.200836Z",
     "iopub.status.busy": "2021-08-22T13:47:31.199796Z",
     "iopub.status.idle": "2021-08-22T13:47:31.746134Z",
     "shell.execute_reply": "2021-08-22T13:47:31.745524Z",
     "shell.execute_reply.started": "2021-08-22T13:14:49.260109Z"
    },
    "papermill": {
     "duration": 0.654862,
     "end_time": "2021-08-22T13:47:31.746278",
     "exception": false,
     "start_time": "2021-08-22T13:47:31.091416",
     "status": "completed"
    },
    "tags": []
   },
   "outputs": [
    {
     "data": {
      "text/html": [],
      "text/plain": [
       "<IPython.core.display.HTML object>"
      ]
     },
     "metadata": {},
     "output_type": "display_data"
    },
    {
     "data": {
      "image/png": "[encoded data removed]",
      "text/plain": [
       "<Figure size 800x550 with 1 Axes>"
      ]
     },
     "metadata": {},
     "output_type": "display_data"
    }
   ],
   "source": [
    "plot_model(tuned_extraTreesClassifier, plot = 'auc')"
   ]
  },
  {
   "cell_type": "code",
   "execution_count": 26,
   "id": "c47552b8",
   "metadata": {
    "execution": {
     "iopub.execute_input": "2021-08-22T13:47:31.959008Z",
     "iopub.status.busy": "2021-08-22T13:47:31.957877Z",
     "iopub.status.idle": "2021-08-22T13:47:32.389992Z",
     "shell.execute_reply": "2021-08-22T13:47:32.390595Z",
     "shell.execute_reply.started": "2021-08-22T13:15:15.461989Z"
    },
    "papermill": {
     "duration": 0.540823,
     "end_time": "2021-08-22T13:47:32.390805",
     "exception": false,
     "start_time": "2021-08-22T13:47:31.849982",
     "status": "completed"
    },
    "tags": []
   },
   "outputs": [
    {
     "data": {
      "text/html": [],
      "text/plain": [
       "<IPython.core.display.HTML object>"
      ]
     },
     "metadata": {},
     "output_type": "display_data"
    },
    {
     "data": {
      "image/png": "[encoded data removed]",
      "text/plain": [
       "<Figure size 800x500 with 1 Axes>"
      ]
     },
     "metadata": {},
     "output_type": "display_data"
    }
   ],
   "source": [
    "plot_model(tuned_extraTreesClassifier, plot='feature')"
   ]
  },
  {
   "cell_type": "code",
   "execution_count": 27,
   "id": "8e7425d9",
   "metadata": {
    "execution": {
     "iopub.execute_input": "2021-08-22T13:47:32.607570Z",
     "iopub.status.busy": "2021-08-22T13:47:32.606490Z",
     "iopub.status.idle": "2021-08-22T13:47:33.058549Z",
     "shell.execute_reply": "2021-08-22T13:47:33.057924Z",
     "shell.execute_reply.started": "2021-08-22T13:15:28.271972Z"
    },
    "papermill": {
     "duration": 0.562407,
     "end_time": "2021-08-22T13:47:33.058706",
     "exception": false,
     "start_time": "2021-08-22T13:47:32.496299",
     "status": "completed"
    },
    "tags": []
   },
   "outputs": [
    {
     "data": {
      "text/html": [],
      "text/plain": [
       "<IPython.core.display.HTML object>"
      ]
     },
     "metadata": {},
     "output_type": "display_data"
    },
    {
     "data": {
      "image/png": "[encoded data removed]",
      "text/plain": [
       "<Figure size 800x550 with 1 Axes>"
      ]
     },
     "metadata": {},
     "output_type": "display_data"
    }
   ],
   "source": [
    "plot_model(tuned_extraTreesClassifier, plot = 'confusion_matrix')"
   ]
  },
  {
   "cell_type": "markdown",
   "id": "320d3996",
   "metadata": {
    "papermill": {
     "duration": 0.108411,
     "end_time": "2021-08-22T13:47:33.275181",
     "exception": false,
     "start_time": "2021-08-22T13:47:33.166770",
     "status": "completed"
    },
    "tags": []
   },
   "source": [
    "### Evaluate on unseen data"
   ]
  },
  {
   "cell_type": "code",
   "execution_count": 28,
   "id": "a37f0e61",
   "metadata": {
    "execution": {
     "iopub.execute_input": "2021-08-22T13:47:33.493312Z",
     "iopub.status.busy": "2021-08-22T13:47:33.492338Z",
     "iopub.status.idle": "2021-08-22T13:47:41.685389Z",
     "shell.execute_reply": "2021-08-22T13:47:41.684146Z",
     "shell.execute_reply.started": "2021-08-22T13:17:36.856141Z"
    },
    "papermill": {
     "duration": 8.302262,
     "end_time": "2021-08-22T13:47:41.685562",
     "exception": false,
     "start_time": "2021-08-22T13:47:33.383300",
     "status": "completed"
    },
    "tags": []
   },
   "outputs": [],
   "source": [
    "final_extraTreesClassifier = finalize_model(tuned_extraTreesClassifier)"
   ]
  },
  {
   "cell_type": "code",
   "execution_count": 29,
   "id": "c1461eb0",
   "metadata": {
    "execution": {
     "iopub.execute_input": "2021-08-22T13:47:41.904780Z",
     "iopub.status.busy": "2021-08-22T13:47:41.903713Z",
     "iopub.status.idle": "2021-08-22T13:47:42.428832Z",
     "shell.execute_reply": "2021-08-22T13:47:42.429391Z",
     "shell.execute_reply.started": "2021-08-22T13:17:41.309142Z"
    },
    "papermill": {
     "duration": 0.637375,
     "end_time": "2021-08-22T13:47:42.429556",
     "exception": false,
     "start_time": "2021-08-22T13:47:41.792181",
     "status": "completed"
    },
    "tags": []
   },
   "outputs": [
    {
     "data": {
      "text/html": [
       "<style type=\"text/css\">\n",
       "</style>\n",
       "<table id=\"T_c3c72\">\n",
       "  <thead>\n",
       "    <tr>\n",
       "      <th class=\"blank level0\" >&nbsp;</th>\n",
       "      <th id=\"T_c3c72_level0_col0\" class=\"col_heading level0 col0\" >Model</th>\n",
       "      <th id=\"T_c3c72_level0_col1\" class=\"col_heading level0 col1\" >Accuracy</th>\n",
       "      <th id=\"T_c3c72_level0_col2\" class=\"col_heading level0 col2\" >AUC</th>\n",
       "      <th id=\"T_c3c72_level0_col3\" class=\"col_heading level0 col3\" >Recall</th>\n",
       "      <th id=\"T_c3c72_level0_col4\" class=\"col_heading level0 col4\" >Prec.</th>\n",
       "      <th id=\"T_c3c72_level0_col5\" class=\"col_heading level0 col5\" >F1</th>\n",
       "      <th id=\"T_c3c72_level0_col6\" class=\"col_heading level0 col6\" >Kappa</th>\n",
       "      <th id=\"T_c3c72_level0_col7\" class=\"col_heading level0 col7\" >MCC</th>\n",
       "    </tr>\n",
       "  </thead>\n",
       "  <tbody>\n",
       "    <tr>\n",
       "      <th id=\"T_c3c72_level0_row0\" class=\"row_heading level0 row0\" >0</th>\n",
       "      <td id=\"T_c3c72_row0_col0\" class=\"data row0 col0\" >Extra Trees Classifier</td>\n",
       "      <td id=\"T_c3c72_row0_col1\" class=\"data row0 col1\" >0.6857</td>\n",
       "      <td id=\"T_c3c72_row0_col2\" class=\"data row0 col2\" >0.7158</td>\n",
       "      <td id=\"T_c3c72_row0_col3\" class=\"data row0 col3\" >0.8462</td>\n",
       "      <td id=\"T_c3c72_row0_col4\" class=\"data row0 col4\" >0.7586</td>\n",
       "      <td id=\"T_c3c72_row0_col5\" class=\"data row0 col5\" >0.8000</td>\n",
       "      <td id=\"T_c3c72_row0_col6\" class=\"data row0 col6\" >0.0767</td>\n",
       "      <td id=\"T_c3c72_row0_col7\" class=\"data row0 col7\" >0.0793</td>\n",
       "    </tr>\n",
       "  </tbody>\n",
       "</table>\n"
      ],
      "text/plain": [
       "<pandas.io.formats.style.Styler at 0x7fd619d468e0>"
      ]
     },
     "metadata": {},
     "output_type": "display_data"
    },
    {
     "name": "stdout",
     "output_type": "stream",
     "text": [
      "              precision    recall  f1-score   support\n",
      "\n",
      "   parkinson       0.33      0.22      0.27         9\n",
      "      normal       0.76      0.85      0.80        26\n",
      "\n",
      "    accuracy                           0.69        35\n",
      "   macro avg       0.55      0.53      0.53        35\n",
      "weighted avg       0.65      0.69      0.66        35\n",
      "\n"
     ]
    },
    {
     "data": {
      "image/png": "[encoded data removed]",
      "text/plain": [
       "<Figure size 800x800 with 2 Axes>"
      ]
     },
     "metadata": {},
     "output_type": "display_data"
    }
   ],
   "source": [
    "unseen_predictions = predict_model(final_extraTreesClassifier, data=test_df)\n",
    "class_names=['parkinson', 'normal']\n",
    "print(classification_report(unseen_predictions['status'].values, unseen_predictions['prediction_label'].values, target_names=class_names,zero_division=0))\n",
    "cm = skplt.metrics.plot_confusion_matrix(unseen_predictions['status'].values, unseen_predictions['prediction_label'].values, figsize=(8, 8), normalize=False)\n",
    "\n",
    "\n"
   ]
  },
  {
   "cell_type": "code",
   "execution_count": null,
   "id": "b51b8068",
   "metadata": {},
   "outputs": [],
   "source": []
  }
 ],
 "metadata": {
  "kernelspec": {
   "display_name": "Python 3 (ipykernel)",
   "language": "python",
   "name": "python3"
  },
  "language_info": {
   "codemirror_mode": {
    "name": "ipython",
    "version": 3
   },
   "file_extension": ".py",
   "mimetype": "text/x-python",
   "name": "python",
   "nbconvert_exporter": "python",
   "pygments_lexer": "ipython3",
   "version": "3.9.13"
  },
  "papermill": {
   "default_parameters": {},
   "duration": 298.941153,
   "end_time": "2021-08-22T13:47:44.228238",
   "environment_variables": {},
   "exception": null,
   "input_path": "__notebook__.ipynb",
   "output_path": "__notebook__.ipynb",
   "parameters": {},
   "start_time": "2021-08-22T13:42:45.287085",
   "version": "2.3.3"
  },
  "widgets": {
   "application/vnd.jupyter.widget-state+json": {
    "state": {
     "035b8d4e2a0944a38fd416015875fc01": {
      "model_module": "@jupyter-widgets/controls",
      "model_module_version": "1.5.0",
      "model_name": "ProgressStyleModel",
      "state": {
       "_model_module": "@jupyter-widgets/controls",
       "_model_module_version": "1.5.0",
       "_model_name": "ProgressStyleModel",
       "_view_count": null,
       "_view_module": "@jupyter-widgets/base",
       "_view_module_version": "1.2.0",
       "_view_name": "StyleView",
       "bar_color": null,
       "description_width": ""
      }
     },
     "052d19a51cfe403889db0bbe64cf3723": {
      "model_module": "@jupyter-widgets/controls",
      "model_module_version": "1.5.0",
      "model_name": "ProgressStyleModel",
      "state": {
       "_model_module": "@jupyter-widgets/controls",
       "_model_module_version": "1.5.0",
       "_model_name": "ProgressStyleModel",
       "_view_count": null,
       "_view_module": "@jupyter-widgets/base",
       "_view_module_version": "1.2.0",
       "_view_name": "StyleView",
       "bar_color": null,
       "description_width": ""
      }
     },
     "147b4a78439a47289028a11567580a8e": {
      "model_module": "@jupyter-widgets/controls",
      "model_module_version": "1.5.0",
      "model_name": "IntProgressModel",
      "state": {
       "_dom_classes": [],
       "_model_module": "@jupyter-widgets/controls",
       "_model_module_version": "1.5.0",
       "_model_name": "IntProgressModel",
       "_view_count": null,
       "_view_module": "@jupyter-widgets/controls",
       "_view_module_version": "1.5.0",
       "_view_name": "ProgressView",
       "bar_style": "",
       "description": "Processing: ",
       "description_tooltip": null,
       "layout": "IPY_MODEL_eb59459a75a84910aaf81ba968ab8127",
       "max": 4,
       "min": 0,
       "orientation": "horizontal",
       "style": "IPY_MODEL_87d5f99f57ab4f93b7e0c66282101155",
       "value": 4
      }
     },
     "16bbef21f0404c12aa4c817c4509ee16": {
      "model_module": "@jupyter-widgets/controls",
      "model_module_version": "1.5.0",
      "model_name": "IntProgressModel",
      "state": {
       "_dom_classes": [],
       "_model_module": "@jupyter-widgets/controls",
       "_model_module_version": "1.5.0",
       "_model_name": "IntProgressModel",
       "_view_count": null,
       "_view_module": "@jupyter-widgets/controls",
       "_view_module_version": "1.5.0",
       "_view_name": "ProgressView",
       "bar_style": "",
       "description": "Processing: ",
       "description_tooltip": null,
       "layout": "IPY_MODEL_f1c939f760614877acbf453936fe56ef",
       "max": 7,
       "min": 0,
       "orientation": "horizontal",
       "style": "IPY_MODEL_035b8d4e2a0944a38fd416015875fc01",
       "value": 7
      }
     },
     "19d065991c39458882b474091a332d91": {
      "model_module": "@jupyter-widgets/controls",
      "model_module_version": "1.5.0",
      "model_name": "IntProgressModel",
      "state": {
       "_dom_classes": [],
       "_model_module": "@jupyter-widgets/controls",
       "_model_module_version": "1.5.0",
       "_model_name": "IntProgressModel",
       "_view_count": null,
       "_view_module": "@jupyter-widgets/controls",
       "_view_module_version": "1.5.0",
       "_view_name": "ProgressView",
       "bar_style": "",
       "description": "Processing: ",
       "description_tooltip": null,
       "layout": "IPY_MODEL_7b26883a77e649b9b3f2991e16366058",
       "max": 79,
       "min": 0,
       "orientation": "horizontal",
       "style": "IPY_MODEL_49ed2feff02b4b24bed3cb497e5bacde",
       "value": 79
      }
     },
     "27b68a4a3ff140d280739de04b5b5246": {
      "model_module": "@jupyter-widgets/controls",
      "model_module_version": "1.5.0",
      "model_name": "IntProgressModel",
      "state": {
       "_dom_classes": [],
       "_model_module": "@jupyter-widgets/controls",
       "_model_module_version": "1.5.0",
       "_model_name": "IntProgressModel",
       "_view_count": null,
       "_view_module": "@jupyter-widgets/controls",
       "_view_module_version": "1.5.0",
       "_view_name": "ProgressView",
       "bar_style": "",
       "description": "Processing: ",
       "description_tooltip": null,
       "layout": "IPY_MODEL_618b16e4208348188b303934c82d4777",
       "max": 5,
       "min": 0,
       "orientation": "horizontal",
       "style": "IPY_MODEL_052d19a51cfe403889db0bbe64cf3723",
       "value": 5
      }
     },
     "3035fd8f45b543abaa36cb283c82e730": {
      "model_module": "@jupyter-widgets/base",
      "model_module_version": "1.2.0",
      "model_name": "LayoutModel",
      "state": {
       "_model_module": "@jupyter-widgets/base",
       "_model_module_version": "1.2.0",
       "_model_name": "LayoutModel",
       "_view_count": null,
       "_view_module": "@jupyter-widgets/base",
       "_view_module_version": "1.2.0",
       "_view_name": "LayoutView",
       "align_content": null,
       "align_items": null,
       "align_self": null,
       "border": null,
       "bottom": null,
       "display": null,
       "flex": null,
       "flex_flow": null,
       "grid_area": null,
       "grid_auto_columns": null,
       "grid_auto_flow": null,
       "grid_auto_rows": null,
       "grid_column": null,
       "grid_gap": null,
       "grid_row": null,
       "grid_template_areas": null,
       "grid_template_columns": null,
       "grid_template_rows": null,
       "height": null,
       "justify_content": null,
       "justify_items": null,
       "left": null,
       "margin": null,
       "max_height": null,
       "max_width": null,
       "min_height": null,
       "min_width": null,
       "object_fit": null,
       "object_position": null,
       "order": null,
       "overflow": null,
       "overflow_x": null,
       "overflow_y": null,
       "padding": null,
       "right": null,
       "top": null,
       "visibility": null,
       "width": null
      }
     },
     "3ee7284611a749b89ad546bc5da5b5d8": {
      "model_module": "@jupyter-widgets/base",
      "model_module_version": "1.2.0",
      "model_name": "LayoutModel",
      "state": {
       "_model_module": "@jupyter-widgets/base",
       "_model_module_version": "1.2.0",
       "_model_name": "LayoutModel",
       "_view_count": null,
       "_view_module": "@jupyter-widgets/base",
       "_view_module_version": "1.2.0",
       "_view_name": "LayoutView",
       "align_content": null,
       "align_items": null,
       "align_self": null,
       "border": null,
       "bottom": null,
       "display": null,
       "flex": null,
       "flex_flow": null,
       "grid_area": null,
       "grid_auto_columns": null,
       "grid_auto_flow": null,
       "grid_auto_rows": null,
       "grid_column": null,
       "grid_gap": null,
       "grid_row": null,
       "grid_template_areas": null,
       "grid_template_columns": null,
       "grid_template_rows": null,
       "height": null,
       "justify_content": null,
       "justify_items": null,
       "left": null,
       "margin": null,
       "max_height": null,
       "max_width": null,
       "min_height": null,
       "min_width": null,
       "object_fit": null,
       "object_position": null,
       "order": null,
       "overflow": null,
       "overflow_x": null,
       "overflow_y": null,
       "padding": null,
       "right": null,
       "top": null,
       "visibility": null,
       "width": null
      }
     },
     "426c3d5a769b4eacba24d6ec72b50f32": {
      "model_module": "@jupyter-widgets/controls",
      "model_module_version": "1.5.0",
      "model_name": "IntProgressModel",
      "state": {
       "_dom_classes": [],
       "_model_module": "@jupyter-widgets/controls",
       "_model_module_version": "1.5.0",
       "_model_name": "IntProgressModel",
       "_view_count": null,
       "_view_module": "@jupyter-widgets/controls",
       "_view_module_version": "1.5.0",
       "_view_name": "ProgressView",
       "bar_style": "",
       "description": "Processing: ",
       "description_tooltip": null,
       "layout": "IPY_MODEL_3ee7284611a749b89ad546bc5da5b5d8",
       "max": 3,
       "min": 0,
       "orientation": "horizontal",
       "style": "IPY_MODEL_d579433ba89e4304a64d535bd7d10612",
       "value": 3
      }
     },
     "49ed2feff02b4b24bed3cb497e5bacde": {
      "model_module": "@jupyter-widgets/controls",
      "model_module_version": "1.5.0",
      "model_name": "ProgressStyleModel",
      "state": {
       "_model_module": "@jupyter-widgets/controls",
       "_model_module_version": "1.5.0",
       "_model_name": "ProgressStyleModel",
       "_view_count": null,
       "_view_module": "@jupyter-widgets/base",
       "_view_module_version": "1.2.0",
       "_view_name": "StyleView",
       "bar_color": null,
       "description_width": ""
      }
     },
     "618b16e4208348188b303934c82d4777": {
      "model_module": "@jupyter-widgets/base",
      "model_module_version": "1.2.0",
      "model_name": "LayoutModel",
      "state": {
       "_model_module": "@jupyter-widgets/base",
       "_model_module_version": "1.2.0",
       "_model_name": "LayoutModel",
       "_view_count": null,
       "_view_module": "@jupyter-widgets/base",
       "_view_module_version": "1.2.0",
       "_view_name": "LayoutView",
       "align_content": null,
       "align_items": null,
       "align_self": null,
       "border": null,
       "bottom": null,
       "display": null,
       "flex": null,
       "flex_flow": null,
       "grid_area": null,
       "grid_auto_columns": null,
       "grid_auto_flow": null,
       "grid_auto_rows": null,
       "grid_column": null,
       "grid_gap": null,
       "grid_row": null,
       "grid_template_areas": null,
       "grid_template_columns": null,
       "grid_template_rows": null,
       "height": null,
       "justify_content": null,
       "justify_items": null,
       "left": null,
       "margin": null,
       "max_height": null,
       "max_width": null,
       "min_height": null,
       "min_width": null,
       "object_fit": null,
       "object_position": null,
       "order": null,
       "overflow": null,
       "overflow_x": null,
       "overflow_y": null,
       "padding": null,
       "right": null,
       "top": null,
       "visibility": null,
       "width": null
      }
     },
     "6fc5642421ad418b8e14848877293105": {
      "model_module": "@jupyter-widgets/base",
      "model_module_version": "1.2.0",
      "model_name": "LayoutModel",
      "state": {
       "_model_module": "@jupyter-widgets/base",
       "_model_module_version": "1.2.0",
       "_model_name": "LayoutModel",
       "_view_count": null,
       "_view_module": "@jupyter-widgets/base",
       "_view_module_version": "1.2.0",
       "_view_name": "LayoutView",
       "align_content": null,
       "align_items": null,
       "align_self": null,
       "border": null,
       "bottom": null,
       "display": null,
       "flex": null,
       "flex_flow": null,
       "grid_area": null,
       "grid_auto_columns": null,
       "grid_auto_flow": null,
       "grid_auto_rows": null,
       "grid_column": null,
       "grid_gap": null,
       "grid_row": null,
       "grid_template_areas": null,
       "grid_template_columns": null,
       "grid_template_rows": null,
       "height": null,
       "justify_content": null,
       "justify_items": null,
       "left": null,
       "margin": null,
       "max_height": null,
       "max_width": null,
       "min_height": null,
       "min_width": null,
       "object_fit": null,
       "object_position": null,
       "order": null,
       "overflow": null,
       "overflow_x": null,
       "overflow_y": null,
       "padding": null,
       "right": null,
       "top": null,
       "visibility": null,
       "width": null
      }
     },
     "75bc9d70bcb142fa9496f98087dd17ed": {
      "model_module": "@jupyter-widgets/controls",
      "model_module_version": "1.5.0",
      "model_name": "ProgressStyleModel",
      "state": {
       "_model_module": "@jupyter-widgets/controls",
       "_model_module_version": "1.5.0",
       "_model_name": "ProgressStyleModel",
       "_view_count": null,
       "_view_module": "@jupyter-widgets/base",
       "_view_module_version": "1.2.0",
       "_view_name": "StyleView",
       "bar_color": null,
       "description_width": ""
      }
     },
     "7b26883a77e649b9b3f2991e16366058": {
      "model_module": "@jupyter-widgets/base",
      "model_module_version": "1.2.0",
      "model_name": "LayoutModel",
      "state": {
       "_model_module": "@jupyter-widgets/base",
       "_model_module_version": "1.2.0",
       "_model_name": "LayoutModel",
       "_view_count": null,
       "_view_module": "@jupyter-widgets/base",
       "_view_module_version": "1.2.0",
       "_view_name": "LayoutView",
       "align_content": null,
       "align_items": null,
       "align_self": null,
       "border": null,
       "bottom": null,
       "display": null,
       "flex": null,
       "flex_flow": null,
       "grid_area": null,
       "grid_auto_columns": null,
       "grid_auto_flow": null,
       "grid_auto_rows": null,
       "grid_column": null,
       "grid_gap": null,
       "grid_row": null,
       "grid_template_areas": null,
       "grid_template_columns": null,
       "grid_template_rows": null,
       "height": null,
       "justify_content": null,
       "justify_items": null,
       "left": null,
       "margin": null,
       "max_height": null,
       "max_width": null,
       "min_height": null,
       "min_width": null,
       "object_fit": null,
       "object_position": null,
       "order": null,
       "overflow": null,
       "overflow_x": null,
       "overflow_y": null,
       "padding": null,
       "right": null,
       "top": null,
       "visibility": null,
       "width": null
      }
     },
     "87d5f99f57ab4f93b7e0c66282101155": {
      "model_module": "@jupyter-widgets/controls",
      "model_module_version": "1.5.0",
      "model_name": "ProgressStyleModel",
      "state": {
       "_model_module": "@jupyter-widgets/controls",
       "_model_module_version": "1.5.0",
       "_model_name": "ProgressStyleModel",
       "_view_count": null,
       "_view_module": "@jupyter-widgets/base",
       "_view_module_version": "1.2.0",
       "_view_name": "StyleView",
       "bar_color": null,
       "description_width": ""
      }
     },
     "ab12ccdd12c74e88b0baad0bc129cba9": {
      "model_module": "@jupyter-widgets/controls",
      "model_module_version": "1.5.0",
      "model_name": "IntProgressModel",
      "state": {
       "_dom_classes": [],
       "_model_module": "@jupyter-widgets/controls",
       "_model_module_version": "1.5.0",
       "_model_name": "IntProgressModel",
       "_view_count": null,
       "_view_module": "@jupyter-widgets/controls",
       "_view_module_version": "1.5.0",
       "_view_name": "ProgressView",
       "bar_style": "",
       "description": "Processing: ",
       "description_tooltip": null,
       "layout": "IPY_MODEL_3035fd8f45b543abaa36cb283c82e730",
       "max": 5,
       "min": 0,
       "orientation": "horizontal",
       "style": "IPY_MODEL_75bc9d70bcb142fa9496f98087dd17ed",
       "value": 5
      }
     },
     "d338357ef5d740bfbf7c820ad8a65b00": {
      "model_module": "@jupyter-widgets/controls",
      "model_module_version": "1.5.0",
      "model_name": "ProgressStyleModel",
      "state": {
       "_model_module": "@jupyter-widgets/controls",
       "_model_module_version": "1.5.0",
       "_model_name": "ProgressStyleModel",
       "_view_count": null,
       "_view_module": "@jupyter-widgets/base",
       "_view_module_version": "1.2.0",
       "_view_name": "StyleView",
       "bar_color": null,
       "description_width": ""
      }
     },
     "d579433ba89e4304a64d535bd7d10612": {
      "model_module": "@jupyter-widgets/controls",
      "model_module_version": "1.5.0",
      "model_name": "ProgressStyleModel",
      "state": {
       "_model_module": "@jupyter-widgets/controls",
       "_model_module_version": "1.5.0",
       "_model_name": "ProgressStyleModel",
       "_view_count": null,
       "_view_module": "@jupyter-widgets/base",
       "_view_module_version": "1.2.0",
       "_view_name": "StyleView",
       "bar_color": null,
       "description_width": ""
      }
     },
     "eb59459a75a84910aaf81ba968ab8127": {
      "model_module": "@jupyter-widgets/base",
      "model_module_version": "1.2.0",
      "model_name": "LayoutModel",
      "state": {
       "_model_module": "@jupyter-widgets/base",
       "_model_module_version": "1.2.0",
       "_model_name": "LayoutModel",
       "_view_count": null,
       "_view_module": "@jupyter-widgets/base",
       "_view_module_version": "1.2.0",
       "_view_name": "LayoutView",
       "align_content": null,
       "align_items": null,
       "align_self": null,
       "border": null,
       "bottom": null,
       "display": null,
       "flex": null,
       "flex_flow": null,
       "grid_area": null,
       "grid_auto_columns": null,
       "grid_auto_flow": null,
       "grid_auto_rows": null,
       "grid_column": null,
       "grid_gap": null,
       "grid_row": null,
       "grid_template_areas": null,
       "grid_template_columns": null,
       "grid_template_rows": null,
       "height": null,
       "justify_content": null,
       "justify_items": null,
       "left": null,
       "margin": null,
       "max_height": null,
       "max_width": null,
       "min_height": null,
       "min_width": null,
       "object_fit": null,
       "object_position": null,
       "order": null,
       "overflow": null,
       "overflow_x": null,
       "overflow_y": null,
       "padding": null,
       "right": null,
       "top": null,
       "visibility": null,
       "width": null
      }
     },
     "f1c939f760614877acbf453936fe56ef": {
      "model_module": "@jupyter-widgets/base",
      "model_module_version": "1.2.0",
      "model_name": "LayoutModel",
      "state": {
       "_model_module": "@jupyter-widgets/base",
       "_model_module_version": "1.2.0",
       "_model_name": "LayoutModel",
       "_view_count": null,
       "_view_module": "@jupyter-widgets/base",
       "_view_module_version": "1.2.0",
       "_view_name": "LayoutView",
       "align_content": null,
       "align_items": null,
       "align_self": null,
       "border": null,
       "bottom": null,
       "display": null,
       "flex": null,
       "flex_flow": null,
       "grid_area": null,
       "grid_auto_columns": null,
       "grid_auto_flow": null,
       "grid_auto_rows": null,
       "grid_column": null,
       "grid_gap": null,
       "grid_row": null,
       "grid_template_areas": null,
       "grid_template_columns": null,
       "grid_template_rows": null,
       "height": null,
       "justify_content": null,
       "justify_items": null,
       "left": null,
       "margin": null,
       "max_height": null,
       "max_width": null,
       "min_height": null,
       "min_width": null,
       "object_fit": null,
       "object_position": null,
       "order": null,
       "overflow": null,
       "overflow_x": null,
       "overflow_y": null,
       "padding": null,
       "right": null,
       "top": null,
       "visibility": null,
       "width": null
      }
     },
     "f315e91395ea4035a2fdd7f47671ffb0": {
      "model_module": "@jupyter-widgets/controls",
      "model_module_version": "1.5.0",
      "model_name": "IntProgressModel",
      "state": {
       "_dom_classes": [],
       "_model_module": "@jupyter-widgets/controls",
       "_model_module_version": "1.5.0",
       "_model_name": "IntProgressModel",
       "_view_count": null,
       "_view_module": "@jupyter-widgets/controls",
       "_view_module_version": "1.5.0",
       "_view_name": "ProgressView",
       "bar_style": "",
       "description": "Processing: ",
       "description_tooltip": null,
       "layout": "IPY_MODEL_6fc5642421ad418b8e14848877293105",
       "max": 5,
       "min": 0,
       "orientation": "horizontal",
       "style": "IPY_MODEL_d338357ef5d740bfbf7c820ad8a65b00",
       "value": 5
      }
     }
    },
    "version_major": 2,
    "version_minor": 0
   }
  }
 },
 "nbformat": 4,
 "nbformat_minor": 5
}
