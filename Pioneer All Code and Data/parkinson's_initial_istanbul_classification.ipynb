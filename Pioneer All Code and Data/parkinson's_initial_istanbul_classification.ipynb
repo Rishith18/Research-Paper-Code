{
 "cells": [
  {
   "cell_type": "markdown",
   "id": "44906f51",
   "metadata": {
    "papermill": {
     "duration": 0.019448,
     "end_time": "2021-08-22T13:42:54.086556",
     "exception": false,
     "start_time": "2021-08-22T13:42:54.067108",
     "status": "completed"
    },
    "tags": []
   },
   "source": [
    "---\n",
    "### Import Libraries"
   ]
  },
  {
   "cell_type": "code",
   "execution_count": 1,
   "id": "ce013dc1",
   "metadata": {
    "_kg_hide-output": true,
    "execution": {
     "iopub.execute_input": "2021-08-22T13:42:54.135030Z",
     "iopub.status.busy": "2021-08-22T13:42:54.132993Z",
     "iopub.status.idle": "2021-08-22T13:44:00.695440Z",
     "shell.execute_reply": "2021-08-22T13:44:00.697038Z",
     "shell.execute_reply.started": "2021-08-22T12:57:10.665838Z"
    },
    "papermill": {
     "duration": 66.590092,
     "end_time": "2021-08-22T13:44:00.697582",
     "exception": false,
     "start_time": "2021-08-22T13:42:54.107490",
     "status": "completed"
    },
    "tags": []
   },
   "outputs": [
    {
     "name": "stdout",
     "output_type": "stream",
     "text": [
      "Requirement already satisfied: pycaret in /Users/rishithprathi/opt/anaconda3/lib/python3.9/site-packages (3.0.3)\n",
      "Requirement already satisfied: joblib>=1.2.0 in /Users/rishithprathi/opt/anaconda3/lib/python3.9/site-packages (from pycaret) (1.3.0)\n",
      "Requirement already satisfied: scipy<2.0.0 in /Users/rishithprathi/opt/anaconda3/lib/python3.9/site-packages (from pycaret) (1.7.3)\n",
      "Requirement already satisfied: ipywidgets>=7.6.5 in /Users/rishithprathi/opt/anaconda3/lib/python3.9/site-packages (from pycaret) (7.6.5)\n",
      "Requirement already satisfied: importlib-metadata>=4.12.0 in /Users/rishithprathi/opt/anaconda3/lib/python3.9/site-packages (from pycaret) (6.7.0)\n",
      "Requirement already satisfied: pandas<2.0.0,>=1.3.0 in /Users/rishithprathi/opt/anaconda3/lib/python3.9/site-packages (from pycaret) (1.4.4)\n",
      "Requirement already satisfied: requests>=2.27.1 in /Users/rishithprathi/opt/anaconda3/lib/python3.9/site-packages (from pycaret) (2.28.1)\n",
      "Requirement already satisfied: tqdm>=4.62.0 in /Users/rishithprathi/opt/anaconda3/lib/python3.9/site-packages (from pycaret) (4.64.1)\n",
      "Requirement already satisfied: pmdarima!=1.8.1,<3.0.0,>=1.8.0 in /Users/rishithprathi/opt/anaconda3/lib/python3.9/site-packages (from pycaret) (2.0.3)\n",
      "Requirement already satisfied: cloudpickle in /Users/rishithprathi/opt/anaconda3/lib/python3.9/site-packages (from pycaret) (2.0.0)\n",
      "Requirement already satisfied: lightgbm>=3.0.0 in /Users/rishithprathi/opt/anaconda3/lib/python3.9/site-packages (from pycaret) (3.3.5)\n",
      "Requirement already satisfied: imbalanced-learn>=0.8.1 in /Users/rishithprathi/opt/anaconda3/lib/python3.9/site-packages (from pycaret) (0.10.1)\n",
      "Requirement already satisfied: markupsafe>=2.0.1 in /Users/rishithprathi/opt/anaconda3/lib/python3.9/site-packages (from pycaret) (2.0.1)\n",
      "Requirement already satisfied: schemdraw==0.15 in /Users/rishithprathi/opt/anaconda3/lib/python3.9/site-packages (from pycaret) (0.15)\n",
      "Requirement already satisfied: wurlitzer in /Users/rishithprathi/opt/anaconda3/lib/python3.9/site-packages (from pycaret) (3.0.2)\n",
      "Requirement already satisfied: plotly>=5.0.0 in /Users/rishithprathi/opt/anaconda3/lib/python3.9/site-packages (from pycaret) (5.9.0)\n",
      "Requirement already satisfied: ipython>=5.5.0 in /Users/rishithprathi/opt/anaconda3/lib/python3.9/site-packages (from pycaret) (7.31.1)\n",
      "Requirement already satisfied: pyod>=1.0.8 in /Users/rishithprathi/opt/anaconda3/lib/python3.9/site-packages (from pycaret) (1.1.0)\n",
      "Requirement already satisfied: deprecation>=2.1.0 in /Users/rishithprathi/opt/anaconda3/lib/python3.9/site-packages (from pycaret) (2.1.0)\n",
      "Requirement already satisfied: scikit-plot>=0.3.7 in /Users/rishithprathi/opt/anaconda3/lib/python3.9/site-packages (from pycaret) (0.3.7)\n",
      "Requirement already satisfied: sktime!=0.17.1,!=0.17.2,!=0.18.0,>=0.16.1 in /Users/rishithprathi/opt/anaconda3/lib/python3.9/site-packages (from pycaret) (0.20.0)\n",
      "Requirement already satisfied: matplotlib>=3.3.0 in /Users/rishithprathi/opt/anaconda3/lib/python3.9/site-packages (from pycaret) (3.5.2)\n",
      "Requirement already satisfied: statsmodels>=0.12.1 in /Users/rishithprathi/opt/anaconda3/lib/python3.9/site-packages (from pycaret) (0.13.2)\n",
      "Requirement already satisfied: scikit-learn>=1.0 in /Users/rishithprathi/opt/anaconda3/lib/python3.9/site-packages (from pycaret) (1.0.2)\n",
      "Requirement already satisfied: numpy<1.24,>=1.21 in /Users/rishithprathi/opt/anaconda3/lib/python3.9/site-packages (from pycaret) (1.21.5)\n",
      "Requirement already satisfied: numba>=0.55.0 in /Users/rishithprathi/opt/anaconda3/lib/python3.9/site-packages (from pycaret) (0.55.1)\n",
      "Requirement already satisfied: category-encoders>=2.4.0 in /Users/rishithprathi/opt/anaconda3/lib/python3.9/site-packages (from pycaret) (2.6.1)\n",
      "Requirement already satisfied: kaleido>=0.2.1 in /Users/rishithprathi/opt/anaconda3/lib/python3.9/site-packages (from pycaret) (0.2.1)\n",
      "Requirement already satisfied: xxhash in /Users/rishithprathi/opt/anaconda3/lib/python3.9/site-packages (from pycaret) (3.2.0)\n",
      "Requirement already satisfied: tbats>=1.1.3 in /Users/rishithprathi/opt/anaconda3/lib/python3.9/site-packages (from pycaret) (1.1.3)\n",
      "Requirement already satisfied: nbformat>=4.2.0 in /Users/rishithprathi/opt/anaconda3/lib/python3.9/site-packages (from pycaret) (5.5.0)\n",
      "Requirement already satisfied: plotly-resampler>=0.8.3.1 in /Users/rishithprathi/opt/anaconda3/lib/python3.9/site-packages (from pycaret) (0.8.3.2)\n",
      "Requirement already satisfied: psutil>=5.9.0 in /Users/rishithprathi/opt/anaconda3/lib/python3.9/site-packages (from pycaret) (5.9.0)\n",
      "Requirement already satisfied: yellowbrick>=1.4 in /Users/rishithprathi/opt/anaconda3/lib/python3.9/site-packages (from pycaret) (1.5)\n",
      "Requirement already satisfied: jinja2>=1.2 in /Users/rishithprathi/opt/anaconda3/lib/python3.9/site-packages (from pycaret) (2.11.3)\n",
      "Requirement already satisfied: patsy>=0.5.1 in /Users/rishithprathi/opt/anaconda3/lib/python3.9/site-packages (from category-encoders>=2.4.0->pycaret) (0.5.2)\n",
      "Requirement already satisfied: packaging in /Users/rishithprathi/opt/anaconda3/lib/python3.9/site-packages (from deprecation>=2.1.0->pycaret) (21.3)\n",
      "Requirement already satisfied: threadpoolctl>=2.0.0 in /Users/rishithprathi/opt/anaconda3/lib/python3.9/site-packages (from imbalanced-learn>=0.8.1->pycaret) (2.2.0)\n",
      "Requirement already satisfied: zipp>=0.5 in /Users/rishithprathi/opt/anaconda3/lib/python3.9/site-packages (from importlib-metadata>=4.12.0->pycaret) (3.8.0)\n",
      "Requirement already satisfied: prompt-toolkit!=3.0.0,!=3.0.1,<3.1.0,>=2.0.0 in /Users/rishithprathi/opt/anaconda3/lib/python3.9/site-packages (from ipython>=5.5.0->pycaret) (3.0.20)\n",
      "Requirement already satisfied: decorator in /Users/rishithprathi/opt/anaconda3/lib/python3.9/site-packages (from ipython>=5.5.0->pycaret) (5.1.1)\n",
      "Requirement already satisfied: pexpect>4.3 in /Users/rishithprathi/opt/anaconda3/lib/python3.9/site-packages (from ipython>=5.5.0->pycaret) (4.8.0)\n",
      "Requirement already satisfied: pickleshare in /Users/rishithprathi/opt/anaconda3/lib/python3.9/site-packages (from ipython>=5.5.0->pycaret) (0.7.5)\n",
      "Requirement already satisfied: appnope in /Users/rishithprathi/opt/anaconda3/lib/python3.9/site-packages (from ipython>=5.5.0->pycaret) (0.1.2)\n",
      "Requirement already satisfied: traitlets>=4.2 in /Users/rishithprathi/opt/anaconda3/lib/python3.9/site-packages (from ipython>=5.5.0->pycaret) (5.1.1)\n",
      "Requirement already satisfied: jedi>=0.16 in /Users/rishithprathi/opt/anaconda3/lib/python3.9/site-packages (from ipython>=5.5.0->pycaret) (0.18.1)\n",
      "Requirement already satisfied: pygments in /Users/rishithprathi/opt/anaconda3/lib/python3.9/site-packages (from ipython>=5.5.0->pycaret) (2.11.2)\n",
      "Requirement already satisfied: matplotlib-inline in /Users/rishithprathi/opt/anaconda3/lib/python3.9/site-packages (from ipython>=5.5.0->pycaret) (0.1.6)\n",
      "Requirement already satisfied: setuptools>=18.5 in /Users/rishithprathi/opt/anaconda3/lib/python3.9/site-packages (from ipython>=5.5.0->pycaret) (63.4.1)\n",
      "Requirement already satisfied: backcall in /Users/rishithprathi/opt/anaconda3/lib/python3.9/site-packages (from ipython>=5.5.0->pycaret) (0.2.0)\n",
      "Requirement already satisfied: ipykernel>=4.5.1 in /Users/rishithprathi/opt/anaconda3/lib/python3.9/site-packages (from ipywidgets>=7.6.5->pycaret) (6.15.2)\n",
      "Requirement already satisfied: jupyterlab-widgets>=1.0.0 in /Users/rishithprathi/opt/anaconda3/lib/python3.9/site-packages (from ipywidgets>=7.6.5->pycaret) (1.0.0)\n",
      "Requirement already satisfied: ipython-genutils~=0.2.0 in /Users/rishithprathi/opt/anaconda3/lib/python3.9/site-packages (from ipywidgets>=7.6.5->pycaret) (0.2.0)\n",
      "Requirement already satisfied: widgetsnbextension~=3.5.0 in /Users/rishithprathi/opt/anaconda3/lib/python3.9/site-packages (from ipywidgets>=7.6.5->pycaret) (3.5.2)\n",
      "Requirement already satisfied: wheel in /Users/rishithprathi/opt/anaconda3/lib/python3.9/site-packages (from lightgbm>=3.0.0->pycaret) (0.37.1)\n",
      "Requirement already satisfied: fonttools>=4.22.0 in /Users/rishithprathi/opt/anaconda3/lib/python3.9/site-packages (from matplotlib>=3.3.0->pycaret) (4.25.0)\n",
      "Requirement already satisfied: kiwisolver>=1.0.1 in /Users/rishithprathi/opt/anaconda3/lib/python3.9/site-packages (from matplotlib>=3.3.0->pycaret) (1.4.2)\n",
      "Requirement already satisfied: pillow>=6.2.0 in /Users/rishithprathi/opt/anaconda3/lib/python3.9/site-packages (from matplotlib>=3.3.0->pycaret) (9.2.0)\n",
      "Requirement already satisfied: cycler>=0.10 in /Users/rishithprathi/opt/anaconda3/lib/python3.9/site-packages (from matplotlib>=3.3.0->pycaret) (0.11.0)\n",
      "Requirement already satisfied: python-dateutil>=2.7 in /Users/rishithprathi/opt/anaconda3/lib/python3.9/site-packages (from matplotlib>=3.3.0->pycaret) (2.8.2)\n",
      "Requirement already satisfied: pyparsing>=2.2.1 in /Users/rishithprathi/opt/anaconda3/lib/python3.9/site-packages (from matplotlib>=3.3.0->pycaret) (3.0.9)\n"
     ]
    },
    {
     "name": "stdout",
     "output_type": "stream",
     "text": [
      "Requirement already satisfied: jupyter_core in /Users/rishithprathi/opt/anaconda3/lib/python3.9/site-packages (from nbformat>=4.2.0->pycaret) (4.11.1)\n",
      "Requirement already satisfied: jsonschema>=2.6 in /Users/rishithprathi/opt/anaconda3/lib/python3.9/site-packages (from nbformat>=4.2.0->pycaret) (4.16.0)\n",
      "Requirement already satisfied: fastjsonschema in /Users/rishithprathi/opt/anaconda3/lib/python3.9/site-packages (from nbformat>=4.2.0->pycaret) (2.16.2)\n",
      "Requirement already satisfied: llvmlite<0.39,>=0.38.0rc1 in /Users/rishithprathi/opt/anaconda3/lib/python3.9/site-packages (from numba>=0.55.0->pycaret) (0.38.0)\n",
      "Requirement already satisfied: pytz>=2020.1 in /Users/rishithprathi/opt/anaconda3/lib/python3.9/site-packages (from pandas<2.0.0,>=1.3.0->pycaret) (2022.1)\n",
      "Requirement already satisfied: tenacity>=6.2.0 in /Users/rishithprathi/opt/anaconda3/lib/python3.9/site-packages (from plotly>=5.0.0->pycaret) (8.0.1)\n",
      "Requirement already satisfied: orjson<4.0.0,>=3.8.0 in /Users/rishithprathi/opt/anaconda3/lib/python3.9/site-packages (from plotly-resampler>=0.8.3.1->pycaret) (3.9.1)\n",
      "Requirement already satisfied: trace-updater>=0.0.8 in /Users/rishithprathi/opt/anaconda3/lib/python3.9/site-packages (from plotly-resampler>=0.8.3.1->pycaret) (0.0.9.1)\n",
      "Requirement already satisfied: dash<3.0.0,>=2.2.0 in /Users/rishithprathi/opt/anaconda3/lib/python3.9/site-packages (from plotly-resampler>=0.8.3.1->pycaret) (2.11.0)\n",
      "Requirement already satisfied: jupyter-dash>=0.4.2 in /Users/rishithprathi/opt/anaconda3/lib/python3.9/site-packages (from plotly-resampler>=0.8.3.1->pycaret) (0.4.2)\n",
      "Requirement already satisfied: urllib3 in /Users/rishithprathi/opt/anaconda3/lib/python3.9/site-packages (from pmdarima!=1.8.1,<3.0.0,>=1.8.0->pycaret) (1.26.11)\n",
      "Requirement already satisfied: Cython!=0.29.18,!=0.29.31,>=0.29 in /Users/rishithprathi/opt/anaconda3/lib/python3.9/site-packages (from pmdarima!=1.8.1,<3.0.0,>=1.8.0->pycaret) (0.29.32)\n",
      "Requirement already satisfied: six in /Users/rishithprathi/opt/anaconda3/lib/python3.9/site-packages (from pyod>=1.0.8->pycaret) (1.16.0)\n",
      "Requirement already satisfied: idna<4,>=2.5 in /Users/rishithprathi/opt/anaconda3/lib/python3.9/site-packages (from requests>=2.27.1->pycaret) (3.3)\n",
      "Requirement already satisfied: certifi>=2017.4.17 in /Users/rishithprathi/opt/anaconda3/lib/python3.9/site-packages (from requests>=2.27.1->pycaret) (2023.5.7)\n",
      "Requirement already satisfied: charset-normalizer<3,>=2 in /Users/rishithprathi/opt/anaconda3/lib/python3.9/site-packages (from requests>=2.27.1->pycaret) (2.0.4)\n",
      "Requirement already satisfied: scikit-base<0.6.0 in /Users/rishithprathi/opt/anaconda3/lib/python3.9/site-packages (from sktime!=0.17.1,!=0.17.2,!=0.18.0,>=0.16.1->pycaret) (0.5.0)\n",
      "Requirement already satisfied: deprecated>=1.2.13 in /Users/rishithprathi/opt/anaconda3/lib/python3.9/site-packages (from sktime!=0.17.1,!=0.17.2,!=0.18.0,>=0.16.1->pycaret) (1.2.14)\n",
      "Requirement already satisfied: typing-extensions>=4.1.1 in /Users/rishithprathi/opt/anaconda3/lib/python3.9/site-packages (from dash<3.0.0,>=2.2.0->plotly-resampler>=0.8.3.1->pycaret) (4.3.0)\n",
      "Requirement already satisfied: dash-table==5.0.0 in /Users/rishithprathi/opt/anaconda3/lib/python3.9/site-packages (from dash<3.0.0,>=2.2.0->plotly-resampler>=0.8.3.1->pycaret) (5.0.0)\n",
      "Requirement already satisfied: dash-core-components==2.0.0 in /Users/rishithprathi/opt/anaconda3/lib/python3.9/site-packages (from dash<3.0.0,>=2.2.0->plotly-resampler>=0.8.3.1->pycaret) (2.0.0)\n",
      "Requirement already satisfied: nest-asyncio in /Users/rishithprathi/opt/anaconda3/lib/python3.9/site-packages (from dash<3.0.0,>=2.2.0->plotly-resampler>=0.8.3.1->pycaret) (1.5.5)\n",
      "Requirement already satisfied: dash-html-components==2.0.0 in /Users/rishithprathi/opt/anaconda3/lib/python3.9/site-packages (from dash<3.0.0,>=2.2.0->plotly-resampler>=0.8.3.1->pycaret) (2.0.0)\n",
      "Requirement already satisfied: ansi2html in /Users/rishithprathi/opt/anaconda3/lib/python3.9/site-packages (from dash<3.0.0,>=2.2.0->plotly-resampler>=0.8.3.1->pycaret) (1.8.0)\n",
      "Requirement already satisfied: retrying in /Users/rishithprathi/opt/anaconda3/lib/python3.9/site-packages (from dash<3.0.0,>=2.2.0->plotly-resampler>=0.8.3.1->pycaret) (1.3.4)\n",
      "Requirement already satisfied: Werkzeug<2.3.0 in /Users/rishithprathi/opt/anaconda3/lib/python3.9/site-packages (from dash<3.0.0,>=2.2.0->plotly-resampler>=0.8.3.1->pycaret) (2.0.3)\n",
      "Requirement already satisfied: Flask<2.3.0,>=1.0.4 in /Users/rishithprathi/opt/anaconda3/lib/python3.9/site-packages (from dash<3.0.0,>=2.2.0->plotly-resampler>=0.8.3.1->pycaret) (1.1.2)\n",
      "Requirement already satisfied: wrapt<2,>=1.10 in /Users/rishithprathi/opt/anaconda3/lib/python3.9/site-packages (from deprecated>=1.2.13->sktime!=0.17.1,!=0.17.2,!=0.18.0,>=0.16.1->pycaret) (1.14.1)\n",
      "Requirement already satisfied: pyzmq>=17 in /Users/rishithprathi/opt/anaconda3/lib/python3.9/site-packages (from ipykernel>=4.5.1->ipywidgets>=7.6.5->pycaret) (23.2.0)\n",
      "Requirement already satisfied: debugpy>=1.0 in /Users/rishithprathi/opt/anaconda3/lib/python3.9/site-packages (from ipykernel>=4.5.1->ipywidgets>=7.6.5->pycaret) (1.5.1)\n",
      "Requirement already satisfied: tornado>=6.1 in /Users/rishithprathi/opt/anaconda3/lib/python3.9/site-packages (from ipykernel>=4.5.1->ipywidgets>=7.6.5->pycaret) (6.1)\n",
      "Requirement already satisfied: jupyter-client>=6.1.12 in /Users/rishithprathi/opt/anaconda3/lib/python3.9/site-packages (from ipykernel>=4.5.1->ipywidgets>=7.6.5->pycaret) (7.3.4)\n",
      "Requirement already satisfied: parso<0.9.0,>=0.8.0 in /Users/rishithprathi/opt/anaconda3/lib/python3.9/site-packages (from jedi>=0.16->ipython>=5.5.0->pycaret) (0.8.3)\n",
      "Requirement already satisfied: attrs>=17.4.0 in /Users/rishithprathi/opt/anaconda3/lib/python3.9/site-packages (from jsonschema>=2.6->nbformat>=4.2.0->pycaret) (21.4.0)\n",
      "Requirement already satisfied: pyrsistent!=0.17.0,!=0.17.1,!=0.17.2,>=0.14.0 in /Users/rishithprathi/opt/anaconda3/lib/python3.9/site-packages (from jsonschema>=2.6->nbformat>=4.2.0->pycaret) (0.18.0)\n",
      "Requirement already satisfied: ptyprocess>=0.5 in /Users/rishithprathi/opt/anaconda3/lib/python3.9/site-packages (from pexpect>4.3->ipython>=5.5.0->pycaret) (0.7.0)\n",
      "Requirement already satisfied: wcwidth in /Users/rishithprathi/opt/anaconda3/lib/python3.9/site-packages (from prompt-toolkit!=3.0.0,!=3.0.1,<3.1.0,>=2.0.0->ipython>=5.5.0->pycaret) (0.2.5)\n",
      "Requirement already satisfied: notebook>=4.4.1 in /Users/rishithprathi/opt/anaconda3/lib/python3.9/site-packages (from widgetsnbextension~=3.5.0->ipywidgets>=7.6.5->pycaret) (6.4.12)\n",
      "Requirement already satisfied: click>=5.1 in /Users/rishithprathi/opt/anaconda3/lib/python3.9/site-packages (from Flask<2.3.0,>=1.0.4->dash<3.0.0,>=2.2.0->plotly-resampler>=0.8.3.1->pycaret) (8.0.4)\n",
      "Requirement already satisfied: itsdangerous>=0.24 in /Users/rishithprathi/opt/anaconda3/lib/python3.9/site-packages (from Flask<2.3.0,>=1.0.4->dash<3.0.0,>=2.2.0->plotly-resampler>=0.8.3.1->pycaret) (2.0.1)\n",
      "Requirement already satisfied: entrypoints in /Users/rishithprathi/opt/anaconda3/lib/python3.9/site-packages (from jupyter-client>=6.1.12->ipykernel>=4.5.1->ipywidgets>=7.6.5->pycaret) (0.4)\n",
      "Requirement already satisfied: nbconvert>=5 in /Users/rishithprathi/opt/anaconda3/lib/python3.9/site-packages (from notebook>=4.4.1->widgetsnbextension~=3.5.0->ipywidgets>=7.6.5->pycaret) (6.4.4)\n",
      "Requirement already satisfied: prometheus-client in /Users/rishithprathi/opt/anaconda3/lib/python3.9/site-packages (from notebook>=4.4.1->widgetsnbextension~=3.5.0->ipywidgets>=7.6.5->pycaret) (0.14.1)\n",
      "Requirement already satisfied: Send2Trash>=1.8.0 in /Users/rishithprathi/opt/anaconda3/lib/python3.9/site-packages (from notebook>=4.4.1->widgetsnbextension~=3.5.0->ipywidgets>=7.6.5->pycaret) (1.8.0)\n",
      "Requirement already satisfied: terminado>=0.8.3 in /Users/rishithprathi/opt/anaconda3/lib/python3.9/site-packages (from notebook>=4.4.1->widgetsnbextension~=3.5.0->ipywidgets>=7.6.5->pycaret) (0.13.1)\n",
      "Requirement already satisfied: argon2-cffi in /Users/rishithprathi/opt/anaconda3/lib/python3.9/site-packages (from notebook>=4.4.1->widgetsnbextension~=3.5.0->ipywidgets>=7.6.5->pycaret) (21.3.0)\n",
      "Requirement already satisfied: bleach in /Users/rishithprathi/opt/anaconda3/lib/python3.9/site-packages (from nbconvert>=5->notebook>=4.4.1->widgetsnbextension~=3.5.0->ipywidgets>=7.6.5->pycaret) (4.1.0)\n",
      "Requirement already satisfied: pandocfilters>=1.4.1 in /Users/rishithprathi/opt/anaconda3/lib/python3.9/site-packages (from nbconvert>=5->notebook>=4.4.1->widgetsnbextension~=3.5.0->ipywidgets>=7.6.5->pycaret) (1.5.0)\n",
      "Requirement already satisfied: testpath in /Users/rishithprathi/opt/anaconda3/lib/python3.9/site-packages (from nbconvert>=5->notebook>=4.4.1->widgetsnbextension~=3.5.0->ipywidgets>=7.6.5->pycaret) (0.6.0)\n",
      "Requirement already satisfied: nbclient<0.6.0,>=0.5.0 in /Users/rishithprathi/opt/anaconda3/lib/python3.9/site-packages (from nbconvert>=5->notebook>=4.4.1->widgetsnbextension~=3.5.0->ipywidgets>=7.6.5->pycaret) (0.5.13)\n",
      "Requirement already satisfied: beautifulsoup4 in /Users/rishithprathi/opt/anaconda3/lib/python3.9/site-packages (from nbconvert>=5->notebook>=4.4.1->widgetsnbextension~=3.5.0->ipywidgets>=7.6.5->pycaret) (4.11.1)\n",
      "Requirement already satisfied: mistune<2,>=0.8.1 in /Users/rishithprathi/opt/anaconda3/lib/python3.9/site-packages (from nbconvert>=5->notebook>=4.4.1->widgetsnbextension~=3.5.0->ipywidgets>=7.6.5->pycaret) (0.8.4)\n",
      "Requirement already satisfied: defusedxml in /Users/rishithprathi/opt/anaconda3/lib/python3.9/site-packages (from nbconvert>=5->notebook>=4.4.1->widgetsnbextension~=3.5.0->ipywidgets>=7.6.5->pycaret) (0.7.1)\n",
      "Requirement already satisfied: jupyterlab-pygments in /Users/rishithprathi/opt/anaconda3/lib/python3.9/site-packages (from nbconvert>=5->notebook>=4.4.1->widgetsnbextension~=3.5.0->ipywidgets>=7.6.5->pycaret) (0.1.2)\n"
     ]
    },
    {
     "name": "stdout",
     "output_type": "stream",
     "text": [
      "Requirement already satisfied: argon2-cffi-bindings in /Users/rishithprathi/opt/anaconda3/lib/python3.9/site-packages (from argon2-cffi->notebook>=4.4.1->widgetsnbextension~=3.5.0->ipywidgets>=7.6.5->pycaret) (21.2.0)\n",
      "Requirement already satisfied: cffi>=1.0.1 in /Users/rishithprathi/opt/anaconda3/lib/python3.9/site-packages (from argon2-cffi-bindings->argon2-cffi->notebook>=4.4.1->widgetsnbextension~=3.5.0->ipywidgets>=7.6.5->pycaret) (1.15.1)\n",
      "Requirement already satisfied: soupsieve>1.2 in /Users/rishithprathi/opt/anaconda3/lib/python3.9/site-packages (from beautifulsoup4->nbconvert>=5->notebook>=4.4.1->widgetsnbextension~=3.5.0->ipywidgets>=7.6.5->pycaret) (2.3.1)\n",
      "Requirement already satisfied: webencodings in /Users/rishithprathi/opt/anaconda3/lib/python3.9/site-packages (from bleach->nbconvert>=5->notebook>=4.4.1->widgetsnbextension~=3.5.0->ipywidgets>=7.6.5->pycaret) (0.5.1)\n",
      "Requirement already satisfied: pycparser in /Users/rishithprathi/opt/anaconda3/lib/python3.9/site-packages (from cffi>=1.0.1->argon2-cffi-bindings->argon2-cffi->notebook>=4.4.1->widgetsnbextension~=3.5.0->ipywidgets>=7.6.5->pycaret) (2.21)\n"
     ]
    }
   ],
   "source": [
    "!pip install pycaret\n",
    "\n",
    "import numpy as np\n",
    "import pandas as pd\n",
    "import matplotlib.pyplot as plt\n",
    "import seaborn as sns\n",
    "\n",
    "from pycaret.classification import *\n",
    "\n",
    "from sklearn.metrics import *\n",
    "import scikitplot as skplt\n",
    "\n",
    "df = pd.read_csv(\"parkinsons_Istanbul_data.csv\")"
   ]
  },
  {
   "cell_type": "markdown",
   "id": "4f9f6707",
   "metadata": {
    "papermill": {
     "duration": 0.200932,
     "end_time": "2021-08-22T13:44:01.087579",
     "exception": false,
     "start_time": "2021-08-22T13:44:00.886647",
     "status": "completed"
    },
    "tags": []
   },
   "source": [
    "### Exploratory Data Analysis"
   ]
  },
  {
   "cell_type": "code",
   "execution_count": 2,
   "id": "cf92b1af",
   "metadata": {
    "execution": {
     "iopub.execute_input": "2021-08-22T13:44:01.401878Z",
     "iopub.status.busy": "2021-08-22T13:44:01.401122Z",
     "iopub.status.idle": "2021-08-22T13:44:01.442987Z",
     "shell.execute_reply": "2021-08-22T13:44:01.443583Z",
     "shell.execute_reply.started": "2021-08-22T12:57:18.548301Z"
    },
    "papermill": {
     "duration": 0.176424,
     "end_time": "2021-08-22T13:44:01.443764",
     "exception": false,
     "start_time": "2021-08-22T13:44:01.267340",
     "status": "completed"
    },
    "tags": []
   },
   "outputs": [
    {
     "data": {
      "text/html": [
       "<div>\n",
       "<style scoped>\n",
       "    .dataframe tbody tr th:only-of-type {\n",
       "        vertical-align: middle;\n",
       "    }\n",
       "\n",
       "    .dataframe tbody tr th {\n",
       "        vertical-align: top;\n",
       "    }\n",
       "\n",
       "    .dataframe thead th {\n",
       "        text-align: right;\n",
       "    }\n",
       "</style>\n",
       "<table border=\"1\" class=\"dataframe\">\n",
       "  <thead>\n",
       "    <tr style=\"text-align: right;\">\n",
       "      <th></th>\n",
       "      <th>status</th>\n",
       "      <th>DFA</th>\n",
       "      <th>RPDE</th>\n",
       "      <th>MDVP:RAP</th>\n",
       "      <th>MDVP:Shimmer</th>\n",
       "      <th>NHR</th>\n",
       "      <th>HNR</th>\n",
       "    </tr>\n",
       "  </thead>\n",
       "  <tbody>\n",
       "    <tr>\n",
       "      <th>0</th>\n",
       "      <td>1</td>\n",
       "      <td>0.71826</td>\n",
       "      <td>0.57227</td>\n",
       "      <td>0.00067</td>\n",
       "      <td>0.05883</td>\n",
       "      <td>0.036223</td>\n",
       "      <td>18.995</td>\n",
       "    </tr>\n",
       "    <tr>\n",
       "      <th>1</th>\n",
       "      <td>1</td>\n",
       "      <td>0.69481</td>\n",
       "      <td>0.53966</td>\n",
       "      <td>0.00052</td>\n",
       "      <td>0.05516</td>\n",
       "      <td>0.017974</td>\n",
       "      <td>21.497</td>\n",
       "    </tr>\n",
       "    <tr>\n",
       "      <th>2</th>\n",
       "      <td>1</td>\n",
       "      <td>0.67604</td>\n",
       "      <td>0.58982</td>\n",
       "      <td>0.00057</td>\n",
       "      <td>0.09902</td>\n",
       "      <td>0.026313</td>\n",
       "      <td>17.651</td>\n",
       "    </tr>\n",
       "    <tr>\n",
       "      <th>3</th>\n",
       "      <td>1</td>\n",
       "      <td>0.79672</td>\n",
       "      <td>0.59257</td>\n",
       "      <td>0.00149</td>\n",
       "      <td>0.05451</td>\n",
       "      <td>0.042003</td>\n",
       "      <td>19.865</td>\n",
       "    </tr>\n",
       "    <tr>\n",
       "      <th>4</th>\n",
       "      <td>1</td>\n",
       "      <td>0.79782</td>\n",
       "      <td>0.53028</td>\n",
       "      <td>0.00166</td>\n",
       "      <td>0.05610</td>\n",
       "      <td>0.027139</td>\n",
       "      <td>19.557</td>\n",
       "    </tr>\n",
       "  </tbody>\n",
       "</table>\n",
       "</div>"
      ],
      "text/plain": [
       "   status      DFA     RPDE  MDVP:RAP  MDVP:Shimmer       NHR     HNR\n",
       "0       1  0.71826  0.57227   0.00067       0.05883  0.036223  18.995\n",
       "1       1  0.69481  0.53966   0.00052       0.05516  0.017974  21.497\n",
       "2       1  0.67604  0.58982   0.00057       0.09902  0.026313  17.651\n",
       "3       1  0.79672  0.59257   0.00149       0.05451  0.042003  19.865\n",
       "4       1  0.79782  0.53028   0.00166       0.05610  0.027139  19.557"
      ]
     },
     "execution_count": 2,
     "metadata": {},
     "output_type": "execute_result"
    }
   ],
   "source": [
    "df.head()"
   ]
  },
  {
   "cell_type": "code",
   "execution_count": 3,
   "id": "29d79b90",
   "metadata": {
    "execution": {
     "iopub.execute_input": "2021-08-22T13:44:01.655329Z",
     "iopub.status.busy": "2021-08-22T13:44:01.654575Z",
     "iopub.status.idle": "2021-08-22T13:44:01.659264Z",
     "shell.execute_reply": "2021-08-22T13:44:01.659733Z",
     "shell.execute_reply.started": "2021-08-22T12:57:18.584337Z"
    },
    "papermill": {
     "duration": 0.121683,
     "end_time": "2021-08-22T13:44:01.659972",
     "exception": false,
     "start_time": "2021-08-22T13:44:01.538289",
     "status": "completed"
    },
    "tags": []
   },
   "outputs": [
    {
     "name": "stdout",
     "output_type": "stream",
     "text": [
      "<class 'pandas.core.frame.DataFrame'>\n",
      "RangeIndex: 756 entries, 0 to 755\n",
      "Data columns (total 7 columns):\n",
      " #   Column        Non-Null Count  Dtype  \n",
      "---  ------        --------------  -----  \n",
      " 0   status        756 non-null    int64  \n",
      " 1   DFA           756 non-null    float64\n",
      " 2   RPDE          756 non-null    float64\n",
      " 3   MDVP:RAP      756 non-null    float64\n",
      " 4   MDVP:Shimmer  756 non-null    float64\n",
      " 5   NHR           756 non-null    float64\n",
      " 6   HNR           756 non-null    float64\n",
      "dtypes: float64(6), int64(1)\n",
      "memory usage: 41.5 KB\n"
     ]
    }
   ],
   "source": [
    "df.info()"
   ]
  },
  {
   "cell_type": "code",
   "execution_count": 4,
   "id": "c2b0f878",
   "metadata": {
    "execution": {
     "iopub.execute_input": "2021-08-22T13:44:01.862259Z",
     "iopub.status.busy": "2021-08-22T13:44:01.861498Z",
     "iopub.status.idle": "2021-08-22T13:44:01.949476Z",
     "shell.execute_reply": "2021-08-22T13:44:01.950029Z",
     "shell.execute_reply.started": "2021-08-22T12:57:18.605303Z"
    },
    "papermill": {
     "duration": 0.19426,
     "end_time": "2021-08-22T13:44:01.950212",
     "exception": false,
     "start_time": "2021-08-22T13:44:01.755952",
     "status": "completed"
    },
    "tags": []
   },
   "outputs": [
    {
     "data": {
      "text/html": [
       "<div>\n",
       "<style scoped>\n",
       "    .dataframe tbody tr th:only-of-type {\n",
       "        vertical-align: middle;\n",
       "    }\n",
       "\n",
       "    .dataframe tbody tr th {\n",
       "        vertical-align: top;\n",
       "    }\n",
       "\n",
       "    .dataframe thead th {\n",
       "        text-align: right;\n",
       "    }\n",
       "</style>\n",
       "<table border=\"1\" class=\"dataframe\">\n",
       "  <thead>\n",
       "    <tr style=\"text-align: right;\">\n",
       "      <th></th>\n",
       "      <th>status</th>\n",
       "      <th>DFA</th>\n",
       "      <th>RPDE</th>\n",
       "      <th>MDVP:RAP</th>\n",
       "      <th>MDVP:Shimmer</th>\n",
       "      <th>NHR</th>\n",
       "      <th>HNR</th>\n",
       "    </tr>\n",
       "  </thead>\n",
       "  <tbody>\n",
       "    <tr>\n",
       "      <th>count</th>\n",
       "      <td>756.000000</td>\n",
       "      <td>756.000000</td>\n",
       "      <td>756.000000</td>\n",
       "      <td>756.000000</td>\n",
       "      <td>756.000000</td>\n",
       "      <td>756.000000</td>\n",
       "      <td>756.000000</td>\n",
       "    </tr>\n",
       "    <tr>\n",
       "      <th>mean</th>\n",
       "      <td>0.746032</td>\n",
       "      <td>0.700414</td>\n",
       "      <td>0.489058</td>\n",
       "      <td>0.000605</td>\n",
       "      <td>0.067473</td>\n",
       "      <td>0.051131</td>\n",
       "      <td>18.859632</td>\n",
       "    </tr>\n",
       "    <tr>\n",
       "      <th>std</th>\n",
       "      <td>0.435568</td>\n",
       "      <td>0.069718</td>\n",
       "      <td>0.137442</td>\n",
       "      <td>0.000981</td>\n",
       "      <td>0.042969</td>\n",
       "      <td>0.104579</td>\n",
       "      <td>5.576473</td>\n",
       "    </tr>\n",
       "    <tr>\n",
       "      <th>min</th>\n",
       "      <td>0.000000</td>\n",
       "      <td>0.543500</td>\n",
       "      <td>0.154300</td>\n",
       "      <td>0.000020</td>\n",
       "      <td>0.006560</td>\n",
       "      <td>0.000618</td>\n",
       "      <td>1.655000</td>\n",
       "    </tr>\n",
       "    <tr>\n",
       "      <th>25%</th>\n",
       "      <td>0.000000</td>\n",
       "      <td>0.647053</td>\n",
       "      <td>0.386537</td>\n",
       "      <td>0.000150</td>\n",
       "      <td>0.036097</td>\n",
       "      <td>0.007168</td>\n",
       "      <td>15.713250</td>\n",
       "    </tr>\n",
       "    <tr>\n",
       "      <th>50%</th>\n",
       "      <td>1.000000</td>\n",
       "      <td>0.700525</td>\n",
       "      <td>0.484355</td>\n",
       "      <td>0.000280</td>\n",
       "      <td>0.055730</td>\n",
       "      <td>0.016273</td>\n",
       "      <td>19.309500</td>\n",
       "    </tr>\n",
       "    <tr>\n",
       "      <th>75%</th>\n",
       "      <td>1.000000</td>\n",
       "      <td>0.754985</td>\n",
       "      <td>0.586515</td>\n",
       "      <td>0.000650</td>\n",
       "      <td>0.085547</td>\n",
       "      <td>0.040060</td>\n",
       "      <td>22.877750</td>\n",
       "    </tr>\n",
       "    <tr>\n",
       "      <th>max</th>\n",
       "      <td>1.000000</td>\n",
       "      <td>0.852640</td>\n",
       "      <td>0.871230</td>\n",
       "      <td>0.011050</td>\n",
       "      <td>0.251010</td>\n",
       "      <td>0.761696</td>\n",
       "      <td>33.197000</td>\n",
       "    </tr>\n",
       "  </tbody>\n",
       "</table>\n",
       "</div>"
      ],
      "text/plain": [
       "           status         DFA        RPDE    MDVP:RAP  MDVP:Shimmer  \\\n",
       "count  756.000000  756.000000  756.000000  756.000000    756.000000   \n",
       "mean     0.746032    0.700414    0.489058    0.000605      0.067473   \n",
       "std      0.435568    0.069718    0.137442    0.000981      0.042969   \n",
       "min      0.000000    0.543500    0.154300    0.000020      0.006560   \n",
       "25%      0.000000    0.647053    0.386537    0.000150      0.036097   \n",
       "50%      1.000000    0.700525    0.484355    0.000280      0.055730   \n",
       "75%      1.000000    0.754985    0.586515    0.000650      0.085547   \n",
       "max      1.000000    0.852640    0.871230    0.011050      0.251010   \n",
       "\n",
       "              NHR         HNR  \n",
       "count  756.000000  756.000000  \n",
       "mean     0.051131   18.859632  \n",
       "std      0.104579    5.576473  \n",
       "min      0.000618    1.655000  \n",
       "25%      0.007168   15.713250  \n",
       "50%      0.016273   19.309500  \n",
       "75%      0.040060   22.877750  \n",
       "max      0.761696   33.197000  "
      ]
     },
     "execution_count": 4,
     "metadata": {},
     "output_type": "execute_result"
    }
   ],
   "source": [
    "df.describe()"
   ]
  },
  {
   "cell_type": "code",
   "execution_count": 5,
   "id": "e3c58feb",
   "metadata": {
    "execution": {
     "iopub.execute_input": "2021-08-22T13:44:02.175752Z",
     "iopub.status.busy": "2021-08-22T13:44:02.155625Z",
     "iopub.status.idle": "2021-08-22T13:44:02.331055Z",
     "shell.execute_reply": "2021-08-22T13:44:02.330114Z",
     "shell.execute_reply.started": "2021-08-22T13:10:53.887822Z"
    },
    "papermill": {
     "duration": 0.283587,
     "end_time": "2021-08-22T13:44:02.331211",
     "exception": false,
     "start_time": "2021-08-22T13:44:02.047624",
     "status": "completed"
    },
    "tags": []
   },
   "outputs": [
    {
     "data": {
      "image/png": "[encoded data removed]",
      "text/plain": [
       "<Figure size 800x550 with 1 Axes>"
      ]
     },
     "metadata": {},
     "output_type": "display_data"
    }
   ],
   "source": [
    "ax = sns.countplot(x=\"status\", data=df)"
   ]
  },
  {
   "cell_type": "markdown",
   "id": "7d94ebd3",
   "metadata": {
    "papermill": {
     "duration": 0.097288,
     "end_time": "2021-08-22T13:44:02.525169",
     "exception": false,
     "start_time": "2021-08-22T13:44:02.427881",
     "status": "completed"
    },
    "tags": []
   },
   "source": [
    "### Split training & test dataset"
   ]
  },
  {
   "cell_type": "code",
   "execution_count": 6,
   "id": "dba5459f",
   "metadata": {
    "execution": {
     "iopub.execute_input": "2021-08-22T13:44:02.773035Z",
     "iopub.status.busy": "2021-08-22T13:44:02.751625Z",
     "iopub.status.idle": "2021-08-22T13:44:03.132665Z",
     "shell.execute_reply": "2021-08-22T13:44:03.132055Z",
     "shell.execute_reply.started": "2021-08-22T13:10:58.093989Z"
    },
    "papermill": {
     "duration": 0.512104,
     "end_time": "2021-08-22T13:44:03.132842",
     "exception": false,
     "start_time": "2021-08-22T13:44:02.620738",
     "status": "completed"
    },
    "tags": []
   },
   "outputs": [
    {
     "data": {
      "image/png": "[encoded data removed]",
      "text/plain": [
       "<Figure size 600x300 with 2 Axes>"
      ]
     },
     "metadata": {},
     "output_type": "display_data"
    },
    {
     "name": "stdout",
     "output_type": "stream",
     "text": [
      "Training dataset           : 680\n",
      "Unseen data for validation : 76\n"
     ]
    }
   ],
   "source": [
    "test_df = df.sample(frac=0.1)\n",
    "train_df = df.drop(test_df.index).reset_index(drop=True)\n",
    "test_df = test_df.reset_index(drop=True)\n",
    "\n",
    "test_df['set'] = 'test'\n",
    "train_df['set'] = 'train'\n",
    "\n",
    "ax = sns.catplot(x=\"status\", col=\"set\", data=pd.concat([train_df, test_df]), kind=\"count\", height=3)\n",
    "plt.show()\n",
    "\n",
    "print('Training dataset           :', len(train_df))\n",
    "print('Unseen data for validation :', len(test_df))"
   ]
  },
  {
   "cell_type": "markdown",
   "id": "4d95ab14",
   "metadata": {
    "papermill": {
     "duration": 0.09522,
     "end_time": "2021-08-22T13:44:03.326083",
     "exception": false,
     "start_time": "2021-08-22T13:44:03.230863",
     "status": "completed"
    },
    "tags": []
   },
   "source": [
    "### Setup environment"
   ]
  },
  {
   "cell_type": "code",
   "execution_count": 7,
   "id": "c5abd9d8",
   "metadata": {
    "_kg_hide-output": true,
    "execution": {
     "iopub.execute_input": "2021-08-22T13:44:03.526391Z",
     "iopub.status.busy": "2021-08-22T13:44:03.525372Z",
     "iopub.status.idle": "2021-08-22T13:44:05.261406Z",
     "shell.execute_reply": "2021-08-22T13:44:05.260580Z",
     "shell.execute_reply.started": "2021-08-22T13:10:59.713092Z"
    },
    "jupyter": {
     "outputs_hidden": true
    },
    "papermill": {
     "duration": 1.838067,
     "end_time": "2021-08-22T13:44:05.261574",
     "exception": false,
     "start_time": "2021-08-22T13:44:03.423507",
     "status": "completed"
    },
    "scrolled": true,
    "tags": []
   },
   "outputs": [
    {
     "data": {
      "text/html": [
       "<style type=\"text/css\">\n",
       "#T_92710_row9_col1, #T_92710_row15_col1, #T_92710_row17_col1 {\n",
       "  background-color: lightgreen;\n",
       "}\n",
       "</style>\n",
       "<table id=\"T_92710\">\n",
       "  <thead>\n",
       "    <tr>\n",
       "      <th class=\"blank level0\" >&nbsp;</th>\n",
       "      <th id=\"T_92710_level0_col0\" class=\"col_heading level0 col0\" >Description</th>\n",
       "      <th id=\"T_92710_level0_col1\" class=\"col_heading level0 col1\" >Value</th>\n",
       "    </tr>\n",
       "  </thead>\n",
       "  <tbody>\n",
       "    <tr>\n",
       "      <th id=\"T_92710_level0_row0\" class=\"row_heading level0 row0\" >0</th>\n",
       "      <td id=\"T_92710_row0_col0\" class=\"data row0 col0\" >Session id</td>\n",
       "      <td id=\"T_92710_row0_col1\" class=\"data row0 col1\" >123</td>\n",
       "    </tr>\n",
       "    <tr>\n",
       "      <th id=\"T_92710_level0_row1\" class=\"row_heading level0 row1\" >1</th>\n",
       "      <td id=\"T_92710_row1_col0\" class=\"data row1 col0\" >Target</td>\n",
       "      <td id=\"T_92710_row1_col1\" class=\"data row1 col1\" >status</td>\n",
       "    </tr>\n",
       "    <tr>\n",
       "      <th id=\"T_92710_level0_row2\" class=\"row_heading level0 row2\" >2</th>\n",
       "      <td id=\"T_92710_row2_col0\" class=\"data row2 col0\" >Target type</td>\n",
       "      <td id=\"T_92710_row2_col1\" class=\"data row2 col1\" >Binary</td>\n",
       "    </tr>\n",
       "    <tr>\n",
       "      <th id=\"T_92710_level0_row3\" class=\"row_heading level0 row3\" >3</th>\n",
       "      <td id=\"T_92710_row3_col0\" class=\"data row3 col0\" >Original data shape</td>\n",
       "      <td id=\"T_92710_row3_col1\" class=\"data row3 col1\" >(680, 8)</td>\n",
       "    </tr>\n",
       "    <tr>\n",
       "      <th id=\"T_92710_level0_row4\" class=\"row_heading level0 row4\" >4</th>\n",
       "      <td id=\"T_92710_row4_col0\" class=\"data row4 col0\" >Transformed data shape</td>\n",
       "      <td id=\"T_92710_row4_col1\" class=\"data row4 col1\" >(881, 8)</td>\n",
       "    </tr>\n",
       "    <tr>\n",
       "      <th id=\"T_92710_level0_row5\" class=\"row_heading level0 row5\" >5</th>\n",
       "      <td id=\"T_92710_row5_col0\" class=\"data row5 col0\" >Transformed train set shape</td>\n",
       "      <td id=\"T_92710_row5_col1\" class=\"data row5 col1\" >(676, 8)</td>\n",
       "    </tr>\n",
       "    <tr>\n",
       "      <th id=\"T_92710_level0_row6\" class=\"row_heading level0 row6\" >6</th>\n",
       "      <td id=\"T_92710_row6_col0\" class=\"data row6 col0\" >Transformed test set shape</td>\n",
       "      <td id=\"T_92710_row6_col1\" class=\"data row6 col1\" >(205, 8)</td>\n",
       "    </tr>\n",
       "    <tr>\n",
       "      <th id=\"T_92710_level0_row7\" class=\"row_heading level0 row7\" >7</th>\n",
       "      <td id=\"T_92710_row7_col0\" class=\"data row7 col0\" >Numeric features</td>\n",
       "      <td id=\"T_92710_row7_col1\" class=\"data row7 col1\" >6</td>\n",
       "    </tr>\n",
       "    <tr>\n",
       "      <th id=\"T_92710_level0_row8\" class=\"row_heading level0 row8\" >8</th>\n",
       "      <td id=\"T_92710_row8_col0\" class=\"data row8 col0\" >Categorical features</td>\n",
       "      <td id=\"T_92710_row8_col1\" class=\"data row8 col1\" >1</td>\n",
       "    </tr>\n",
       "    <tr>\n",
       "      <th id=\"T_92710_level0_row9\" class=\"row_heading level0 row9\" >9</th>\n",
       "      <td id=\"T_92710_row9_col0\" class=\"data row9 col0\" >Preprocess</td>\n",
       "      <td id=\"T_92710_row9_col1\" class=\"data row9 col1\" >True</td>\n",
       "    </tr>\n",
       "    <tr>\n",
       "      <th id=\"T_92710_level0_row10\" class=\"row_heading level0 row10\" >10</th>\n",
       "      <td id=\"T_92710_row10_col0\" class=\"data row10 col0\" >Imputation type</td>\n",
       "      <td id=\"T_92710_row10_col1\" class=\"data row10 col1\" >simple</td>\n",
       "    </tr>\n",
       "    <tr>\n",
       "      <th id=\"T_92710_level0_row11\" class=\"row_heading level0 row11\" >11</th>\n",
       "      <td id=\"T_92710_row11_col0\" class=\"data row11 col0\" >Numeric imputation</td>\n",
       "      <td id=\"T_92710_row11_col1\" class=\"data row11 col1\" >mean</td>\n",
       "    </tr>\n",
       "    <tr>\n",
       "      <th id=\"T_92710_level0_row12\" class=\"row_heading level0 row12\" >12</th>\n",
       "      <td id=\"T_92710_row12_col0\" class=\"data row12 col0\" >Categorical imputation</td>\n",
       "      <td id=\"T_92710_row12_col1\" class=\"data row12 col1\" >mode</td>\n",
       "    </tr>\n",
       "    <tr>\n",
       "      <th id=\"T_92710_level0_row13\" class=\"row_heading level0 row13\" >13</th>\n",
       "      <td id=\"T_92710_row13_col0\" class=\"data row13 col0\" >Maximum one-hot encoding</td>\n",
       "      <td id=\"T_92710_row13_col1\" class=\"data row13 col1\" >25</td>\n",
       "    </tr>\n",
       "    <tr>\n",
       "      <th id=\"T_92710_level0_row14\" class=\"row_heading level0 row14\" >14</th>\n",
       "      <td id=\"T_92710_row14_col0\" class=\"data row14 col0\" >Encoding method</td>\n",
       "      <td id=\"T_92710_row14_col1\" class=\"data row14 col1\" >None</td>\n",
       "    </tr>\n",
       "    <tr>\n",
       "      <th id=\"T_92710_level0_row15\" class=\"row_heading level0 row15\" >15</th>\n",
       "      <td id=\"T_92710_row15_col0\" class=\"data row15 col0\" >Remove outliers</td>\n",
       "      <td id=\"T_92710_row15_col1\" class=\"data row15 col1\" >True</td>\n",
       "    </tr>\n",
       "    <tr>\n",
       "      <th id=\"T_92710_level0_row16\" class=\"row_heading level0 row16\" >16</th>\n",
       "      <td id=\"T_92710_row16_col0\" class=\"data row16 col0\" >Outliers threshold</td>\n",
       "      <td id=\"T_92710_row16_col1\" class=\"data row16 col1\" >0.050000</td>\n",
       "    </tr>\n",
       "    <tr>\n",
       "      <th id=\"T_92710_level0_row17\" class=\"row_heading level0 row17\" >17</th>\n",
       "      <td id=\"T_92710_row17_col0\" class=\"data row17 col0\" >Fix imbalance</td>\n",
       "      <td id=\"T_92710_row17_col1\" class=\"data row17 col1\" >True</td>\n",
       "    </tr>\n",
       "    <tr>\n",
       "      <th id=\"T_92710_level0_row18\" class=\"row_heading level0 row18\" >18</th>\n",
       "      <td id=\"T_92710_row18_col0\" class=\"data row18 col0\" >Fix imbalance method</td>\n",
       "      <td id=\"T_92710_row18_col1\" class=\"data row18 col1\" >SMOTE</td>\n",
       "    </tr>\n",
       "    <tr>\n",
       "      <th id=\"T_92710_level0_row19\" class=\"row_heading level0 row19\" >19</th>\n",
       "      <td id=\"T_92710_row19_col0\" class=\"data row19 col0\" >Fold Generator</td>\n",
       "      <td id=\"T_92710_row19_col1\" class=\"data row19 col1\" >StratifiedKFold</td>\n",
       "    </tr>\n",
       "    <tr>\n",
       "      <th id=\"T_92710_level0_row20\" class=\"row_heading level0 row20\" >20</th>\n",
       "      <td id=\"T_92710_row20_col0\" class=\"data row20 col0\" >Fold Number</td>\n",
       "      <td id=\"T_92710_row20_col1\" class=\"data row20 col1\" >10</td>\n",
       "    </tr>\n",
       "    <tr>\n",
       "      <th id=\"T_92710_level0_row21\" class=\"row_heading level0 row21\" >21</th>\n",
       "      <td id=\"T_92710_row21_col0\" class=\"data row21 col0\" >CPU Jobs</td>\n",
       "      <td id=\"T_92710_row21_col1\" class=\"data row21 col1\" >-1</td>\n",
       "    </tr>\n",
       "    <tr>\n",
       "      <th id=\"T_92710_level0_row22\" class=\"row_heading level0 row22\" >22</th>\n",
       "      <td id=\"T_92710_row22_col0\" class=\"data row22 col0\" >Use GPU</td>\n",
       "      <td id=\"T_92710_row22_col1\" class=\"data row22 col1\" >False</td>\n",
       "    </tr>\n",
       "    <tr>\n",
       "      <th id=\"T_92710_level0_row23\" class=\"row_heading level0 row23\" >23</th>\n",
       "      <td id=\"T_92710_row23_col0\" class=\"data row23 col0\" >Log Experiment</td>\n",
       "      <td id=\"T_92710_row23_col1\" class=\"data row23 col1\" >False</td>\n",
       "    </tr>\n",
       "    <tr>\n",
       "      <th id=\"T_92710_level0_row24\" class=\"row_heading level0 row24\" >24</th>\n",
       "      <td id=\"T_92710_row24_col0\" class=\"data row24 col0\" >Experiment Name</td>\n",
       "      <td id=\"T_92710_row24_col1\" class=\"data row24 col1\" >clf-default-name</td>\n",
       "    </tr>\n",
       "    <tr>\n",
       "      <th id=\"T_92710_level0_row25\" class=\"row_heading level0 row25\" >25</th>\n",
       "      <td id=\"T_92710_row25_col0\" class=\"data row25 col0\" >USI</td>\n",
       "      <td id=\"T_92710_row25_col1\" class=\"data row25 col1\" >86dc</td>\n",
       "    </tr>\n",
       "  </tbody>\n",
       "</table>\n"
      ],
      "text/plain": [
       "<pandas.io.formats.style.Styler at 0x7f9b22d227f0>"
      ]
     },
     "metadata": {},
     "output_type": "display_data"
    }
   ],
   "source": [
    "clf1 = setup(data = train_df, target = 'status', fix_imbalance=True, session_id=123, remove_outliers = True)\n",
    "\n",
    "\n"
   ]
  },
  {
   "cell_type": "markdown",
   "id": "13cc7476",
   "metadata": {
    "papermill": {
     "duration": 0.098835,
     "end_time": "2021-08-22T13:44:05.459851",
     "exception": false,
     "start_time": "2021-08-22T13:44:05.361016",
     "status": "completed"
    },
    "tags": []
   },
   "source": [
    "### Model selection"
   ]
  },
  {
   "cell_type": "code",
   "execution_count": 8,
   "id": "20cfd0e0",
   "metadata": {
    "execution": {
     "iopub.execute_input": "2021-08-22T13:44:05.674835Z",
     "iopub.status.busy": "2021-08-22T13:44:05.673863Z",
     "iopub.status.idle": "2021-08-22T13:45:31.857756Z",
     "shell.execute_reply": "2021-08-22T13:45:31.857228Z",
     "shell.execute_reply.started": "2021-08-22T13:11:03.510927Z"
    },
    "papermill": {
     "duration": 86.300381,
     "end_time": "2021-08-22T13:45:31.857898",
     "exception": false,
     "start_time": "2021-08-22T13:44:05.557517",
     "status": "completed"
    },
    "tags": []
   },
   "outputs": [
    {
     "data": {
      "text/html": [],
      "text/plain": [
       "<IPython.core.display.HTML object>"
      ]
     },
     "metadata": {},
     "output_type": "display_data"
    },
    {
     "data": {
      "text/html": [
       "<style type=\"text/css\">\n",
       "#T_c2ae7 th {\n",
       "  text-align: left;\n",
       "}\n",
       "#T_c2ae7_row0_col0, #T_c2ae7_row0_col2, #T_c2ae7_row0_col3, #T_c2ae7_row0_col4, #T_c2ae7_row0_col6, #T_c2ae7_row0_col7, #T_c2ae7_row1_col0, #T_c2ae7_row1_col1, #T_c2ae7_row1_col2, #T_c2ae7_row1_col3, #T_c2ae7_row1_col4, #T_c2ae7_row1_col5, #T_c2ae7_row2_col0, #T_c2ae7_row2_col1, #T_c2ae7_row2_col2, #T_c2ae7_row2_col3, #T_c2ae7_row2_col4, #T_c2ae7_row2_col5, #T_c2ae7_row2_col6, #T_c2ae7_row2_col7, #T_c2ae7_row3_col0, #T_c2ae7_row3_col1, #T_c2ae7_row3_col2, #T_c2ae7_row3_col3, #T_c2ae7_row3_col4, #T_c2ae7_row3_col5, #T_c2ae7_row3_col6, #T_c2ae7_row3_col7, #T_c2ae7_row4_col0, #T_c2ae7_row4_col1, #T_c2ae7_row4_col3, #T_c2ae7_row4_col5, #T_c2ae7_row4_col6, #T_c2ae7_row4_col7, #T_c2ae7_row5_col0, #T_c2ae7_row5_col1, #T_c2ae7_row5_col2, #T_c2ae7_row5_col4, #T_c2ae7_row5_col5, #T_c2ae7_row5_col6, #T_c2ae7_row5_col7, #T_c2ae7_row6_col0, #T_c2ae7_row6_col1, #T_c2ae7_row6_col2, #T_c2ae7_row6_col3, #T_c2ae7_row6_col4, #T_c2ae7_row6_col5, #T_c2ae7_row6_col6, #T_c2ae7_row6_col7, #T_c2ae7_row7_col0, #T_c2ae7_row7_col1, #T_c2ae7_row7_col2, #T_c2ae7_row7_col3, #T_c2ae7_row7_col4, #T_c2ae7_row7_col5, #T_c2ae7_row7_col6, #T_c2ae7_row7_col7, #T_c2ae7_row8_col0, #T_c2ae7_row8_col1, #T_c2ae7_row8_col2, #T_c2ae7_row8_col3, #T_c2ae7_row8_col4, #T_c2ae7_row8_col5, #T_c2ae7_row8_col6, #T_c2ae7_row8_col7, #T_c2ae7_row9_col0, #T_c2ae7_row9_col1, #T_c2ae7_row9_col2, #T_c2ae7_row9_col3, #T_c2ae7_row9_col4, #T_c2ae7_row9_col5, #T_c2ae7_row9_col6, #T_c2ae7_row9_col7, #T_c2ae7_row10_col0, #T_c2ae7_row10_col1, #T_c2ae7_row10_col2, #T_c2ae7_row10_col3, #T_c2ae7_row10_col4, #T_c2ae7_row10_col5, #T_c2ae7_row10_col6, #T_c2ae7_row10_col7, #T_c2ae7_row11_col0, #T_c2ae7_row11_col1, #T_c2ae7_row11_col2, #T_c2ae7_row11_col3, #T_c2ae7_row11_col4, #T_c2ae7_row11_col5, #T_c2ae7_row11_col6, #T_c2ae7_row11_col7, #T_c2ae7_row12_col0, #T_c2ae7_row12_col1, #T_c2ae7_row12_col2, #T_c2ae7_row12_col3, #T_c2ae7_row12_col4, #T_c2ae7_row12_col5, #T_c2ae7_row12_col6, #T_c2ae7_row12_col7, #T_c2ae7_row13_col0, #T_c2ae7_row13_col1, #T_c2ae7_row13_col2, #T_c2ae7_row13_col3, #T_c2ae7_row13_col4, #T_c2ae7_row13_col5, #T_c2ae7_row13_col6, #T_c2ae7_row13_col7 {\n",
       "  text-align: left;\n",
       "}\n",
       "#T_c2ae7_row0_col1, #T_c2ae7_row0_col5, #T_c2ae7_row1_col6, #T_c2ae7_row1_col7, #T_c2ae7_row4_col2, #T_c2ae7_row4_col4, #T_c2ae7_row5_col3 {\n",
       "  text-align: left;\n",
       "  background-color: yellow;\n",
       "}\n",
       "#T_c2ae7_row0_col8, #T_c2ae7_row1_col8, #T_c2ae7_row2_col8, #T_c2ae7_row3_col8, #T_c2ae7_row4_col8, #T_c2ae7_row6_col8, #T_c2ae7_row7_col8, #T_c2ae7_row8_col8, #T_c2ae7_row9_col8, #T_c2ae7_row10_col8, #T_c2ae7_row11_col8, #T_c2ae7_row12_col8, #T_c2ae7_row13_col8 {\n",
       "  text-align: left;\n",
       "  background-color: lightgrey;\n",
       "}\n",
       "#T_c2ae7_row5_col8 {\n",
       "  text-align: left;\n",
       "  background-color: yellow;\n",
       "  background-color: lightgrey;\n",
       "}\n",
       "</style>\n",
       "<table id=\"T_c2ae7\">\n",
       "  <thead>\n",
       "    <tr>\n",
       "      <th class=\"blank level0\" >&nbsp;</th>\n",
       "      <th id=\"T_c2ae7_level0_col0\" class=\"col_heading level0 col0\" >Model</th>\n",
       "      <th id=\"T_c2ae7_level0_col1\" class=\"col_heading level0 col1\" >Accuracy</th>\n",
       "      <th id=\"T_c2ae7_level0_col2\" class=\"col_heading level0 col2\" >AUC</th>\n",
       "      <th id=\"T_c2ae7_level0_col3\" class=\"col_heading level0 col3\" >Recall</th>\n",
       "      <th id=\"T_c2ae7_level0_col4\" class=\"col_heading level0 col4\" >Prec.</th>\n",
       "      <th id=\"T_c2ae7_level0_col5\" class=\"col_heading level0 col5\" >F1</th>\n",
       "      <th id=\"T_c2ae7_level0_col6\" class=\"col_heading level0 col6\" >Kappa</th>\n",
       "      <th id=\"T_c2ae7_level0_col7\" class=\"col_heading level0 col7\" >MCC</th>\n",
       "      <th id=\"T_c2ae7_level0_col8\" class=\"col_heading level0 col8\" >TT (Sec)</th>\n",
       "    </tr>\n",
       "  </thead>\n",
       "  <tbody>\n",
       "    <tr>\n",
       "      <th id=\"T_c2ae7_level0_row0\" class=\"row_heading level0 row0\" >et</th>\n",
       "      <td id=\"T_c2ae7_row0_col0\" class=\"data row0 col0\" >Extra Trees Classifier</td>\n",
       "      <td id=\"T_c2ae7_row0_col1\" class=\"data row0 col1\" >0.7239</td>\n",
       "      <td id=\"T_c2ae7_row0_col2\" class=\"data row0 col2\" >0.7291</td>\n",
       "      <td id=\"T_c2ae7_row0_col3\" class=\"data row0 col3\" >0.7890</td>\n",
       "      <td id=\"T_c2ae7_row0_col4\" class=\"data row0 col4\" >0.8364</td>\n",
       "      <td id=\"T_c2ae7_row0_col5\" class=\"data row0 col5\" >0.8109</td>\n",
       "      <td id=\"T_c2ae7_row0_col6\" class=\"data row0 col6\" >0.2951</td>\n",
       "      <td id=\"T_c2ae7_row0_col7\" class=\"data row0 col7\" >0.3002</td>\n",
       "      <td id=\"T_c2ae7_row0_col8\" class=\"data row0 col8\" >0.6160</td>\n",
       "    </tr>\n",
       "    <tr>\n",
       "      <th id=\"T_c2ae7_level0_row1\" class=\"row_heading level0 row1\" >gbc</th>\n",
       "      <td id=\"T_c2ae7_row1_col0\" class=\"data row1 col0\" >Gradient Boosting Classifier</td>\n",
       "      <td id=\"T_c2ae7_row1_col1\" class=\"data row1 col1\" >0.7156</td>\n",
       "      <td id=\"T_c2ae7_row1_col2\" class=\"data row1 col2\" >0.7173</td>\n",
       "      <td id=\"T_c2ae7_row1_col3\" class=\"data row1 col3\" >0.7696</td>\n",
       "      <td id=\"T_c2ae7_row1_col4\" class=\"data row1 col4\" >0.8381</td>\n",
       "      <td id=\"T_c2ae7_row1_col5\" class=\"data row1 col5\" >0.8010</td>\n",
       "      <td id=\"T_c2ae7_row1_col6\" class=\"data row1 col6\" >0.3018</td>\n",
       "      <td id=\"T_c2ae7_row1_col7\" class=\"data row1 col7\" >0.3069</td>\n",
       "      <td id=\"T_c2ae7_row1_col8\" class=\"data row1 col8\" >0.4500</td>\n",
       "    </tr>\n",
       "    <tr>\n",
       "      <th id=\"T_c2ae7_level0_row2\" class=\"row_heading level0 row2\" >lightgbm</th>\n",
       "      <td id=\"T_c2ae7_row2_col0\" class=\"data row2 col0\" >Light Gradient Boosting Machine</td>\n",
       "      <td id=\"T_c2ae7_row2_col1\" class=\"data row2 col1\" >0.7152</td>\n",
       "      <td id=\"T_c2ae7_row2_col2\" class=\"data row2 col2\" >0.7015</td>\n",
       "      <td id=\"T_c2ae7_row2_col3\" class=\"data row2 col3\" >0.7749</td>\n",
       "      <td id=\"T_c2ae7_row2_col4\" class=\"data row2 col4\" >0.8341</td>\n",
       "      <td id=\"T_c2ae7_row2_col5\" class=\"data row2 col5\" >0.8030</td>\n",
       "      <td id=\"T_c2ae7_row2_col6\" class=\"data row2 col6\" >0.2901</td>\n",
       "      <td id=\"T_c2ae7_row2_col7\" class=\"data row2 col7\" >0.2936</td>\n",
       "      <td id=\"T_c2ae7_row2_col8\" class=\"data row2 col8\" >0.5310</td>\n",
       "    </tr>\n",
       "    <tr>\n",
       "      <th id=\"T_c2ae7_level0_row3\" class=\"row_heading level0 row3\" >rf</th>\n",
       "      <td id=\"T_c2ae7_row3_col0\" class=\"data row3 col0\" >Random Forest Classifier</td>\n",
       "      <td id=\"T_c2ae7_row3_col1\" class=\"data row3 col1\" >0.6964</td>\n",
       "      <td id=\"T_c2ae7_row3_col2\" class=\"data row3 col2\" >0.7126</td>\n",
       "      <td id=\"T_c2ae7_row3_col3\" class=\"data row3 col3\" >0.7467</td>\n",
       "      <td id=\"T_c2ae7_row3_col4\" class=\"data row3 col4\" >0.8314</td>\n",
       "      <td id=\"T_c2ae7_row3_col5\" class=\"data row3 col5\" >0.7853</td>\n",
       "      <td id=\"T_c2ae7_row3_col6\" class=\"data row3 col6\" >0.2672</td>\n",
       "      <td id=\"T_c2ae7_row3_col7\" class=\"data row3 col7\" >0.2734</td>\n",
       "      <td id=\"T_c2ae7_row3_col8\" class=\"data row3 col8\" >0.5200</td>\n",
       "    </tr>\n",
       "    <tr>\n",
       "      <th id=\"T_c2ae7_level0_row4\" class=\"row_heading level0 row4\" >lda</th>\n",
       "      <td id=\"T_c2ae7_row4_col0\" class=\"data row4 col0\" >Linear Discriminant Analysis</td>\n",
       "      <td id=\"T_c2ae7_row4_col1\" class=\"data row4 col1\" >0.6777</td>\n",
       "      <td id=\"T_c2ae7_row4_col2\" class=\"data row4 col2\" >0.7417</td>\n",
       "      <td id=\"T_c2ae7_row4_col3\" class=\"data row4 col3\" >0.6851</td>\n",
       "      <td id=\"T_c2ae7_row4_col4\" class=\"data row4 col4\" >0.8589</td>\n",
       "      <td id=\"T_c2ae7_row4_col5\" class=\"data row4 col5\" >0.7590</td>\n",
       "      <td id=\"T_c2ae7_row4_col6\" class=\"data row4 col6\" >0.2818</td>\n",
       "      <td id=\"T_c2ae7_row4_col7\" class=\"data row4 col7\" >0.3024</td>\n",
       "      <td id=\"T_c2ae7_row4_col8\" class=\"data row4 col8\" >0.2900</td>\n",
       "    </tr>\n",
       "    <tr>\n",
       "      <th id=\"T_c2ae7_level0_row5\" class=\"row_heading level0 row5\" >svm</th>\n",
       "      <td id=\"T_c2ae7_row5_col0\" class=\"data row5 col0\" >SVM - Linear Kernel</td>\n",
       "      <td id=\"T_c2ae7_row5_col1\" class=\"data row5 col1\" >0.6691</td>\n",
       "      <td id=\"T_c2ae7_row5_col2\" class=\"data row5 col2\" >0.0000</td>\n",
       "      <td id=\"T_c2ae7_row5_col3\" class=\"data row5 col3\" >0.8071</td>\n",
       "      <td id=\"T_c2ae7_row5_col4\" class=\"data row5 col4\" >0.7834</td>\n",
       "      <td id=\"T_c2ae7_row5_col5\" class=\"data row5 col5\" >0.7490</td>\n",
       "      <td id=\"T_c2ae7_row5_col6\" class=\"data row5 col6\" >0.0552</td>\n",
       "      <td id=\"T_c2ae7_row5_col7\" class=\"data row5 col7\" >0.0672</td>\n",
       "      <td id=\"T_c2ae7_row5_col8\" class=\"data row5 col8\" >0.2300</td>\n",
       "    </tr>\n",
       "    <tr>\n",
       "      <th id=\"T_c2ae7_level0_row6\" class=\"row_heading level0 row6\" >ridge</th>\n",
       "      <td id=\"T_c2ae7_row6_col0\" class=\"data row6 col0\" >Ridge Classifier</td>\n",
       "      <td id=\"T_c2ae7_row6_col1\" class=\"data row6 col1\" >0.6626</td>\n",
       "      <td id=\"T_c2ae7_row6_col2\" class=\"data row6 col2\" >0.0000</td>\n",
       "      <td id=\"T_c2ae7_row6_col3\" class=\"data row6 col3\" >0.6733</td>\n",
       "      <td id=\"T_c2ae7_row6_col4\" class=\"data row6 col4\" >0.8471</td>\n",
       "      <td id=\"T_c2ae7_row6_col5\" class=\"data row6 col5\" >0.7466</td>\n",
       "      <td id=\"T_c2ae7_row6_col6\" class=\"data row6 col6\" >0.2494</td>\n",
       "      <td id=\"T_c2ae7_row6_col7\" class=\"data row6 col7\" >0.2679</td>\n",
       "      <td id=\"T_c2ae7_row6_col8\" class=\"data row6 col8\" >0.2350</td>\n",
       "    </tr>\n",
       "    <tr>\n",
       "      <th id=\"T_c2ae7_level0_row7\" class=\"row_heading level0 row7\" >dt</th>\n",
       "      <td id=\"T_c2ae7_row7_col0\" class=\"data row7 col0\" >Decision Tree Classifier</td>\n",
       "      <td id=\"T_c2ae7_row7_col1\" class=\"data row7 col1\" >0.6525</td>\n",
       "      <td id=\"T_c2ae7_row7_col2\" class=\"data row7 col2\" >0.5927</td>\n",
       "      <td id=\"T_c2ae7_row7_col3\" class=\"data row7 col3\" >0.7133</td>\n",
       "      <td id=\"T_c2ae7_row7_col4\" class=\"data row7 col4\" >0.8018</td>\n",
       "      <td id=\"T_c2ae7_row7_col5\" class=\"data row7 col5\" >0.7536</td>\n",
       "      <td id=\"T_c2ae7_row7_col6\" class=\"data row7 col6\" >0.1673</td>\n",
       "      <td id=\"T_c2ae7_row7_col7\" class=\"data row7 col7\" >0.1718</td>\n",
       "      <td id=\"T_c2ae7_row7_col8\" class=\"data row7 col8\" >0.2440</td>\n",
       "    </tr>\n",
       "    <tr>\n",
       "      <th id=\"T_c2ae7_level0_row8\" class=\"row_heading level0 row8\" >ada</th>\n",
       "      <td id=\"T_c2ae7_row8_col0\" class=\"data row8 col0\" >Ada Boost Classifier</td>\n",
       "      <td id=\"T_c2ae7_row8_col1\" class=\"data row8 col1\" >0.6438</td>\n",
       "      <td id=\"T_c2ae7_row8_col2\" class=\"data row8 col2\" >0.6664</td>\n",
       "      <td id=\"T_c2ae7_row8_col3\" class=\"data row8 col3\" >0.6622</td>\n",
       "      <td id=\"T_c2ae7_row8_col4\" class=\"data row8 col4\" >0.8277</td>\n",
       "      <td id=\"T_c2ae7_row8_col5\" class=\"data row8 col5\" >0.7339</td>\n",
       "      <td id=\"T_c2ae7_row8_col6\" class=\"data row8 col6\" >0.2103</td>\n",
       "      <td id=\"T_c2ae7_row8_col7\" class=\"data row8 col7\" >0.2228</td>\n",
       "      <td id=\"T_c2ae7_row8_col8\" class=\"data row8 col8\" >0.4420</td>\n",
       "    </tr>\n",
       "    <tr>\n",
       "      <th id=\"T_c2ae7_level0_row9\" class=\"row_heading level0 row9\" >lr</th>\n",
       "      <td id=\"T_c2ae7_row9_col0\" class=\"data row9 col0\" >Logistic Regression</td>\n",
       "      <td id=\"T_c2ae7_row9_col1\" class=\"data row9 col1\" >0.6417</td>\n",
       "      <td id=\"T_c2ae7_row9_col2\" class=\"data row9 col2\" >0.7023</td>\n",
       "      <td id=\"T_c2ae7_row9_col3\" class=\"data row9 col3\" >0.6428</td>\n",
       "      <td id=\"T_c2ae7_row9_col4\" class=\"data row9 col4\" >0.8444</td>\n",
       "      <td id=\"T_c2ae7_row9_col5\" class=\"data row9 col5\" >0.7270</td>\n",
       "      <td id=\"T_c2ae7_row9_col6\" class=\"data row9 col6\" >0.2246</td>\n",
       "      <td id=\"T_c2ae7_row9_col7\" class=\"data row9 col7\" >0.2462</td>\n",
       "      <td id=\"T_c2ae7_row9_col8\" class=\"data row9 col8\" >1.0690</td>\n",
       "    </tr>\n",
       "    <tr>\n",
       "      <th id=\"T_c2ae7_level0_row10\" class=\"row_heading level0 row10\" >knn</th>\n",
       "      <td id=\"T_c2ae7_row10_col0\" class=\"data row10 col0\" >K Neighbors Classifier</td>\n",
       "      <td id=\"T_c2ae7_row10_col1\" class=\"data row10 col1\" >0.5952</td>\n",
       "      <td id=\"T_c2ae7_row10_col2\" class=\"data row10 col2\" >0.5696</td>\n",
       "      <td id=\"T_c2ae7_row10_col3\" class=\"data row10 col3\" >0.6370</td>\n",
       "      <td id=\"T_c2ae7_row10_col4\" class=\"data row10 col4\" >0.7809</td>\n",
       "      <td id=\"T_c2ae7_row10_col5\" class=\"data row10 col5\" >0.7004</td>\n",
       "      <td id=\"T_c2ae7_row10_col6\" class=\"data row10 col6\" >0.0943</td>\n",
       "      <td id=\"T_c2ae7_row10_col7\" class=\"data row10 col7\" >0.0977</td>\n",
       "      <td id=\"T_c2ae7_row10_col8\" class=\"data row10 col8\" >0.2520</td>\n",
       "    </tr>\n",
       "    <tr>\n",
       "      <th id=\"T_c2ae7_level0_row11\" class=\"row_heading level0 row11\" >nb</th>\n",
       "      <td id=\"T_c2ae7_row11_col0\" class=\"data row11 col0\" >Naive Bayes</td>\n",
       "      <td id=\"T_c2ae7_row11_col1\" class=\"data row11 col1\" >0.5449</td>\n",
       "      <td id=\"T_c2ae7_row11_col2\" class=\"data row11 col2\" >0.6600</td>\n",
       "      <td id=\"T_c2ae7_row11_col3\" class=\"data row11 col3\" >0.4855</td>\n",
       "      <td id=\"T_c2ae7_row11_col4\" class=\"data row11 col4\" >0.8437</td>\n",
       "      <td id=\"T_c2ae7_row11_col5\" class=\"data row11 col5\" >0.6103</td>\n",
       "      <td id=\"T_c2ae7_row11_col6\" class=\"data row11 col6\" >0.1448</td>\n",
       "      <td id=\"T_c2ae7_row11_col7\" class=\"data row11 col7\" >0.1830</td>\n",
       "      <td id=\"T_c2ae7_row11_col8\" class=\"data row11 col8\" >0.2370</td>\n",
       "    </tr>\n",
       "    <tr>\n",
       "      <th id=\"T_c2ae7_level0_row12\" class=\"row_heading level0 row12\" >qda</th>\n",
       "      <td id=\"T_c2ae7_row12_col0\" class=\"data row12 col0\" >Quadratic Discriminant Analysis</td>\n",
       "      <td id=\"T_c2ae7_row12_col1\" class=\"data row12 col1\" >0.2505</td>\n",
       "      <td id=\"T_c2ae7_row12_col2\" class=\"data row12 col2\" >0.0000</td>\n",
       "      <td id=\"T_c2ae7_row12_col3\" class=\"data row12 col3\" >0.0000</td>\n",
       "      <td id=\"T_c2ae7_row12_col4\" class=\"data row12 col4\" >0.0000</td>\n",
       "      <td id=\"T_c2ae7_row12_col5\" class=\"data row12 col5\" >0.0000</td>\n",
       "      <td id=\"T_c2ae7_row12_col6\" class=\"data row12 col6\" >0.0000</td>\n",
       "      <td id=\"T_c2ae7_row12_col7\" class=\"data row12 col7\" >0.0000</td>\n",
       "      <td id=\"T_c2ae7_row12_col8\" class=\"data row12 col8\" >0.2670</td>\n",
       "    </tr>\n",
       "    <tr>\n",
       "      <th id=\"T_c2ae7_level0_row13\" class=\"row_heading level0 row13\" >dummy</th>\n",
       "      <td id=\"T_c2ae7_row13_col0\" class=\"data row13 col0\" >Dummy Classifier</td>\n",
       "      <td id=\"T_c2ae7_row13_col1\" class=\"data row13 col1\" >0.2505</td>\n",
       "      <td id=\"T_c2ae7_row13_col2\" class=\"data row13 col2\" >0.5000</td>\n",
       "      <td id=\"T_c2ae7_row13_col3\" class=\"data row13 col3\" >0.0000</td>\n",
       "      <td id=\"T_c2ae7_row13_col4\" class=\"data row13 col4\" >0.0000</td>\n",
       "      <td id=\"T_c2ae7_row13_col5\" class=\"data row13 col5\" >0.0000</td>\n",
       "      <td id=\"T_c2ae7_row13_col6\" class=\"data row13 col6\" >0.0000</td>\n",
       "      <td id=\"T_c2ae7_row13_col7\" class=\"data row13 col7\" >0.0000</td>\n",
       "      <td id=\"T_c2ae7_row13_col8\" class=\"data row13 col8\" >0.2950</td>\n",
       "    </tr>\n",
       "  </tbody>\n",
       "</table>\n"
      ],
      "text/plain": [
       "<pandas.io.formats.style.Styler at 0x7fddfd657f10>"
      ]
     },
     "metadata": {},
     "output_type": "display_data"
    },
    {
     "data": {
      "application/vnd.jupyter.widget-view+json": {
       "model_id": "",
       "version_major": 2,
       "version_minor": 0
      },
      "text/plain": [
       "Processing:   0%|          | 0/61 [00:00<?, ?it/s]"
      ]
     },
     "metadata": {},
     "output_type": "display_data"
    },
    {
     "data": {
      "text/plain": [
       "ExtraTreesClassifier(bootstrap=False, ccp_alpha=0.0, class_weight=None,\n",
       "                     criterion='gini', max_depth=None, max_features='auto',\n",
       "                     max_leaf_nodes=None, max_samples=None,\n",
       "                     min_impurity_decrease=0.0, min_samples_leaf=1,\n",
       "                     min_samples_split=2, min_weight_fraction_leaf=0.0,\n",
       "                     n_estimators=100, n_jobs=-1, oob_score=False,\n",
       "                     random_state=123, verbose=0, warm_start=False)"
      ]
     },
     "execution_count": 8,
     "metadata": {},
     "output_type": "execute_result"
    }
   ],
   "source": [
    "compare_models()"
   ]
  },
  {
   "cell_type": "markdown",
   "id": "fc9e3aee",
   "metadata": {
    "papermill": {
     "duration": 0.097678,
     "end_time": "2021-08-22T13:45:32.057214",
     "exception": false,
     "start_time": "2021-08-22T13:45:31.959536",
     "status": "completed"
    },
    "tags": []
   },
   "source": [
    "### Create Extra Trees Classifier Model"
   ]
  },
  {
   "cell_type": "code",
   "execution_count": 8,
   "id": "12704311",
   "metadata": {
    "execution": {
     "iopub.execute_input": "2021-08-22T13:45:32.264492Z",
     "iopub.status.busy": "2021-08-22T13:45:32.263746Z",
     "iopub.status.idle": "2021-08-22T13:45:45.233782Z",
     "shell.execute_reply": "2021-08-22T13:45:45.233120Z",
     "shell.execute_reply.started": "2021-08-22T13:12:32.673608Z"
    },
    "papermill": {
     "duration": 13.076747,
     "end_time": "2021-08-22T13:45:45.233951",
     "exception": false,
     "start_time": "2021-08-22T13:45:32.157204",
     "status": "completed"
    },
    "tags": []
   },
   "outputs": [
    {
     "data": {
      "text/html": [],
      "text/plain": [
       "<IPython.core.display.HTML object>"
      ]
     },
     "metadata": {},
     "output_type": "display_data"
    },
    {
     "data": {
      "text/html": [
       "<style type=\"text/css\">\n",
       "#T_6264a_row10_col0, #T_6264a_row10_col1, #T_6264a_row10_col2, #T_6264a_row10_col3, #T_6264a_row10_col4, #T_6264a_row10_col5, #T_6264a_row10_col6 {\n",
       "  background: yellow;\n",
       "}\n",
       "</style>\n",
       "<table id=\"T_6264a\">\n",
       "  <thead>\n",
       "    <tr>\n",
       "      <th class=\"blank level0\" >&nbsp;</th>\n",
       "      <th id=\"T_6264a_level0_col0\" class=\"col_heading level0 col0\" >Accuracy</th>\n",
       "      <th id=\"T_6264a_level0_col1\" class=\"col_heading level0 col1\" >AUC</th>\n",
       "      <th id=\"T_6264a_level0_col2\" class=\"col_heading level0 col2\" >Recall</th>\n",
       "      <th id=\"T_6264a_level0_col3\" class=\"col_heading level0 col3\" >Prec.</th>\n",
       "      <th id=\"T_6264a_level0_col4\" class=\"col_heading level0 col4\" >F1</th>\n",
       "      <th id=\"T_6264a_level0_col5\" class=\"col_heading level0 col5\" >Kappa</th>\n",
       "      <th id=\"T_6264a_level0_col6\" class=\"col_heading level0 col6\" >MCC</th>\n",
       "    </tr>\n",
       "    <tr>\n",
       "      <th class=\"index_name level0\" >Fold</th>\n",
       "      <th class=\"blank col0\" >&nbsp;</th>\n",
       "      <th class=\"blank col1\" >&nbsp;</th>\n",
       "      <th class=\"blank col2\" >&nbsp;</th>\n",
       "      <th class=\"blank col3\" >&nbsp;</th>\n",
       "      <th class=\"blank col4\" >&nbsp;</th>\n",
       "      <th class=\"blank col5\" >&nbsp;</th>\n",
       "      <th class=\"blank col6\" >&nbsp;</th>\n",
       "    </tr>\n",
       "  </thead>\n",
       "  <tbody>\n",
       "    <tr>\n",
       "      <th id=\"T_6264a_level0_row0\" class=\"row_heading level0 row0\" >0</th>\n",
       "      <td id=\"T_6264a_row0_col0\" class=\"data row0 col0\" >0.7292</td>\n",
       "      <td id=\"T_6264a_row0_col1\" class=\"data row0 col1\" >0.7454</td>\n",
       "      <td id=\"T_6264a_row0_col2\" class=\"data row0 col2\" >0.8333</td>\n",
       "      <td id=\"T_6264a_row0_col3\" class=\"data row0 col3\" >0.8108</td>\n",
       "      <td id=\"T_6264a_row0_col4\" class=\"data row0 col4\" >0.8219</td>\n",
       "      <td id=\"T_6264a_row0_col5\" class=\"data row0 col5\" >0.2571</td>\n",
       "      <td id=\"T_6264a_row0_col6\" class=\"data row0 col6\" >0.2576</td>\n",
       "    </tr>\n",
       "    <tr>\n",
       "      <th id=\"T_6264a_level0_row1\" class=\"row_heading level0 row1\" >1</th>\n",
       "      <td id=\"T_6264a_row1_col0\" class=\"data row1 col0\" >0.6875</td>\n",
       "      <td id=\"T_6264a_row1_col1\" class=\"data row1 col1\" >0.6713</td>\n",
       "      <td id=\"T_6264a_row1_col2\" class=\"data row1 col2\" >0.8056</td>\n",
       "      <td id=\"T_6264a_row1_col3\" class=\"data row1 col3\" >0.7838</td>\n",
       "      <td id=\"T_6264a_row1_col4\" class=\"data row1 col4\" >0.7945</td>\n",
       "      <td id=\"T_6264a_row1_col5\" class=\"data row1 col5\" >0.1429</td>\n",
       "      <td id=\"T_6264a_row1_col6\" class=\"data row1 col6\" >0.1431</td>\n",
       "    </tr>\n",
       "    <tr>\n",
       "      <th id=\"T_6264a_level0_row2\" class=\"row_heading level0 row2\" >2</th>\n",
       "      <td id=\"T_6264a_row2_col0\" class=\"data row2 col0\" >0.8333</td>\n",
       "      <td id=\"T_6264a_row2_col1\" class=\"data row2 col1\" >0.8461</td>\n",
       "      <td id=\"T_6264a_row2_col2\" class=\"data row2 col2\" >0.9167</td>\n",
       "      <td id=\"T_6264a_row2_col3\" class=\"data row2 col3\" >0.8684</td>\n",
       "      <td id=\"T_6264a_row2_col4\" class=\"data row2 col4\" >0.8919</td>\n",
       "      <td id=\"T_6264a_row2_col5\" class=\"data row2 col5\" >0.5294</td>\n",
       "      <td id=\"T_6264a_row2_col6\" class=\"data row2 col6\" >0.5331</td>\n",
       "    </tr>\n",
       "    <tr>\n",
       "      <th id=\"T_6264a_level0_row3\" class=\"row_heading level0 row3\" >3</th>\n",
       "      <td id=\"T_6264a_row3_col0\" class=\"data row3 col0\" >0.7083</td>\n",
       "      <td id=\"T_6264a_row3_col1\" class=\"data row3 col1\" >0.7917</td>\n",
       "      <td id=\"T_6264a_row3_col2\" class=\"data row3 col2\" >0.7500</td>\n",
       "      <td id=\"T_6264a_row3_col3\" class=\"data row3 col3\" >0.8438</td>\n",
       "      <td id=\"T_6264a_row3_col4\" class=\"data row3 col4\" >0.7941</td>\n",
       "      <td id=\"T_6264a_row3_col5\" class=\"data row3 col5\" >0.3000</td>\n",
       "      <td id=\"T_6264a_row3_col6\" class=\"data row3 col6\" >0.3062</td>\n",
       "    </tr>\n",
       "    <tr>\n",
       "      <th id=\"T_6264a_level0_row4\" class=\"row_heading level0 row4\" >4</th>\n",
       "      <td id=\"T_6264a_row4_col0\" class=\"data row4 col0\" >0.6875</td>\n",
       "      <td id=\"T_6264a_row4_col1\" class=\"data row4 col1\" >0.6377</td>\n",
       "      <td id=\"T_6264a_row4_col2\" class=\"data row4 col2\" >0.8056</td>\n",
       "      <td id=\"T_6264a_row4_col3\" class=\"data row4 col3\" >0.7838</td>\n",
       "      <td id=\"T_6264a_row4_col4\" class=\"data row4 col4\" >0.7945</td>\n",
       "      <td id=\"T_6264a_row4_col5\" class=\"data row4 col5\" >0.1429</td>\n",
       "      <td id=\"T_6264a_row4_col6\" class=\"data row4 col6\" >0.1431</td>\n",
       "    </tr>\n",
       "    <tr>\n",
       "      <th id=\"T_6264a_level0_row5\" class=\"row_heading level0 row5\" >5</th>\n",
       "      <td id=\"T_6264a_row5_col0\" class=\"data row5 col0\" >0.8085</td>\n",
       "      <td id=\"T_6264a_row5_col1\" class=\"data row5 col1\" >0.8333</td>\n",
       "      <td id=\"T_6264a_row5_col2\" class=\"data row5 col2\" >0.8611</td>\n",
       "      <td id=\"T_6264a_row5_col3\" class=\"data row5 col3\" >0.8857</td>\n",
       "      <td id=\"T_6264a_row5_col4\" class=\"data row5 col4\" >0.8732</td>\n",
       "      <td id=\"T_6264a_row5_col5\" class=\"data row5 col5\" >0.4823</td>\n",
       "      <td id=\"T_6264a_row5_col6\" class=\"data row5 col6\" >0.4831</td>\n",
       "    </tr>\n",
       "    <tr>\n",
       "      <th id=\"T_6264a_level0_row6\" class=\"row_heading level0 row6\" >6</th>\n",
       "      <td id=\"T_6264a_row6_col0\" class=\"data row6 col0\" >0.7872</td>\n",
       "      <td id=\"T_6264a_row6_col1\" class=\"data row6 col1\" >0.8409</td>\n",
       "      <td id=\"T_6264a_row6_col2\" class=\"data row6 col2\" >0.7778</td>\n",
       "      <td id=\"T_6264a_row6_col3\" class=\"data row6 col3\" >0.9333</td>\n",
       "      <td id=\"T_6264a_row6_col4\" class=\"data row6 col4\" >0.8485</td>\n",
       "      <td id=\"T_6264a_row6_col5\" class=\"data row6 col5\" >0.5011</td>\n",
       "      <td id=\"T_6264a_row6_col6\" class=\"data row6 col6\" >0.5251</td>\n",
       "    </tr>\n",
       "    <tr>\n",
       "      <th id=\"T_6264a_level0_row7\" class=\"row_heading level0 row7\" >7</th>\n",
       "      <td id=\"T_6264a_row7_col0\" class=\"data row7 col0\" >0.7234</td>\n",
       "      <td id=\"T_6264a_row7_col1\" class=\"data row7 col1\" >0.5922</td>\n",
       "      <td id=\"T_6264a_row7_col2\" class=\"data row7 col2\" >0.8056</td>\n",
       "      <td id=\"T_6264a_row7_col3\" class=\"data row7 col3\" >0.8286</td>\n",
       "      <td id=\"T_6264a_row7_col4\" class=\"data row7 col4\" >0.8169</td>\n",
       "      <td id=\"T_6264a_row7_col5\" class=\"data row7 col5\" >0.2521</td>\n",
       "      <td id=\"T_6264a_row7_col6\" class=\"data row7 col6\" >0.2526</td>\n",
       "    </tr>\n",
       "    <tr>\n",
       "      <th id=\"T_6264a_level0_row8\" class=\"row_heading level0 row8\" >8</th>\n",
       "      <td id=\"T_6264a_row8_col0\" class=\"data row8 col0\" >0.8085</td>\n",
       "      <td id=\"T_6264a_row8_col1\" class=\"data row8 col1\" >0.6629</td>\n",
       "      <td id=\"T_6264a_row8_col2\" class=\"data row8 col2\" >0.8889</td>\n",
       "      <td id=\"T_6264a_row8_col3\" class=\"data row8 col3\" >0.8649</td>\n",
       "      <td id=\"T_6264a_row8_col4\" class=\"data row8 col4\" >0.8767</td>\n",
       "      <td id=\"T_6264a_row8_col5\" class=\"data row8 col5\" >0.4485</td>\n",
       "      <td id=\"T_6264a_row8_col6\" class=\"data row8 col6\" >0.4493</td>\n",
       "    </tr>\n",
       "    <tr>\n",
       "      <th id=\"T_6264a_level0_row9\" class=\"row_heading level0 row9\" >9</th>\n",
       "      <td id=\"T_6264a_row9_col0\" class=\"data row9 col0\" >0.6596</td>\n",
       "      <td id=\"T_6264a_row9_col1\" class=\"data row9 col1\" >0.7107</td>\n",
       "      <td id=\"T_6264a_row9_col2\" class=\"data row9 col2\" >0.7429</td>\n",
       "      <td id=\"T_6264a_row9_col3\" class=\"data row9 col3\" >0.7879</td>\n",
       "      <td id=\"T_6264a_row9_col4\" class=\"data row9 col4\" >0.7647</td>\n",
       "      <td id=\"T_6264a_row9_col5\" class=\"data row9 col5\" >0.1512</td>\n",
       "      <td id=\"T_6264a_row9_col6\" class=\"data row9 col6\" >0.1521</td>\n",
       "    </tr>\n",
       "    <tr>\n",
       "      <th id=\"T_6264a_level0_row10\" class=\"row_heading level0 row10\" >Mean</th>\n",
       "      <td id=\"T_6264a_row10_col0\" class=\"data row10 col0\" >0.7433</td>\n",
       "      <td id=\"T_6264a_row10_col1\" class=\"data row10 col1\" >0.7332</td>\n",
       "      <td id=\"T_6264a_row10_col2\" class=\"data row10 col2\" >0.8187</td>\n",
       "      <td id=\"T_6264a_row10_col3\" class=\"data row10 col3\" >0.8391</td>\n",
       "      <td id=\"T_6264a_row10_col4\" class=\"data row10 col4\" >0.8277</td>\n",
       "      <td id=\"T_6264a_row10_col5\" class=\"data row10 col5\" >0.3207</td>\n",
       "      <td id=\"T_6264a_row10_col6\" class=\"data row10 col6\" >0.3245</td>\n",
       "    </tr>\n",
       "    <tr>\n",
       "      <th id=\"T_6264a_level0_row11\" class=\"row_heading level0 row11\" >Std</th>\n",
       "      <td id=\"T_6264a_row11_col0\" class=\"data row11 col0\" >0.0580</td>\n",
       "      <td id=\"T_6264a_row11_col1\" class=\"data row11 col1\" >0.0873</td>\n",
       "      <td id=\"T_6264a_row11_col2\" class=\"data row11 col2\" >0.0540</td>\n",
       "      <td id=\"T_6264a_row11_col3\" class=\"data row11 col3\" >0.0472</td>\n",
       "      <td id=\"T_6264a_row11_col4\" class=\"data row11 col4\" >0.0406</td>\n",
       "      <td id=\"T_6264a_row11_col5\" class=\"data row11 col5\" >0.1482</td>\n",
       "      <td id=\"T_6264a_row11_col6\" class=\"data row11 col6\" >0.1517</td>\n",
       "    </tr>\n",
       "  </tbody>\n",
       "</table>\n"
      ],
      "text/plain": [
       "<pandas.io.formats.style.Styler at 0x7f9b22e21eb0>"
      ]
     },
     "metadata": {},
     "output_type": "display_data"
    },
    {
     "data": {
      "application/vnd.jupyter.widget-view+json": {
       "model_id": "",
       "version_major": 2,
       "version_minor": 0
      },
      "text/plain": [
       "Processing:   0%|          | 0/4 [00:00<?, ?it/s]"
      ]
     },
     "metadata": {},
     "output_type": "display_data"
    }
   ],
   "source": [
    "extraTreesClassifier = create_model('et')"
   ]
  },
  {
   "cell_type": "markdown",
   "id": "d97ac612",
   "metadata": {
    "papermill": {
     "duration": 0.101026,
     "end_time": "2021-08-22T13:45:45.437396",
     "exception": false,
     "start_time": "2021-08-22T13:45:45.336370",
     "status": "completed"
    },
    "tags": []
   },
   "source": [
    "### Tuned Model"
   ]
  },
  {
   "cell_type": "code",
   "execution_count": 9,
   "id": "b16b9c25",
   "metadata": {
    "execution": {
     "iopub.execute_input": "2021-08-22T13:45:45.640878Z",
     "iopub.status.busy": "2021-08-22T13:45:45.639811Z",
     "iopub.status.idle": "2021-08-22T13:47:30.785071Z",
     "shell.execute_reply": "2021-08-22T13:47:30.784525Z",
     "shell.execute_reply.started": "2021-08-22T13:12:40.596075Z"
    },
    "papermill": {
     "duration": 105.248687,
     "end_time": "2021-08-22T13:47:30.785309",
     "exception": false,
     "start_time": "2021-08-22T13:45:45.536622",
     "status": "completed"
    },
    "tags": []
   },
   "outputs": [
    {
     "data": {
      "text/html": [],
      "text/plain": [
       "<IPython.core.display.HTML object>"
      ]
     },
     "metadata": {},
     "output_type": "display_data"
    },
    {
     "data": {
      "text/html": [
       "<style type=\"text/css\">\n",
       "#T_a11c8_row10_col0, #T_a11c8_row10_col1, #T_a11c8_row10_col2, #T_a11c8_row10_col3, #T_a11c8_row10_col4, #T_a11c8_row10_col5, #T_a11c8_row10_col6 {\n",
       "  background: yellow;\n",
       "}\n",
       "</style>\n",
       "<table id=\"T_a11c8\">\n",
       "  <thead>\n",
       "    <tr>\n",
       "      <th class=\"blank level0\" >&nbsp;</th>\n",
       "      <th id=\"T_a11c8_level0_col0\" class=\"col_heading level0 col0\" >Accuracy</th>\n",
       "      <th id=\"T_a11c8_level0_col1\" class=\"col_heading level0 col1\" >AUC</th>\n",
       "      <th id=\"T_a11c8_level0_col2\" class=\"col_heading level0 col2\" >Recall</th>\n",
       "      <th id=\"T_a11c8_level0_col3\" class=\"col_heading level0 col3\" >Prec.</th>\n",
       "      <th id=\"T_a11c8_level0_col4\" class=\"col_heading level0 col4\" >F1</th>\n",
       "      <th id=\"T_a11c8_level0_col5\" class=\"col_heading level0 col5\" >Kappa</th>\n",
       "      <th id=\"T_a11c8_level0_col6\" class=\"col_heading level0 col6\" >MCC</th>\n",
       "    </tr>\n",
       "    <tr>\n",
       "      <th class=\"index_name level0\" >Fold</th>\n",
       "      <th class=\"blank col0\" >&nbsp;</th>\n",
       "      <th class=\"blank col1\" >&nbsp;</th>\n",
       "      <th class=\"blank col2\" >&nbsp;</th>\n",
       "      <th class=\"blank col3\" >&nbsp;</th>\n",
       "      <th class=\"blank col4\" >&nbsp;</th>\n",
       "      <th class=\"blank col5\" >&nbsp;</th>\n",
       "      <th class=\"blank col6\" >&nbsp;</th>\n",
       "    </tr>\n",
       "  </thead>\n",
       "  <tbody>\n",
       "    <tr>\n",
       "      <th id=\"T_a11c8_level0_row0\" class=\"row_heading level0 row0\" >0</th>\n",
       "      <td id=\"T_a11c8_row0_col0\" class=\"data row0 col0\" >0.7292</td>\n",
       "      <td id=\"T_a11c8_row0_col1\" class=\"data row0 col1\" >0.7569</td>\n",
       "      <td id=\"T_a11c8_row0_col2\" class=\"data row0 col2\" >0.7500</td>\n",
       "      <td id=\"T_a11c8_row0_col3\" class=\"data row0 col3\" >0.8710</td>\n",
       "      <td id=\"T_a11c8_row0_col4\" class=\"data row0 col4\" >0.8060</td>\n",
       "      <td id=\"T_a11c8_row0_col5\" class=\"data row0 col5\" >0.3659</td>\n",
       "      <td id=\"T_a11c8_row0_col6\" class=\"data row0 col6\" >0.3772</td>\n",
       "    </tr>\n",
       "    <tr>\n",
       "      <th id=\"T_a11c8_level0_row1\" class=\"row_heading level0 row1\" >1</th>\n",
       "      <td id=\"T_a11c8_row1_col0\" class=\"data row1 col0\" >0.7292</td>\n",
       "      <td id=\"T_a11c8_row1_col1\" class=\"data row1 col1\" >0.6412</td>\n",
       "      <td id=\"T_a11c8_row1_col2\" class=\"data row1 col2\" >0.8056</td>\n",
       "      <td id=\"T_a11c8_row1_col3\" class=\"data row1 col3\" >0.8286</td>\n",
       "      <td id=\"T_a11c8_row1_col4\" class=\"data row1 col4\" >0.8169</td>\n",
       "      <td id=\"T_a11c8_row1_col5\" class=\"data row1 col5\" >0.2973</td>\n",
       "      <td id=\"T_a11c8_row1_col6\" class=\"data row1 col6\" >0.2977</td>\n",
       "    </tr>\n",
       "    <tr>\n",
       "      <th id=\"T_a11c8_level0_row2\" class=\"row_heading level0 row2\" >2</th>\n",
       "      <td id=\"T_a11c8_row2_col0\" class=\"data row2 col0\" >0.8750</td>\n",
       "      <td id=\"T_a11c8_row2_col1\" class=\"data row2 col1\" >0.8727</td>\n",
       "      <td id=\"T_a11c8_row2_col2\" class=\"data row2 col2\" >0.8889</td>\n",
       "      <td id=\"T_a11c8_row2_col3\" class=\"data row2 col3\" >0.9412</td>\n",
       "      <td id=\"T_a11c8_row2_col4\" class=\"data row2 col4\" >0.9143</td>\n",
       "      <td id=\"T_a11c8_row2_col5\" class=\"data row2 col5\" >0.6842</td>\n",
       "      <td id=\"T_a11c8_row2_col6\" class=\"data row2 col6\" >0.6880</td>\n",
       "    </tr>\n",
       "    <tr>\n",
       "      <th id=\"T_a11c8_level0_row3\" class=\"row_heading level0 row3\" >3</th>\n",
       "      <td id=\"T_a11c8_row3_col0\" class=\"data row3 col0\" >0.7292</td>\n",
       "      <td id=\"T_a11c8_row3_col1\" class=\"data row3 col1\" >0.7847</td>\n",
       "      <td id=\"T_a11c8_row3_col2\" class=\"data row3 col2\" >0.7222</td>\n",
       "      <td id=\"T_a11c8_row3_col3\" class=\"data row3 col3\" >0.8966</td>\n",
       "      <td id=\"T_a11c8_row3_col4\" class=\"data row3 col4\" >0.8000</td>\n",
       "      <td id=\"T_a11c8_row3_col5\" class=\"data row3 col5\" >0.3953</td>\n",
       "      <td id=\"T_a11c8_row3_col6\" class=\"data row3 col6\" >0.4181</td>\n",
       "    </tr>\n",
       "    <tr>\n",
       "      <th id=\"T_a11c8_level0_row4\" class=\"row_heading level0 row4\" >4</th>\n",
       "      <td id=\"T_a11c8_row4_col0\" class=\"data row4 col0\" >0.7083</td>\n",
       "      <td id=\"T_a11c8_row4_col1\" class=\"data row4 col1\" >0.7083</td>\n",
       "      <td id=\"T_a11c8_row4_col2\" class=\"data row4 col2\" >0.8333</td>\n",
       "      <td id=\"T_a11c8_row4_col3\" class=\"data row4 col3\" >0.7895</td>\n",
       "      <td id=\"T_a11c8_row4_col4\" class=\"data row4 col4\" >0.8108</td>\n",
       "      <td id=\"T_a11c8_row4_col5\" class=\"data row4 col5\" >0.1765</td>\n",
       "      <td id=\"T_a11c8_row4_col6\" class=\"data row4 col6\" >0.1777</td>\n",
       "    </tr>\n",
       "    <tr>\n",
       "      <th id=\"T_a11c8_level0_row5\" class=\"row_heading level0 row5\" >5</th>\n",
       "      <td id=\"T_a11c8_row5_col0\" class=\"data row5 col0\" >0.7872</td>\n",
       "      <td id=\"T_a11c8_row5_col1\" class=\"data row5 col1\" >0.8687</td>\n",
       "      <td id=\"T_a11c8_row5_col2\" class=\"data row5 col2\" >0.7778</td>\n",
       "      <td id=\"T_a11c8_row5_col3\" class=\"data row5 col3\" >0.9333</td>\n",
       "      <td id=\"T_a11c8_row5_col4\" class=\"data row5 col4\" >0.8485</td>\n",
       "      <td id=\"T_a11c8_row5_col5\" class=\"data row5 col5\" >0.5011</td>\n",
       "      <td id=\"T_a11c8_row5_col6\" class=\"data row5 col6\" >0.5251</td>\n",
       "    </tr>\n",
       "    <tr>\n",
       "      <th id=\"T_a11c8_level0_row6\" class=\"row_heading level0 row6\" >6</th>\n",
       "      <td id=\"T_a11c8_row6_col0\" class=\"data row6 col0\" >0.8085</td>\n",
       "      <td id=\"T_a11c8_row6_col1\" class=\"data row6 col1\" >0.8662</td>\n",
       "      <td id=\"T_a11c8_row6_col2\" class=\"data row6 col2\" >0.8056</td>\n",
       "      <td id=\"T_a11c8_row6_col3\" class=\"data row6 col3\" >0.9355</td>\n",
       "      <td id=\"T_a11c8_row6_col4\" class=\"data row6 col4\" >0.8657</td>\n",
       "      <td id=\"T_a11c8_row6_col5\" class=\"data row6 col5\" >0.5387</td>\n",
       "      <td id=\"T_a11c8_row6_col6\" class=\"data row6 col6\" >0.5573</td>\n",
       "    </tr>\n",
       "    <tr>\n",
       "      <th id=\"T_a11c8_level0_row7\" class=\"row_heading level0 row7\" >7</th>\n",
       "      <td id=\"T_a11c8_row7_col0\" class=\"data row7 col0\" >0.5957</td>\n",
       "      <td id=\"T_a11c8_row7_col1\" class=\"data row7 col1\" >0.5758</td>\n",
       "      <td id=\"T_a11c8_row7_col2\" class=\"data row7 col2\" >0.6944</td>\n",
       "      <td id=\"T_a11c8_row7_col3\" class=\"data row7 col3\" >0.7576</td>\n",
       "      <td id=\"T_a11c8_row7_col4\" class=\"data row7 col4\" >0.7246</td>\n",
       "      <td id=\"T_a11c8_row7_col5\" class=\"data row7 col5\" >-0.0300</td>\n",
       "      <td id=\"T_a11c8_row7_col6\" class=\"data row7 col6\" >-0.0304</td>\n",
       "    </tr>\n",
       "    <tr>\n",
       "      <th id=\"T_a11c8_level0_row8\" class=\"row_heading level0 row8\" >8</th>\n",
       "      <td id=\"T_a11c8_row8_col0\" class=\"data row8 col0\" >0.7447</td>\n",
       "      <td id=\"T_a11c8_row8_col1\" class=\"data row8 col1\" >0.7677</td>\n",
       "      <td id=\"T_a11c8_row8_col2\" class=\"data row8 col2\" >0.7500</td>\n",
       "      <td id=\"T_a11c8_row8_col3\" class=\"data row8 col3\" >0.9000</td>\n",
       "      <td id=\"T_a11c8_row8_col4\" class=\"data row8 col4\" >0.8182</td>\n",
       "      <td id=\"T_a11c8_row8_col5\" class=\"data row8 col5\" >0.4013</td>\n",
       "      <td id=\"T_a11c8_row8_col6\" class=\"data row8 col6\" >0.4206</td>\n",
       "    </tr>\n",
       "    <tr>\n",
       "      <th id=\"T_a11c8_level0_row9\" class=\"row_heading level0 row9\" >9</th>\n",
       "      <td id=\"T_a11c8_row9_col0\" class=\"data row9 col0\" >0.7021</td>\n",
       "      <td id=\"T_a11c8_row9_col1\" class=\"data row9 col1\" >0.7881</td>\n",
       "      <td id=\"T_a11c8_row9_col2\" class=\"data row9 col2\" >0.7143</td>\n",
       "      <td id=\"T_a11c8_row9_col3\" class=\"data row9 col3\" >0.8621</td>\n",
       "      <td id=\"T_a11c8_row9_col4\" class=\"data row9 col4\" >0.7813</td>\n",
       "      <td id=\"T_a11c8_row9_col5\" class=\"data row9 col5\" >0.3272</td>\n",
       "      <td id=\"T_a11c8_row9_col6\" class=\"data row9 col6\" >0.3417</td>\n",
       "    </tr>\n",
       "    <tr>\n",
       "      <th id=\"T_a11c8_level0_row10\" class=\"row_heading level0 row10\" >Mean</th>\n",
       "      <td id=\"T_a11c8_row10_col0\" class=\"data row10 col0\" >0.7409</td>\n",
       "      <td id=\"T_a11c8_row10_col1\" class=\"data row10 col1\" >0.7630</td>\n",
       "      <td id=\"T_a11c8_row10_col2\" class=\"data row10 col2\" >0.7742</td>\n",
       "      <td id=\"T_a11c8_row10_col3\" class=\"data row10 col3\" >0.8715</td>\n",
       "      <td id=\"T_a11c8_row10_col4\" class=\"data row10 col4\" >0.8186</td>\n",
       "      <td id=\"T_a11c8_row10_col5\" class=\"data row10 col5\" >0.3657</td>\n",
       "      <td id=\"T_a11c8_row10_col6\" class=\"data row10 col6\" >0.3773</td>\n",
       "    </tr>\n",
       "    <tr>\n",
       "      <th id=\"T_a11c8_level0_row11\" class=\"row_heading level0 row11\" >Std</th>\n",
       "      <td id=\"T_a11c8_row11_col0\" class=\"data row11 col0\" >0.0698</td>\n",
       "      <td id=\"T_a11c8_row11_col1\" class=\"data row11 col1\" >0.0937</td>\n",
       "      <td id=\"T_a11c8_row11_col2\" class=\"data row11 col2\" >0.0570</td>\n",
       "      <td id=\"T_a11c8_row11_col3\" class=\"data row11 col3\" >0.0599</td>\n",
       "      <td id=\"T_a11c8_row11_col4\" class=\"data row11 col4\" >0.0480</td>\n",
       "      <td id=\"T_a11c8_row11_col5\" class=\"data row11 col5\" >0.1872</td>\n",
       "      <td id=\"T_a11c8_row11_col6\" class=\"data row11 col6\" >0.1918</td>\n",
       "    </tr>\n",
       "  </tbody>\n",
       "</table>\n"
      ],
      "text/plain": [
       "<pandas.io.formats.style.Styler at 0x7f9b20ba53a0>"
      ]
     },
     "metadata": {},
     "output_type": "display_data"
    },
    {
     "data": {
      "application/vnd.jupyter.widget-view+json": {
       "model_id": "",
       "version_major": 2,
       "version_minor": 0
      },
      "text/plain": [
       "Processing:   0%|          | 0/7 [00:00<?, ?it/s]"
      ]
     },
     "metadata": {},
     "output_type": "display_data"
    },
    {
     "name": "stdout",
     "output_type": "stream",
     "text": [
      "Fitting 10 folds for each of 10 candidates, totalling 100 fits\n",
      "Original model was better than the tuned model, hence it will be returned. NOTE: The display metrics are for the tuned model (not the original one).\n"
     ]
    }
   ],
   "source": [
    "tuned_extraTreesClassifier = tune_model(extraTreesClassifier)"
   ]
  },
  {
   "cell_type": "markdown",
   "id": "3380243e",
   "metadata": {
    "papermill": {
     "duration": 0.102007,
     "end_time": "2021-08-22T13:47:30.991146",
     "exception": false,
     "start_time": "2021-08-22T13:47:30.889139",
     "status": "completed"
    },
    "tags": []
   },
   "source": [
    "### Evaluate training performance"
   ]
  },
  {
   "cell_type": "code",
   "execution_count": 10,
   "id": "fcd88ce5",
   "metadata": {
    "execution": {
     "iopub.execute_input": "2021-08-22T13:47:31.200836Z",
     "iopub.status.busy": "2021-08-22T13:47:31.199796Z",
     "iopub.status.idle": "2021-08-22T13:47:31.746134Z",
     "shell.execute_reply": "2021-08-22T13:47:31.745524Z",
     "shell.execute_reply.started": "2021-08-22T13:14:49.260109Z"
    },
    "papermill": {
     "duration": 0.654862,
     "end_time": "2021-08-22T13:47:31.746278",
     "exception": false,
     "start_time": "2021-08-22T13:47:31.091416",
     "status": "completed"
    },
    "tags": []
   },
   "outputs": [
    {
     "data": {
      "text/html": [],
      "text/plain": [
       "<IPython.core.display.HTML object>"
      ]
     },
     "metadata": {},
     "output_type": "display_data"
    },
    {
     "data": {
      "image/png": "[encoded data removed]",
      "text/plain": [
       "<Figure size 800x550 with 1 Axes>"
      ]
     },
     "metadata": {},
     "output_type": "display_data"
    }
   ],
   "source": [
    "plot_model(tuned_extraTreesClassifier, plot = 'auc')"
   ]
  },
  {
   "cell_type": "code",
   "execution_count": 11,
   "id": "c47552b8",
   "metadata": {
    "execution": {
     "iopub.execute_input": "2021-08-22T13:47:31.959008Z",
     "iopub.status.busy": "2021-08-22T13:47:31.957877Z",
     "iopub.status.idle": "2021-08-22T13:47:32.389992Z",
     "shell.execute_reply": "2021-08-22T13:47:32.390595Z",
     "shell.execute_reply.started": "2021-08-22T13:15:15.461989Z"
    },
    "papermill": {
     "duration": 0.540823,
     "end_time": "2021-08-22T13:47:32.390805",
     "exception": false,
     "start_time": "2021-08-22T13:47:31.849982",
     "status": "completed"
    },
    "tags": []
   },
   "outputs": [
    {
     "data": {
      "text/html": [],
      "text/plain": [
       "<IPython.core.display.HTML object>"
      ]
     },
     "metadata": {},
     "output_type": "display_data"
    },
    {
     "data": {
      "image/png": "[encoded data removed]",
      "text/plain": [
       "<Figure size 800x500 with 1 Axes>"
      ]
     },
     "metadata": {},
     "output_type": "display_data"
    }
   ],
   "source": [
    "plot_model(tuned_extraTreesClassifier, plot='feature')"
   ]
  },
  {
   "cell_type": "code",
   "execution_count": 12,
   "id": "8e7425d9",
   "metadata": {
    "execution": {
     "iopub.execute_input": "2021-08-22T13:47:32.607570Z",
     "iopub.status.busy": "2021-08-22T13:47:32.606490Z",
     "iopub.status.idle": "2021-08-22T13:47:33.058549Z",
     "shell.execute_reply": "2021-08-22T13:47:33.057924Z",
     "shell.execute_reply.started": "2021-08-22T13:15:28.271972Z"
    },
    "papermill": {
     "duration": 0.562407,
     "end_time": "2021-08-22T13:47:33.058706",
     "exception": false,
     "start_time": "2021-08-22T13:47:32.496299",
     "status": "completed"
    },
    "tags": []
   },
   "outputs": [
    {
     "data": {
      "text/html": [],
      "text/plain": [
       "<IPython.core.display.HTML object>"
      ]
     },
     "metadata": {},
     "output_type": "display_data"
    },
    {
     "data": {
      "image/png": "[encoded data removed]",
      "text/plain": [
       "<Figure size 800x550 with 1 Axes>"
      ]
     },
     "metadata": {},
     "output_type": "display_data"
    }
   ],
   "source": [
    "plot_model(tuned_extraTreesClassifier, plot = 'confusion_matrix')"
   ]
  },
  {
   "cell_type": "markdown",
   "id": "320d3996",
   "metadata": {
    "papermill": {
     "duration": 0.108411,
     "end_time": "2021-08-22T13:47:33.275181",
     "exception": false,
     "start_time": "2021-08-22T13:47:33.166770",
     "status": "completed"
    },
    "tags": []
   },
   "source": [
    "### Evaluate on unseen data"
   ]
  },
  {
   "cell_type": "code",
   "execution_count": 13,
   "id": "a37f0e61",
   "metadata": {
    "execution": {
     "iopub.execute_input": "2021-08-22T13:47:33.493312Z",
     "iopub.status.busy": "2021-08-22T13:47:33.492338Z",
     "iopub.status.idle": "2021-08-22T13:47:41.685389Z",
     "shell.execute_reply": "2021-08-22T13:47:41.684146Z",
     "shell.execute_reply.started": "2021-08-22T13:17:36.856141Z"
    },
    "papermill": {
     "duration": 8.302262,
     "end_time": "2021-08-22T13:47:41.685562",
     "exception": false,
     "start_time": "2021-08-22T13:47:33.383300",
     "status": "completed"
    },
    "tags": []
   },
   "outputs": [],
   "source": [
    "final_extraTreesClassifier = finalize_model(tuned_extraTreesClassifier)"
   ]
  },
  {
   "cell_type": "code",
   "execution_count": 14,
   "id": "c1461eb0",
   "metadata": {
    "execution": {
     "iopub.execute_input": "2021-08-22T13:47:41.904780Z",
     "iopub.status.busy": "2021-08-22T13:47:41.903713Z",
     "iopub.status.idle": "2021-08-22T13:47:42.428832Z",
     "shell.execute_reply": "2021-08-22T13:47:42.429391Z",
     "shell.execute_reply.started": "2021-08-22T13:17:41.309142Z"
    },
    "papermill": {
     "duration": 0.637375,
     "end_time": "2021-08-22T13:47:42.429556",
     "exception": false,
     "start_time": "2021-08-22T13:47:41.792181",
     "status": "completed"
    },
    "tags": []
   },
   "outputs": [
    {
     "data": {
      "text/html": [
       "<style type=\"text/css\">\n",
       "</style>\n",
       "<table id=\"T_3d686\">\n",
       "  <thead>\n",
       "    <tr>\n",
       "      <th class=\"blank level0\" >&nbsp;</th>\n",
       "      <th id=\"T_3d686_level0_col0\" class=\"col_heading level0 col0\" >Model</th>\n",
       "      <th id=\"T_3d686_level0_col1\" class=\"col_heading level0 col1\" >Accuracy</th>\n",
       "      <th id=\"T_3d686_level0_col2\" class=\"col_heading level0 col2\" >AUC</th>\n",
       "      <th id=\"T_3d686_level0_col3\" class=\"col_heading level0 col3\" >Recall</th>\n",
       "      <th id=\"T_3d686_level0_col4\" class=\"col_heading level0 col4\" >Prec.</th>\n",
       "      <th id=\"T_3d686_level0_col5\" class=\"col_heading level0 col5\" >F1</th>\n",
       "      <th id=\"T_3d686_level0_col6\" class=\"col_heading level0 col6\" >Kappa</th>\n",
       "      <th id=\"T_3d686_level0_col7\" class=\"col_heading level0 col7\" >MCC</th>\n",
       "    </tr>\n",
       "  </thead>\n",
       "  <tbody>\n",
       "    <tr>\n",
       "      <th id=\"T_3d686_level0_row0\" class=\"row_heading level0 row0\" >0</th>\n",
       "      <td id=\"T_3d686_row0_col0\" class=\"data row0 col0\" >Extra Trees Classifier</td>\n",
       "      <td id=\"T_3d686_row0_col1\" class=\"data row0 col1\" >0.7368</td>\n",
       "      <td id=\"T_3d686_row0_col2\" class=\"data row0 col2\" >0.8296</td>\n",
       "      <td id=\"T_3d686_row0_col3\" class=\"data row0 col3\" >0.8200</td>\n",
       "      <td id=\"T_3d686_row0_col4\" class=\"data row0 col4\" >0.7885</td>\n",
       "      <td id=\"T_3d686_row0_col5\" class=\"data row0 col5\" >0.8039</td>\n",
       "      <td id=\"T_3d686_row0_col6\" class=\"data row0 col6\" >0.4044</td>\n",
       "      <td id=\"T_3d686_row0_col7\" class=\"data row0 col7\" >0.4051</td>\n",
       "    </tr>\n",
       "  </tbody>\n",
       "</table>\n"
      ],
      "text/plain": [
       "<pandas.io.formats.style.Styler at 0x7f9b23566a30>"
      ]
     },
     "metadata": {},
     "output_type": "display_data"
    },
    {
     "name": "stdout",
     "output_type": "stream",
     "text": [
      "              precision    recall  f1-score   support\n",
      "\n",
      "   parkinson       0.62      0.58      0.60        26\n",
      "      normal       0.79      0.82      0.80        50\n",
      "\n",
      "    accuracy                           0.74        76\n",
      "   macro avg       0.71      0.70      0.70        76\n",
      "weighted avg       0.73      0.74      0.73        76\n",
      "\n"
     ]
    },
    {
     "data": {
      "image/png": "[encoded data removed]",
      "text/plain": [
       "<Figure size 800x800 with 2 Axes>"
      ]
     },
     "metadata": {},
     "output_type": "display_data"
    }
   ],
   "source": [
    "unseen_predictions = predict_model(final_extraTreesClassifier, data=test_df)\n",
    "class_names=['parkinson', 'normal']\n",
    "print(classification_report(unseen_predictions['status'].values, unseen_predictions['prediction_label'].values, target_names=class_names,zero_division=0))\n",
    "cm = skplt.metrics.plot_confusion_matrix(unseen_predictions['status'].values, unseen_predictions['prediction_label'].values, figsize=(8, 8), normalize=False)\n",
    "\n",
    "\n"
   ]
  },
  {
   "cell_type": "code",
   "execution_count": null,
   "id": "b51b8068",
   "metadata": {},
   "outputs": [],
   "source": []
  }
 ],
 "metadata": {
  "kernelspec": {
   "display_name": "Python 3 (ipykernel)",
   "language": "python",
   "name": "python3"
  },
  "language_info": {
   "codemirror_mode": {
    "name": "ipython",
    "version": 3
   },
   "file_extension": ".py",
   "mimetype": "text/x-python",
   "name": "python",
   "nbconvert_exporter": "python",
   "pygments_lexer": "ipython3",
   "version": "3.9.13"
  },
  "papermill": {
   "default_parameters": {},
   "duration": 298.941153,
   "end_time": "2021-08-22T13:47:44.228238",
   "environment_variables": {},
   "exception": null,
   "input_path": "__notebook__.ipynb",
   "output_path": "__notebook__.ipynb",
   "parameters": {},
   "start_time": "2021-08-22T13:42:45.287085",
   "version": "2.3.3"
  },
  "widgets": {
   "application/vnd.jupyter.widget-state+json": {
    "state": {
     "035b8d4e2a0944a38fd416015875fc01": {
      "model_module": "@jupyter-widgets/controls",
      "model_module_version": "1.5.0",
      "model_name": "ProgressStyleModel",
      "state": {
       "_model_module": "@jupyter-widgets/controls",
       "_model_module_version": "1.5.0",
       "_model_name": "ProgressStyleModel",
       "_view_count": null,
       "_view_module": "@jupyter-widgets/base",
       "_view_module_version": "1.2.0",
       "_view_name": "StyleView",
       "bar_color": null,
       "description_width": ""
      }
     },
     "052d19a51cfe403889db0bbe64cf3723": {
      "model_module": "@jupyter-widgets/controls",
      "model_module_version": "1.5.0",
      "model_name": "ProgressStyleModel",
      "state": {
       "_model_module": "@jupyter-widgets/controls",
       "_model_module_version": "1.5.0",
       "_model_name": "ProgressStyleModel",
       "_view_count": null,
       "_view_module": "@jupyter-widgets/base",
       "_view_module_version": "1.2.0",
       "_view_name": "StyleView",
       "bar_color": null,
       "description_width": ""
      }
     },
     "147b4a78439a47289028a11567580a8e": {
      "model_module": "@jupyter-widgets/controls",
      "model_module_version": "1.5.0",
      "model_name": "IntProgressModel",
      "state": {
       "_dom_classes": [],
       "_model_module": "@jupyter-widgets/controls",
       "_model_module_version": "1.5.0",
       "_model_name": "IntProgressModel",
       "_view_count": null,
       "_view_module": "@jupyter-widgets/controls",
       "_view_module_version": "1.5.0",
       "_view_name": "ProgressView",
       "bar_style": "",
       "description": "Processing: ",
       "description_tooltip": null,
       "layout": "IPY_MODEL_eb59459a75a84910aaf81ba968ab8127",
       "max": 4,
       "min": 0,
       "orientation": "horizontal",
       "style": "IPY_MODEL_87d5f99f57ab4f93b7e0c66282101155",
       "value": 4
      }
     },
     "16bbef21f0404c12aa4c817c4509ee16": {
      "model_module": "@jupyter-widgets/controls",
      "model_module_version": "1.5.0",
      "model_name": "IntProgressModel",
      "state": {
       "_dom_classes": [],
       "_model_module": "@jupyter-widgets/controls",
       "_model_module_version": "1.5.0",
       "_model_name": "IntProgressModel",
       "_view_count": null,
       "_view_module": "@jupyter-widgets/controls",
       "_view_module_version": "1.5.0",
       "_view_name": "ProgressView",
       "bar_style": "",
       "description": "Processing: ",
       "description_tooltip": null,
       "layout": "IPY_MODEL_f1c939f760614877acbf453936fe56ef",
       "max": 7,
       "min": 0,
       "orientation": "horizontal",
       "style": "IPY_MODEL_035b8d4e2a0944a38fd416015875fc01",
       "value": 7
      }
     },
     "19d065991c39458882b474091a332d91": {
      "model_module": "@jupyter-widgets/controls",
      "model_module_version": "1.5.0",
      "model_name": "IntProgressModel",
      "state": {
       "_dom_classes": [],
       "_model_module": "@jupyter-widgets/controls",
       "_model_module_version": "1.5.0",
       "_model_name": "IntProgressModel",
       "_view_count": null,
       "_view_module": "@jupyter-widgets/controls",
       "_view_module_version": "1.5.0",
       "_view_name": "ProgressView",
       "bar_style": "",
       "description": "Processing: ",
       "description_tooltip": null,
       "layout": "IPY_MODEL_7b26883a77e649b9b3f2991e16366058",
       "max": 79,
       "min": 0,
       "orientation": "horizontal",
       "style": "IPY_MODEL_49ed2feff02b4b24bed3cb497e5bacde",
       "value": 79
      }
     },
     "27b68a4a3ff140d280739de04b5b5246": {
      "model_module": "@jupyter-widgets/controls",
      "model_module_version": "1.5.0",
      "model_name": "IntProgressModel",
      "state": {
       "_dom_classes": [],
       "_model_module": "@jupyter-widgets/controls",
       "_model_module_version": "1.5.0",
       "_model_name": "IntProgressModel",
       "_view_count": null,
       "_view_module": "@jupyter-widgets/controls",
       "_view_module_version": "1.5.0",
       "_view_name": "ProgressView",
       "bar_style": "",
       "description": "Processing: ",
       "description_tooltip": null,
       "layout": "IPY_MODEL_618b16e4208348188b303934c82d4777",
       "max": 5,
       "min": 0,
       "orientation": "horizontal",
       "style": "IPY_MODEL_052d19a51cfe403889db0bbe64cf3723",
       "value": 5
      }
     },
     "3035fd8f45b543abaa36cb283c82e730": {
      "model_module": "@jupyter-widgets/base",
      "model_module_version": "1.2.0",
      "model_name": "LayoutModel",
      "state": {
       "_model_module": "@jupyter-widgets/base",
       "_model_module_version": "1.2.0",
       "_model_name": "LayoutModel",
       "_view_count": null,
       "_view_module": "@jupyter-widgets/base",
       "_view_module_version": "1.2.0",
       "_view_name": "LayoutView",
       "align_content": null,
       "align_items": null,
       "align_self": null,
       "border": null,
       "bottom": null,
       "display": null,
       "flex": null,
       "flex_flow": null,
       "grid_area": null,
       "grid_auto_columns": null,
       "grid_auto_flow": null,
       "grid_auto_rows": null,
       "grid_column": null,
       "grid_gap": null,
       "grid_row": null,
       "grid_template_areas": null,
       "grid_template_columns": null,
       "grid_template_rows": null,
       "height": null,
       "justify_content": null,
       "justify_items": null,
       "left": null,
       "margin": null,
       "max_height": null,
       "max_width": null,
       "min_height": null,
       "min_width": null,
       "object_fit": null,
       "object_position": null,
       "order": null,
       "overflow": null,
       "overflow_x": null,
       "overflow_y": null,
       "padding": null,
       "right": null,
       "top": null,
       "visibility": null,
       "width": null
      }
     },
     "3ee7284611a749b89ad546bc5da5b5d8": {
      "model_module": "@jupyter-widgets/base",
      "model_module_version": "1.2.0",
      "model_name": "LayoutModel",
      "state": {
       "_model_module": "@jupyter-widgets/base",
       "_model_module_version": "1.2.0",
       "_model_name": "LayoutModel",
       "_view_count": null,
       "_view_module": "@jupyter-widgets/base",
       "_view_module_version": "1.2.0",
       "_view_name": "LayoutView",
       "align_content": null,
       "align_items": null,
       "align_self": null,
       "border": null,
       "bottom": null,
       "display": null,
       "flex": null,
       "flex_flow": null,
       "grid_area": null,
       "grid_auto_columns": null,
       "grid_auto_flow": null,
       "grid_auto_rows": null,
       "grid_column": null,
       "grid_gap": null,
       "grid_row": null,
       "grid_template_areas": null,
       "grid_template_columns": null,
       "grid_template_rows": null,
       "height": null,
       "justify_content": null,
       "justify_items": null,
       "left": null,
       "margin": null,
       "max_height": null,
       "max_width": null,
       "min_height": null,
       "min_width": null,
       "object_fit": null,
       "object_position": null,
       "order": null,
       "overflow": null,
       "overflow_x": null,
       "overflow_y": null,
       "padding": null,
       "right": null,
       "top": null,
       "visibility": null,
       "width": null
      }
     },
     "426c3d5a769b4eacba24d6ec72b50f32": {
      "model_module": "@jupyter-widgets/controls",
      "model_module_version": "1.5.0",
      "model_name": "IntProgressModel",
      "state": {
       "_dom_classes": [],
       "_model_module": "@jupyter-widgets/controls",
       "_model_module_version": "1.5.0",
       "_model_name": "IntProgressModel",
       "_view_count": null,
       "_view_module": "@jupyter-widgets/controls",
       "_view_module_version": "1.5.0",
       "_view_name": "ProgressView",
       "bar_style": "",
       "description": "Processing: ",
       "description_tooltip": null,
       "layout": "IPY_MODEL_3ee7284611a749b89ad546bc5da5b5d8",
       "max": 3,
       "min": 0,
       "orientation": "horizontal",
       "style": "IPY_MODEL_d579433ba89e4304a64d535bd7d10612",
       "value": 3
      }
     },
     "49ed2feff02b4b24bed3cb497e5bacde": {
      "model_module": "@jupyter-widgets/controls",
      "model_module_version": "1.5.0",
      "model_name": "ProgressStyleModel",
      "state": {
       "_model_module": "@jupyter-widgets/controls",
       "_model_module_version": "1.5.0",
       "_model_name": "ProgressStyleModel",
       "_view_count": null,
       "_view_module": "@jupyter-widgets/base",
       "_view_module_version": "1.2.0",
       "_view_name": "StyleView",
       "bar_color": null,
       "description_width": ""
      }
     },
     "618b16e4208348188b303934c82d4777": {
      "model_module": "@jupyter-widgets/base",
      "model_module_version": "1.2.0",
      "model_name": "LayoutModel",
      "state": {
       "_model_module": "@jupyter-widgets/base",
       "_model_module_version": "1.2.0",
       "_model_name": "LayoutModel",
       "_view_count": null,
       "_view_module": "@jupyter-widgets/base",
       "_view_module_version": "1.2.0",
       "_view_name": "LayoutView",
       "align_content": null,
       "align_items": null,
       "align_self": null,
       "border": null,
       "bottom": null,
       "display": null,
       "flex": null,
       "flex_flow": null,
       "grid_area": null,
       "grid_auto_columns": null,
       "grid_auto_flow": null,
       "grid_auto_rows": null,
       "grid_column": null,
       "grid_gap": null,
       "grid_row": null,
       "grid_template_areas": null,
       "grid_template_columns": null,
       "grid_template_rows": null,
       "height": null,
       "justify_content": null,
       "justify_items": null,
       "left": null,
       "margin": null,
       "max_height": null,
       "max_width": null,
       "min_height": null,
       "min_width": null,
       "object_fit": null,
       "object_position": null,
       "order": null,
       "overflow": null,
       "overflow_x": null,
       "overflow_y": null,
       "padding": null,
       "right": null,
       "top": null,
       "visibility": null,
       "width": null
      }
     },
     "6fc5642421ad418b8e14848877293105": {
      "model_module": "@jupyter-widgets/base",
      "model_module_version": "1.2.0",
      "model_name": "LayoutModel",
      "state": {
       "_model_module": "@jupyter-widgets/base",
       "_model_module_version": "1.2.0",
       "_model_name": "LayoutModel",
       "_view_count": null,
       "_view_module": "@jupyter-widgets/base",
       "_view_module_version": "1.2.0",
       "_view_name": "LayoutView",
       "align_content": null,
       "align_items": null,
       "align_self": null,
       "border": null,
       "bottom": null,
       "display": null,
       "flex": null,
       "flex_flow": null,
       "grid_area": null,
       "grid_auto_columns": null,
       "grid_auto_flow": null,
       "grid_auto_rows": null,
       "grid_column": null,
       "grid_gap": null,
       "grid_row": null,
       "grid_template_areas": null,
       "grid_template_columns": null,
       "grid_template_rows": null,
       "height": null,
       "justify_content": null,
       "justify_items": null,
       "left": null,
       "margin": null,
       "max_height": null,
       "max_width": null,
       "min_height": null,
       "min_width": null,
       "object_fit": null,
       "object_position": null,
       "order": null,
       "overflow": null,
       "overflow_x": null,
       "overflow_y": null,
       "padding": null,
       "right": null,
       "top": null,
       "visibility": null,
       "width": null
      }
     },
     "75bc9d70bcb142fa9496f98087dd17ed": {
      "model_module": "@jupyter-widgets/controls",
      "model_module_version": "1.5.0",
      "model_name": "ProgressStyleModel",
      "state": {
       "_model_module": "@jupyter-widgets/controls",
       "_model_module_version": "1.5.0",
       "_model_name": "ProgressStyleModel",
       "_view_count": null,
       "_view_module": "@jupyter-widgets/base",
       "_view_module_version": "1.2.0",
       "_view_name": "StyleView",
       "bar_color": null,
       "description_width": ""
      }
     },
     "7b26883a77e649b9b3f2991e16366058": {
      "model_module": "@jupyter-widgets/base",
      "model_module_version": "1.2.0",
      "model_name": "LayoutModel",
      "state": {
       "_model_module": "@jupyter-widgets/base",
       "_model_module_version": "1.2.0",
       "_model_name": "LayoutModel",
       "_view_count": null,
       "_view_module": "@jupyter-widgets/base",
       "_view_module_version": "1.2.0",
       "_view_name": "LayoutView",
       "align_content": null,
       "align_items": null,
       "align_self": null,
       "border": null,
       "bottom": null,
       "display": null,
       "flex": null,
       "flex_flow": null,
       "grid_area": null,
       "grid_auto_columns": null,
       "grid_auto_flow": null,
       "grid_auto_rows": null,
       "grid_column": null,
       "grid_gap": null,
       "grid_row": null,
       "grid_template_areas": null,
       "grid_template_columns": null,
       "grid_template_rows": null,
       "height": null,
       "justify_content": null,
       "justify_items": null,
       "left": null,
       "margin": null,
       "max_height": null,
       "max_width": null,
       "min_height": null,
       "min_width": null,
       "object_fit": null,
       "object_position": null,
       "order": null,
       "overflow": null,
       "overflow_x": null,
       "overflow_y": null,
       "padding": null,
       "right": null,
       "top": null,
       "visibility": null,
       "width": null
      }
     },
     "87d5f99f57ab4f93b7e0c66282101155": {
      "model_module": "@jupyter-widgets/controls",
      "model_module_version": "1.5.0",
      "model_name": "ProgressStyleModel",
      "state": {
       "_model_module": "@jupyter-widgets/controls",
       "_model_module_version": "1.5.0",
       "_model_name": "ProgressStyleModel",
       "_view_count": null,
       "_view_module": "@jupyter-widgets/base",
       "_view_module_version": "1.2.0",
       "_view_name": "StyleView",
       "bar_color": null,
       "description_width": ""
      }
     },
     "ab12ccdd12c74e88b0baad0bc129cba9": {
      "model_module": "@jupyter-widgets/controls",
      "model_module_version": "1.5.0",
      "model_name": "IntProgressModel",
      "state": {
       "_dom_classes": [],
       "_model_module": "@jupyter-widgets/controls",
       "_model_module_version": "1.5.0",
       "_model_name": "IntProgressModel",
       "_view_count": null,
       "_view_module": "@jupyter-widgets/controls",
       "_view_module_version": "1.5.0",
       "_view_name": "ProgressView",
       "bar_style": "",
       "description": "Processing: ",
       "description_tooltip": null,
       "layout": "IPY_MODEL_3035fd8f45b543abaa36cb283c82e730",
       "max": 5,
       "min": 0,
       "orientation": "horizontal",
       "style": "IPY_MODEL_75bc9d70bcb142fa9496f98087dd17ed",
       "value": 5
      }
     },
     "d338357ef5d740bfbf7c820ad8a65b00": {
      "model_module": "@jupyter-widgets/controls",
      "model_module_version": "1.5.0",
      "model_name": "ProgressStyleModel",
      "state": {
       "_model_module": "@jupyter-widgets/controls",
       "_model_module_version": "1.5.0",
       "_model_name": "ProgressStyleModel",
       "_view_count": null,
       "_view_module": "@jupyter-widgets/base",
       "_view_module_version": "1.2.0",
       "_view_name": "StyleView",
       "bar_color": null,
       "description_width": ""
      }
     },
     "d579433ba89e4304a64d535bd7d10612": {
      "model_module": "@jupyter-widgets/controls",
      "model_module_version": "1.5.0",
      "model_name": "ProgressStyleModel",
      "state": {
       "_model_module": "@jupyter-widgets/controls",
       "_model_module_version": "1.5.0",
       "_model_name": "ProgressStyleModel",
       "_view_count": null,
       "_view_module": "@jupyter-widgets/base",
       "_view_module_version": "1.2.0",
       "_view_name": "StyleView",
       "bar_color": null,
       "description_width": ""
      }
     },
     "eb59459a75a84910aaf81ba968ab8127": {
      "model_module": "@jupyter-widgets/base",
      "model_module_version": "1.2.0",
      "model_name": "LayoutModel",
      "state": {
       "_model_module": "@jupyter-widgets/base",
       "_model_module_version": "1.2.0",
       "_model_name": "LayoutModel",
       "_view_count": null,
       "_view_module": "@jupyter-widgets/base",
       "_view_module_version": "1.2.0",
       "_view_name": "LayoutView",
       "align_content": null,
       "align_items": null,
       "align_self": null,
       "border": null,
       "bottom": null,
       "display": null,
       "flex": null,
       "flex_flow": null,
       "grid_area": null,
       "grid_auto_columns": null,
       "grid_auto_flow": null,
       "grid_auto_rows": null,
       "grid_column": null,
       "grid_gap": null,
       "grid_row": null,
       "grid_template_areas": null,
       "grid_template_columns": null,
       "grid_template_rows": null,
       "height": null,
       "justify_content": null,
       "justify_items": null,
       "left": null,
       "margin": null,
       "max_height": null,
       "max_width": null,
       "min_height": null,
       "min_width": null,
       "object_fit": null,
       "object_position": null,
       "order": null,
       "overflow": null,
       "overflow_x": null,
       "overflow_y": null,
       "padding": null,
       "right": null,
       "top": null,
       "visibility": null,
       "width": null
      }
     },
     "f1c939f760614877acbf453936fe56ef": {
      "model_module": "@jupyter-widgets/base",
      "model_module_version": "1.2.0",
      "model_name": "LayoutModel",
      "state": {
       "_model_module": "@jupyter-widgets/base",
       "_model_module_version": "1.2.0",
       "_model_name": "LayoutModel",
       "_view_count": null,
       "_view_module": "@jupyter-widgets/base",
       "_view_module_version": "1.2.0",
       "_view_name": "LayoutView",
       "align_content": null,
       "align_items": null,
       "align_self": null,
       "border": null,
       "bottom": null,
       "display": null,
       "flex": null,
       "flex_flow": null,
       "grid_area": null,
       "grid_auto_columns": null,
       "grid_auto_flow": null,
       "grid_auto_rows": null,
       "grid_column": null,
       "grid_gap": null,
       "grid_row": null,
       "grid_template_areas": null,
       "grid_template_columns": null,
       "grid_template_rows": null,
       "height": null,
       "justify_content": null,
       "justify_items": null,
       "left": null,
       "margin": null,
       "max_height": null,
       "max_width": null,
       "min_height": null,
       "min_width": null,
       "object_fit": null,
       "object_position": null,
       "order": null,
       "overflow": null,
       "overflow_x": null,
       "overflow_y": null,
       "padding": null,
       "right": null,
       "top": null,
       "visibility": null,
       "width": null
      }
     },
     "f315e91395ea4035a2fdd7f47671ffb0": {
      "model_module": "@jupyter-widgets/controls",
      "model_module_version": "1.5.0",
      "model_name": "IntProgressModel",
      "state": {
       "_dom_classes": [],
       "_model_module": "@jupyter-widgets/controls",
       "_model_module_version": "1.5.0",
       "_model_name": "IntProgressModel",
       "_view_count": null,
       "_view_module": "@jupyter-widgets/controls",
       "_view_module_version": "1.5.0",
       "_view_name": "ProgressView",
       "bar_style": "",
       "description": "Processing: ",
       "description_tooltip": null,
       "layout": "IPY_MODEL_6fc5642421ad418b8e14848877293105",
       "max": 5,
       "min": 0,
       "orientation": "horizontal",
       "style": "IPY_MODEL_d338357ef5d740bfbf7c820ad8a65b00",
       "value": 5
      }
     }
    },
    "version_major": 2,
    "version_minor": 0
   }
  }
 },
 "nbformat": 4,
 "nbformat_minor": 5
}
